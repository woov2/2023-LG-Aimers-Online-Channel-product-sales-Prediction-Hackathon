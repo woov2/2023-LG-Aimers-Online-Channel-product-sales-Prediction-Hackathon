{
 "cells": [
  {
   "cell_type": "markdown",
   "id": "e3c96895",
   "metadata": {},
   "source": [
    "# ***대분류 3번 집중 모델링***"
   ]
  },
  {
   "cell_type": "code",
   "execution_count": null,
   "id": "09b48e71",
   "metadata": {},
   "outputs": [],
   "source": [
    "import random\n",
    "import os\n",
    "import pandas as pd\n",
    "import numpy as np\n",
    "from tqdm.auto import tqdm\n",
    "from sklearn.preprocessing import LabelEncoder\n",
    "\n",
    "import torch\n",
    "import torch.nn as nn\n",
    "import torch.optim as optim\n",
    "import torch.nn.functional as F\n",
    "from torch.utils.data import Dataset, DataLoader\n",
    "\n",
    "import plotly.express as px\n",
    "import matplotlib.pyplot as plt \n",
    "\n",
    "from prophet import Prophet"
   ]
  },
  {
   "cell_type": "markdown",
   "id": "d358949f",
   "metadata": {},
   "source": [
    "# ***Read Data***"
   ]
  },
  {
   "cell_type": "code",
   "execution_count": null,
   "id": "409bded9",
   "metadata": {},
   "outputs": [],
   "source": [
    "train_data = pd.read_csv(os.path.abspath(\"./data\")+\"/train.csv\")\n",
    "keyword = pd.read_csv(os.path.abspath(\"./data\")+\"/brand_keyword_cnt.csv\")\n",
    "product = pd.read_csv(os.path.abspath(\"./data\")+\"/product_info.csv\")\n",
    "sales = pd.read_csv(os.path.abspath(\"./data\")+\"/sales.csv\")"
   ]
  },
  {
   "cell_type": "code",
   "execution_count": null,
   "id": "ef4468cb",
   "metadata": {},
   "outputs": [],
   "source": [
    "submission = pd.read_csv(os.path.abspath(\"./submission\")+\"/20230811_first.csv\")"
   ]
  },
  {
   "cell_type": "markdown",
   "id": "2f1567c2",
   "metadata": {},
   "source": [
    "***"
   ]
  },
  {
   "cell_type": "code",
   "execution_count": null,
   "id": "3cc55737",
   "metadata": {},
   "outputs": [],
   "source": [
    "data_3 = train_data[train_data['대분류'] == 'B002-C001-0003']"
   ]
  },
  {
   "cell_type": "code",
   "execution_count": null,
   "id": "4be6f27b",
   "metadata": {},
   "outputs": [],
   "source": [
    "data_3['중분류'].value_counts()"
   ]
  },
  {
   "cell_type": "markdown",
   "id": "4f325781",
   "metadata": {},
   "source": [
    "## ***About Product***\n",
    "***"
   ]
  },
  {
   "cell_type": "markdown",
   "id": "b48b2437",
   "metadata": {},
   "source": [
    "### ***중분류 B002-C002-0008***\n",
    "  \n",
    "#### 유아식기 관련 용품"
   ]
  },
  {
   "cell_type": "code",
   "execution_count": null,
   "id": "7902f144",
   "metadata": {},
   "outputs": [],
   "source": [
    "data_3_1 = data_3[data_3['중분류'] == 'B002-C002-0008']"
   ]
  },
  {
   "cell_type": "code",
   "execution_count": null,
   "id": "ad19b556",
   "metadata": {},
   "outputs": [],
   "source": [
    "lst_3_1 = data_3_1['제품'].value_counts().index.tolist()"
   ]
  },
  {
   "cell_type": "code",
   "execution_count": null,
   "id": "be505020",
   "metadata": {},
   "outputs": [],
   "source": [
    "product_3_1 = product[product['제품'].isin(lst_3_1)]"
   ]
  },
  {
   "cell_type": "code",
   "execution_count": null,
   "id": "5be536e1",
   "metadata": {},
   "outputs": [],
   "source": [
    "data_3_1['소분류'].value_counts()"
   ]
  },
  {
   "cell_type": "markdown",
   "id": "7f00b627",
   "metadata": {},
   "source": [
    "##### 정리\n",
    "\n",
    "    B002-C003-0044   |   유아식기\n",
    "    B002-C003-0043   |   젖병\n",
    "    B002-C003-0042   |   젖병건조용품"
   ]
  },
  {
   "cell_type": "markdown",
   "id": "fc6d0462",
   "metadata": {},
   "source": [
    "***\n",
    "### ***중분류 B002-C002-0010***\n",
    "  \n",
    "#### 유아식기 관련 용품"
   ]
  },
  {
   "cell_type": "code",
   "execution_count": null,
   "id": "b4138eda",
   "metadata": {},
   "outputs": [],
   "source": [
    "data_3_2 = data_3[data_3['중분류'] == 'B002-C002-0010']"
   ]
  },
  {
   "cell_type": "code",
   "execution_count": null,
   "id": "d9451601",
   "metadata": {},
   "outputs": [],
   "source": [
    "lst_3_2 = data_3_2['제품'].value_counts().index.tolist()"
   ]
  },
  {
   "cell_type": "code",
   "execution_count": null,
   "id": "03cb6e1b",
   "metadata": {},
   "outputs": [],
   "source": [
    "product_3_2 = product[product['제품'].isin(lst_3_2)]"
   ]
  },
  {
   "cell_type": "code",
   "execution_count": null,
   "id": "6df0bcd1",
   "metadata": {},
   "outputs": [],
   "source": [
    "data_3_2['소분류'].value_counts()"
   ]
  },
  {
   "cell_type": "markdown",
   "id": "8aa2198f",
   "metadata": {},
   "source": [
    "##### 정리\n",
    "\n",
    "    B002-C003-0050   |   유아바디용품"
   ]
  },
  {
   "cell_type": "markdown",
   "id": "12f0bade",
   "metadata": {},
   "source": [
    "***"
   ]
  },
  {
   "cell_type": "markdown",
   "id": "ec2281c7",
   "metadata": {},
   "source": [
    "## ***Data Pre_Processing***"
   ]
  },
  {
   "cell_type": "code",
   "execution_count": null,
   "id": "0d1f987f",
   "metadata": {},
   "outputs": [],
   "source": [
    "train = train_data[train_data['대분류'] == 'B002-C001-0003']\n",
    "train.reset_index(drop=True, inplace=True)"
   ]
  },
  {
   "cell_type": "markdown",
   "id": "c7f6accd",
   "metadata": {},
   "source": [
    "***"
   ]
  },
  {
   "cell_type": "markdown",
   "id": "580768df",
   "metadata": {},
   "source": [
    "Z-score로 이상치 처리."
   ]
  },
  {
   "cell_type": "code",
   "execution_count": null,
   "id": "79a0f423",
   "metadata": {},
   "outputs": [],
   "source": [
    "df = train.iloc[:,6:]"
   ]
  },
  {
   "cell_type": "code",
   "execution_count": null,
   "id": "41d7d176",
   "metadata": {},
   "outputs": [],
   "source": [
    "df = df.T"
   ]
  },
  {
   "cell_type": "code",
   "execution_count": null,
   "id": "05368395",
   "metadata": {},
   "outputs": [],
   "source": [
    "df.columns = df.columns.astype(str)"
   ]
  },
  {
   "cell_type": "code",
   "execution_count": null,
   "id": "99bad86f",
   "metadata": {},
   "outputs": [],
   "source": [
    "for i in range(len(df.columns)):\n",
    "    df_t_t = pd.DataFrame(df[str(i)])\n",
    "    \n",
    "    # Z-Score 계산\n",
    "    z_scores = np.abs((df_t_t[str(i)] - df_t_t[str(i)].mean()) / df_t_t[str(i)].std())\n",
    "\n",
    "    # Z-Score 임계값 설정 (일반적으로 2 ~ 3 사이의 값 사용)\n",
    "    z_threshold = 3\n",
    "    \n",
    "    # 이상치 대체\n",
    "    outliers = df[z_scores > z_threshold]\n",
    "    replacement_value = df_t_t[str(i)].mean() + df_t_t[str(i)].std() * z_threshold\n",
    "    \n",
    "    for index, row in outliers.iterrows():\n",
    "        df.at[index, str(i)] = round(replacement_value)"
   ]
  },
  {
   "cell_type": "code",
   "execution_count": null,
   "id": "ef43e962",
   "metadata": {},
   "outputs": [],
   "source": [
    "train.iloc[:,6:] = df.T.values"
   ]
  },
  {
   "cell_type": "markdown",
   "id": "a0fdd700",
   "metadata": {},
   "source": [
    "***\n",
    "***\n",
    "***데이터가 전부 0인값 및 거의 모든 데이터가 0인값 제거***"
   ]
  },
  {
   "cell_type": "code",
   "execution_count": null,
   "id": "3e1d9c88",
   "metadata": {},
   "outputs": [],
   "source": [
    "train_zero = train[train.iloc[:,6:].sum(axis=1)==0]"
   ]
  },
  {
   "cell_type": "code",
   "execution_count": null,
   "id": "e98414db",
   "metadata": {},
   "outputs": [],
   "source": [
    "zero_idx = []"
   ]
  },
  {
   "cell_type": "code",
   "execution_count": null,
   "id": "95c295b5",
   "metadata": {},
   "outputs": [],
   "source": [
    "zero_idx.extend(train_zero['ID'])"
   ]
  },
  {
   "cell_type": "code",
   "execution_count": null,
   "id": "a5a73bf0",
   "metadata": {},
   "outputs": [],
   "source": [
    "train = train[~train['ID'].isin(train_zero['ID'])]\n",
    "train.reset_index(drop=True, inplace=True)"
   ]
  },
  {
   "cell_type": "markdown",
   "id": "7268a92c",
   "metadata": {},
   "source": [
    "*해당 submission 전부 1로 대체*"
   ]
  },
  {
   "cell_type": "code",
   "execution_count": null,
   "id": "042aa613",
   "metadata": {},
   "outputs": [],
   "source": [
    "submission.loc[submission['ID'].isin(zero_idx), submission.columns != 'ID'] = 1"
   ]
  },
  {
   "cell_type": "markdown",
   "id": "721000d3",
   "metadata": {},
   "source": [
    "  \n",
    "  \n",
    "  "
   ]
  },
  {
   "cell_type": "markdown",
   "id": "1a35fe3b",
   "metadata": {},
   "source": [
    "***\n",
    "***\n",
    "***값이 0과 특정값 두개 밖에 없다면 max 값으로 대체***"
   ]
  },
  {
   "cell_type": "code",
   "execution_count": null,
   "id": "744f0e82",
   "metadata": {},
   "outputs": [],
   "source": [
    "# train_2023 데이터프레임에서 6번째 컬럼부터 끝까지 선택\n",
    "subset = train.iloc[:, 6:]\n",
    "\n",
    "# 각 행 별로 유일한 값의 개수를 세어서 결과를 Series로 저장\n",
    "unique_counts = subset.nunique(axis=1)\n",
    "\n",
    "# 유일한 값이 세 개밖에 없는 행 추출\n",
    "rows_with_two_unique_values = subset[unique_counts == 2]"
   ]
  },
  {
   "cell_type": "code",
   "execution_count": null,
   "id": "d98b3d53",
   "metadata": {},
   "outputs": [],
   "source": [
    "two_unique_lst = rows_with_two_unique_values.index"
   ]
  },
  {
   "cell_type": "code",
   "execution_count": null,
   "id": "76361b3d",
   "metadata": {},
   "outputs": [],
   "source": [
    "two_id_lst = train.loc[two_unique_lst]['ID'].tolist()"
   ]
  },
  {
   "cell_type": "code",
   "execution_count": null,
   "id": "0f6d42f6",
   "metadata": {},
   "outputs": [],
   "source": [
    "# two_unique_lst에 해당하는 행 추출\n",
    "selected_rows = train.loc[two_unique_lst].iloc[:,6:]\n",
    "\n",
    "# 0을 제외한 각 행의 가장 많이 나온 값 찾기\n",
    "most_common_values = selected_rows.apply(lambda row: np.bincount(row[row != 0]).argmax(), axis=1)"
   ]
  },
  {
   "cell_type": "code",
   "execution_count": null,
   "id": "03e7af1f",
   "metadata": {},
   "outputs": [],
   "source": [
    "result_df = pd.DataFrame({'ID': two_id_lst, 'Most_Common_Value': most_common_values})"
   ]
  },
  {
   "cell_type": "code",
   "execution_count": null,
   "id": "e5084af4",
   "metadata": {},
   "outputs": [],
   "source": [
    "for i, row in result_df.iterrows():\n",
    "    id_value = row['ID']\n",
    "    value = row['Most_Common_Value']\n",
    "    submission.loc[submission['ID']==id_value, submission.columns != 'ID'] = value"
   ]
  },
  {
   "cell_type": "code",
   "execution_count": null,
   "id": "fca3dafd",
   "metadata": {},
   "outputs": [],
   "source": [
    "train = train[~train['ID'].isin(two_id_lst)]\n",
    "train.reset_index(drop=True, inplace=True)"
   ]
  },
  {
   "cell_type": "markdown",
   "id": "e5d3b196",
   "metadata": {},
   "source": [
    "***\n",
    "***\n",
    "***값이 0과 특정값 세개 밖에 없다면 max 값으로 대체  (but, 마지막 값이 없을경우)***"
   ]
  },
  {
   "cell_type": "code",
   "execution_count": null,
   "id": "adb0309c",
   "metadata": {},
   "outputs": [],
   "source": [
    "# train_2023 데이터프레임에서 6번째 컬럼부터 끝까지 선택\n",
    "subset = train.iloc[:, 6:]\n",
    "\n",
    "# 각 행 별로 유일한 값의 개수를 세어서 결과를 Series로 저장\n",
    "unique_counts = subset.nunique(axis=1)\n",
    "\n",
    "# 유일한 값이 세 개밖에 없는 행 추출\n",
    "rows_with_three_unique_values = subset[unique_counts == 3]"
   ]
  },
  {
   "cell_type": "code",
   "execution_count": null,
   "id": "4de0da58",
   "metadata": {},
   "outputs": [],
   "source": [
    "three_unique_lst = rows_with_three_unique_values.index"
   ]
  },
  {
   "cell_type": "code",
   "execution_count": null,
   "id": "752d5fb7",
   "metadata": {},
   "outputs": [],
   "source": [
    "three_id_lst = train.loc[three_unique_lst]['ID'].tolist()"
   ]
  },
  {
   "cell_type": "markdown",
   "id": "bad734bd",
   "metadata": {},
   "source": [
    "f는 마지막 값이 없는경우. 이에 대해서는 최빈값 적용"
   ]
  },
  {
   "cell_type": "code",
   "execution_count": null,
   "id": "0f92c8fe",
   "metadata": {},
   "outputs": [],
   "source": [
    "f = rows_with_three_unique_values[rows_with_three_unique_values.iloc[:, -7:].eq(0).all(axis=1)]\n",
    "\n",
    "f_lst = f.index.tolist()"
   ]
  },
  {
   "cell_type": "code",
   "execution_count": null,
   "id": "5c2ad639",
   "metadata": {},
   "outputs": [],
   "source": [
    "f_id_lst = train.loc[f_lst]['ID'].tolist()"
   ]
  },
  {
   "cell_type": "code",
   "execution_count": null,
   "id": "d31acf8e",
   "metadata": {},
   "outputs": [],
   "source": [
    "f_unique_lst = train[train['ID'].isin(f_id_lst)].index"
   ]
  },
  {
   "cell_type": "code",
   "execution_count": null,
   "id": "ae62a5ff",
   "metadata": {},
   "outputs": [],
   "source": [
    "# three_unique_lst에 해당하는 행 추출\n",
    "selected_rows = train.loc[f_unique_lst].iloc[:,6:]\n",
    "\n",
    "# 0을 제외한 각 행의 가장 많이 나온 값 찾기\n",
    "most_common_values = selected_rows.apply(lambda row: np.bincount(row[row != 0]).argmax(), axis=1)"
   ]
  },
  {
   "cell_type": "code",
   "execution_count": null,
   "id": "e6a10223",
   "metadata": {},
   "outputs": [],
   "source": [
    "result_df = pd.DataFrame({'ID': f_id_lst, 'Most_Common_Value': most_common_values})"
   ]
  },
  {
   "cell_type": "markdown",
   "id": "1da9385d",
   "metadata": {},
   "source": [
    "5보다 큰 경우엔 두번째 최빈값으로 설정"
   ]
  },
  {
   "cell_type": "code",
   "execution_count": null,
   "id": "0c9ef683",
   "metadata": {},
   "outputs": [],
   "source": [
    "result_df[result_df['Most_Common_Value']>5]"
   ]
  },
  {
   "cell_type": "code",
   "execution_count": null,
   "id": "95940170",
   "metadata": {},
   "outputs": [],
   "source": [
    "train.iloc[151,6:].value_counts()"
   ]
  },
  {
   "cell_type": "code",
   "execution_count": null,
   "id": "9660afed",
   "metadata": {},
   "outputs": [],
   "source": [
    "result_df.loc[result_df['ID'] == 5846, 'Most_Common_Value'] = 3"
   ]
  },
  {
   "cell_type": "code",
   "execution_count": null,
   "id": "81334e60",
   "metadata": {},
   "outputs": [],
   "source": [
    "for i, row in result_df.iterrows():\n",
    "    id_value = row['ID']\n",
    "    value = row['Most_Common_Value']\n",
    "    submission.loc[submission['ID']==id_value, submission.columns != 'ID'] = value"
   ]
  },
  {
   "cell_type": "code",
   "execution_count": null,
   "id": "104e0685",
   "metadata": {},
   "outputs": [],
   "source": [
    "train = train[~train['ID'].isin(f_id_lst)]\n",
    "train.reset_index(drop=True, inplace=True)"
   ]
  },
  {
   "cell_type": "markdown",
   "id": "acc6844a",
   "metadata": {},
   "source": [
    "***\n",
    "filtered_three_id_lst / 마지막 값이 있는 이런경우엔 마지막의 시계열성에 따라 값을 넣어주어야 할 수도 있음."
   ]
  },
  {
   "cell_type": "code",
   "execution_count": null,
   "id": "59a250b8",
   "metadata": {},
   "outputs": [],
   "source": [
    "filtered_three_id_lst = [value for value in three_id_lst if value not in f_id_lst]"
   ]
  },
  {
   "cell_type": "code",
   "execution_count": null,
   "id": "60b98c0d",
   "metadata": {},
   "outputs": [],
   "source": [
    "three_unique_lst = train[train['ID'].isin(filtered_three_id_lst)].index"
   ]
  },
  {
   "cell_type": "code",
   "execution_count": null,
   "id": "34b2f094",
   "metadata": {},
   "outputs": [],
   "source": [
    "train_three = train.loc[three_unique_lst]"
   ]
  },
  {
   "cell_type": "code",
   "execution_count": null,
   "id": "0ae16e13",
   "metadata": {},
   "outputs": [],
   "source": [
    "data = train_three.set_index('ID').iloc[:,5:].T\n",
    "ID_list = data.columns\n",
    "datanew_columns = list(range(len(data.columns)))\n",
    "data.columns = datanew_columns"
   ]
  },
  {
   "cell_type": "code",
   "execution_count": null,
   "id": "81273522",
   "metadata": {
    "scrolled": true
   },
   "outputs": [],
   "source": [
    "forecast_list = []\n",
    "\n",
    "for i in range(0,len(data.columns)):\n",
    "    train_1 = data[i]\n",
    "    train_1 = pd.DataFrame(train_1)\n",
    "    \n",
    "    while (train_1.iloc[1:, :] == 0).iloc[1][i]:\n",
    "        train_1 = train_1.iloc[1:, :]\n",
    "        \n",
    "    train_1.reset_index(inplace=True)\n",
    "    train_1.columns = ['ds','y']\n",
    "    train_1['ds'] = pd.to_datetime(train_1['ds'])\n",
    "\n",
    "    train_1['extra_weight'] = 1.0  # 기본 가중치\n",
    "    train_1.loc[train_1['ds'] >= train_1['ds'].max() - pd.Timedelta(days=7), 'extra_weight'] = 1.5  # 마지막 1주일에 더 높은 가중치 설정\n",
    "\n",
    "    m = Prophet(\n",
    "    changepoint_prior_scale=0.2,\n",
    "    weekly_seasonality=4,\n",
    "    daily_seasonality = True,\n",
    "    seasonality_mode='additive'\n",
    "    )\n",
    "    m.add_regressor('extra_weight')\n",
    "#     m.add_seasonality(name='monthly', period=30.5, fourier_order=3)\n",
    "    m.fit(train_1)\n",
    "    future = m.make_future_dataframe(periods=21)\n",
    "    future['extra_weight'] = 1.0  # 미래 날짜에는 기본 가중치로 설정\n",
    "    forecast = m.predict(future)\n",
    "    forecast_list.append(forecast['yhat'][-21:])\n",
    "    fig1 = m.plot(forecast)"
   ]
  },
  {
   "cell_type": "code",
   "execution_count": null,
   "id": "a27d6293",
   "metadata": {},
   "outputs": [],
   "source": [
    "t = pd.DataFrame()\n",
    "for i in range(len(forecast_list)):\n",
    "    a = pd.DataFrame(forecast_list[i])\n",
    "    k = a.T\n",
    "    k.reset_index(inplace=True)\n",
    "    k['index'] = ID_list[i]\n",
    "    k.columns = range(0,22)\n",
    "    t = pd.concat([t,k],axis=0)\n",
    "\n",
    "t[t<0] = 0"
   ]
  },
  {
   "cell_type": "code",
   "execution_count": null,
   "id": "1fb0504b",
   "metadata": {},
   "outputs": [],
   "source": [
    "IDlist = t[0]\n",
    "submission3 = submission.loc[IDlist]\n",
    "t.columns = submission3.columns"
   ]
  },
  {
   "cell_type": "code",
   "execution_count": null,
   "id": "923aab02",
   "metadata": {},
   "outputs": [],
   "source": [
    "t.reset_index(drop=True,inplace=True)\n",
    "t = np.round(t).astype(int)"
   ]
  },
  {
   "cell_type": "code",
   "execution_count": null,
   "id": "0ab7bdd7",
   "metadata": {},
   "outputs": [],
   "source": [
    "id_lst = t['ID'].tolist()"
   ]
  },
  {
   "cell_type": "code",
   "execution_count": null,
   "id": "6c149c4b",
   "metadata": {},
   "outputs": [],
   "source": [
    "t = t.set_index('ID')"
   ]
  },
  {
   "cell_type": "code",
   "execution_count": null,
   "id": "42e9c6d0",
   "metadata": {},
   "outputs": [],
   "source": [
    "idx_lst = t.index.tolist()"
   ]
  },
  {
   "cell_type": "code",
   "execution_count": null,
   "id": "ffcceefe",
   "metadata": {},
   "outputs": [],
   "source": [
    "t = t.replace(0, 1)"
   ]
  },
  {
   "cell_type": "code",
   "execution_count": null,
   "id": "0b89d932",
   "metadata": {},
   "outputs": [],
   "source": [
    "submission.iloc[idx_lst,1:] = t.loc[idx_lst]"
   ]
  },
  {
   "cell_type": "code",
   "execution_count": null,
   "id": "b1e3912f",
   "metadata": {},
   "outputs": [],
   "source": [
    "train = train[~train['ID'].isin(three_id_lst)]\n",
    "train.reset_index(drop=True, inplace=True)"
   ]
  },
  {
   "cell_type": "markdown",
   "id": "ccfecbb2",
   "metadata": {},
   "source": [
    "***\n",
    "***\n",
    "***2022년에 판매량이 전부 0인 값들 따로 처리 위해 제거***"
   ]
  },
  {
   "cell_type": "code",
   "execution_count": null,
   "id": "c0b0dbe5",
   "metadata": {},
   "outputs": [],
   "source": [
    "lst_2023 = train[train.iloc[:,6:-94].sum(axis=1)==0]['ID'].tolist()"
   ]
  },
  {
   "cell_type": "code",
   "execution_count": null,
   "id": "a584b406",
   "metadata": {},
   "outputs": [],
   "source": [
    "train_2023 = train[train['ID'].isin(lst_2023)]\n",
    "train_2023.reset_index(drop=True, inplace=True)"
   ]
  },
  {
   "cell_type": "code",
   "execution_count": null,
   "id": "48529881",
   "metadata": {},
   "outputs": [],
   "source": [
    "train = train[~train['ID'].isin(lst_2023)]\n",
    "train.reset_index(drop=True, inplace=True)"
   ]
  },
  {
   "cell_type": "markdown",
   "id": "65babc25",
   "metadata": {},
   "source": [
    "*train_2023은 2023년 데이터만 가지고 모델링*"
   ]
  },
  {
   "cell_type": "code",
   "execution_count": null,
   "id": "c44e30d3",
   "metadata": {},
   "outputs": [],
   "source": [
    "train_2023 = train_2023.drop(train_2023.columns[6:-94], axis=1)"
   ]
  },
  {
   "cell_type": "markdown",
   "id": "b7b52fc7",
   "metadata": {},
   "source": [
    "***2023-02-23 ~ 2023-03-28 사이값 때문에 이상치가 반영되는 경우가 많음.***"
   ]
  },
  {
   "cell_type": "code",
   "execution_count": null,
   "id": "918175df",
   "metadata": {},
   "outputs": [],
   "source": [
    "zero_2023 = train_2023[train_2023.iloc[:,-41:-7].sum(axis=1)==0]['ID'].tolist()"
   ]
  },
  {
   "cell_type": "code",
   "execution_count": null,
   "id": "700efd49",
   "metadata": {},
   "outputs": [],
   "source": [
    "train_zero_2023 = train_2023[train_2023['ID'].isin(zero_2023)]\n",
    "train_zero_2023.reset_index(drop=True, inplace=True)"
   ]
  },
  {
   "cell_type": "markdown",
   "id": "44efc106",
   "metadata": {},
   "source": [
    "### ***특수 case*** \n",
    "중간 결측치를 제외 하였는데도 마지막에 비슷한 양상을 보임."
   ]
  },
  {
   "cell_type": "markdown",
   "id": "54c76374",
   "metadata": {},
   "source": [
    "***ID = 3232 / 6으로 대체***"
   ]
  },
  {
   "cell_type": "code",
   "execution_count": null,
   "id": "476e6ad3",
   "metadata": {
    "scrolled": false
   },
   "outputs": [],
   "source": [
    "train_zero_2023[train_zero_2023['ID'] == 3232].iloc[:,-18:]"
   ]
  },
  {
   "cell_type": "code",
   "execution_count": null,
   "id": "d3462597",
   "metadata": {},
   "outputs": [],
   "source": [
    "train_zero_2023[train_zero_2023['ID'] == 3232].iloc[:,6:].T.value_counts()"
   ]
  },
  {
   "cell_type": "code",
   "execution_count": null,
   "id": "c03fa8c0",
   "metadata": {},
   "outputs": [],
   "source": [
    "submission.loc[submission['ID']==3232, submission.columns != 'ID'] = 6"
   ]
  },
  {
   "cell_type": "markdown",
   "id": "c078946c",
   "metadata": {},
   "source": [
    "***ID = 15631 / 10으로 대체***"
   ]
  },
  {
   "cell_type": "code",
   "execution_count": null,
   "id": "0a6950b3",
   "metadata": {},
   "outputs": [],
   "source": [
    "train_zero_2023[train_zero_2023['ID'] == 15631].iloc[:,-18:]"
   ]
  },
  {
   "cell_type": "code",
   "execution_count": null,
   "id": "45e839a0",
   "metadata": {},
   "outputs": [],
   "source": [
    "train_zero_2023[train_zero_2023['ID'] == 15631].iloc[:,6:].T.value_counts()"
   ]
  },
  {
   "cell_type": "code",
   "execution_count": null,
   "id": "f257da91",
   "metadata": {},
   "outputs": [],
   "source": [
    "submission.loc[submission['ID']==15631, submission.columns != 'ID'] = 10"
   ]
  },
  {
   "cell_type": "markdown",
   "id": "71b4a6a5",
   "metadata": {},
   "source": [
    "***\n",
    "***"
   ]
  },
  {
   "cell_type": "code",
   "execution_count": null,
   "id": "e60fd5dc",
   "metadata": {},
   "outputs": [],
   "source": [
    "# 'ID' 값이 3232 또는 15631인 행을 삭제합니다.\n",
    "train_zero_2023 = train_zero_2023[~train_zero_2023['ID'].isin([3232, 15631])]\n",
    "train_zero_2023.reset_index(drop=True, inplace=True)"
   ]
  },
  {
   "cell_type": "markdown",
   "id": "96052f70",
   "metadata": {},
   "source": [
    "***마지막 값들이 전부 0인 애들은 따로 처리해야함.***"
   ]
  },
  {
   "cell_type": "code",
   "execution_count": null,
   "id": "5134d64a",
   "metadata": {},
   "outputs": [],
   "source": [
    "train_zero_2023_conti_0 = train_zero_2023[train_zero_2023.iloc[:,-7:].sum(axis=1)==0]"
   ]
  },
  {
   "cell_type": "code",
   "execution_count": null,
   "id": "f2c9d8d5",
   "metadata": {},
   "outputs": [],
   "source": [
    "rows_with_high_zeros = train_zero_2023_conti_0\n",
    "\n",
    "train_list = []\n",
    "test_list = []\n",
    "\n",
    "for i in range(len(rows_with_high_zeros)):\n",
    "    data = rows_with_high_zeros.iloc[i, 6:].reset_index()  # 6번째 컬럼부터 끝까지 추출\n",
    "    data.columns = ['date_time', 0]  # 컬럼 이름 변경\n",
    "    train_list.append(data)\n",
    "\n",
    "for i in range(len(rows_with_high_zeros)):\n",
    "    train_list[i]['date_time'] = pd.to_datetime(train_list[i]['date_time'])\n",
    "    # 그래프 그리기\n",
    "    plt.figure(figsize=(15, 6))\n",
    "    plt.plot(train_list[i]['date_time'], train_list[i][0], marker='o')\n",
    "    plt.title('Sales Over Time')\n",
    "    plt.xlabel('Date')\n",
    "    plt.ylabel('Sales')\n",
    "    plt.grid(True)\n",
    "    plt.xticks(rotation=45)\n",
    "    plt.tight_layout()\n",
    "    plt.show()"
   ]
  },
  {
   "cell_type": "markdown",
   "id": "172edfbb",
   "metadata": {},
   "source": [
    "해당값들은 마지막날 거의 모든 값들이 0임을 확인 할 수 있음. 따라서 1로 대체"
   ]
  },
  {
   "cell_type": "code",
   "execution_count": null,
   "id": "af0d0387",
   "metadata": {},
   "outputs": [],
   "source": [
    "conti_0_lst = train_zero_2023_conti_0['ID'].tolist()"
   ]
  },
  {
   "cell_type": "code",
   "execution_count": null,
   "id": "bc30eaf0",
   "metadata": {},
   "outputs": [],
   "source": [
    "submission.loc[submission['ID'].isin(conti_0_lst), submission.columns != 'ID'] = 1"
   ]
  },
  {
   "cell_type": "code",
   "execution_count": null,
   "id": "46994dcb",
   "metadata": {},
   "outputs": [],
   "source": [
    "# 'ID' 값이 conti_0_lst인 행을 삭제합니다.\n",
    "train_zero_2023 = train_zero_2023[~train_zero_2023['ID'].isin(conti_0_lst)]\n",
    "train_zero_2023.reset_index(drop=True, inplace=True)"
   ]
  },
  {
   "cell_type": "markdown",
   "id": "6fea918e",
   "metadata": {},
   "source": [
    "***결측치 기준 앞뒤에 비슷한 값이 계속되는 경우.***"
   ]
  },
  {
   "cell_type": "code",
   "execution_count": null,
   "id": "96b3add9",
   "metadata": {},
   "outputs": [],
   "source": [
    "fff = train_zero_2023.drop(train_zero_2023.columns[-41:-7], axis=1)"
   ]
  },
  {
   "cell_type": "code",
   "execution_count": null,
   "id": "04318833",
   "metadata": {},
   "outputs": [],
   "source": [
    "fff.iloc[:,-4:]"
   ]
  },
  {
   "cell_type": "markdown",
   "id": "ccfebd19",
   "metadata": {},
   "source": [
    "4,5 번 확인 필요"
   ]
  },
  {
   "cell_type": "code",
   "execution_count": null,
   "id": "3fca7b82",
   "metadata": {
    "scrolled": true
   },
   "outputs": [],
   "source": [
    "rows_with_high_zeros = fff.iloc[4:6,6:]\n",
    "\n",
    "train_list = []\n",
    "test_list = []\n",
    "\n",
    "for i in range(len(rows_with_high_zeros)):\n",
    "    data = rows_with_high_zeros.iloc[i, 6:].reset_index()  # 6번째 컬럼부터 끝까지 추출\n",
    "    data.columns = ['date_time', 0]  # 컬럼 이름 변경\n",
    "    train_list.append(data)\n",
    "\n",
    "for i in range(len(rows_with_high_zeros)):\n",
    "    train_list[i]['date_time'] = pd.to_datetime(train_list[i]['date_time'])\n",
    "    # 그래프 그리기\n",
    "    plt.figure(figsize=(15, 6))\n",
    "    plt.plot(train_list[i]['date_time'], train_list[i][0], marker='o')\n",
    "    plt.title('Sales Over Time')\n",
    "    plt.xlabel('Date')\n",
    "    plt.ylabel('Sales')\n",
    "    plt.grid(True)\n",
    "    plt.xticks(rotation=45)\n",
    "    plt.tight_layout()\n",
    "    plt.show()"
   ]
  },
  {
   "cell_type": "markdown",
   "id": "31317497",
   "metadata": {},
   "source": [
    "앞뒤로 똑같은 값이 계속해서 연속됨. 두 값 처리해주도록 하겠음. 16, 28"
   ]
  },
  {
   "cell_type": "code",
   "execution_count": null,
   "id": "0667f5af",
   "metadata": {},
   "outputs": [],
   "source": [
    "conti_lst = fff.iloc[4:6]['ID'].tolist()"
   ]
  },
  {
   "cell_type": "code",
   "execution_count": null,
   "id": "d089e641",
   "metadata": {},
   "outputs": [],
   "source": [
    "train_zero_2023[train_zero_2023['ID']==conti_lst[0]]"
   ]
  },
  {
   "cell_type": "code",
   "execution_count": null,
   "id": "89aadb40",
   "metadata": {},
   "outputs": [],
   "source": [
    "submission.loc[submission['ID']==conti_lst[0], submission.columns != 'ID'] = 16"
   ]
  },
  {
   "cell_type": "code",
   "execution_count": null,
   "id": "909300bb",
   "metadata": {},
   "outputs": [],
   "source": [
    "train_zero_2023[train_zero_2023['ID']==conti_lst[1]]"
   ]
  },
  {
   "cell_type": "code",
   "execution_count": null,
   "id": "4c58cacb",
   "metadata": {},
   "outputs": [],
   "source": [
    "submission.loc[submission['ID']==conti_lst[1], submission.columns != 'ID'] = 28"
   ]
  },
  {
   "cell_type": "code",
   "execution_count": null,
   "id": "3980159d",
   "metadata": {},
   "outputs": [],
   "source": [
    "# 'ID' 값이 conti_0_lst인 행을 삭제합니다.\n",
    "train_zero_2023 = train_zero_2023[~train_zero_2023['ID'].isin(conti_lst)]\n",
    "train_zero_2023.reset_index(drop=True, inplace=True)"
   ]
  },
  {
   "cell_type": "markdown",
   "id": "f0c20c09",
   "metadata": {},
   "source": [
    "***결측치 prophet으로 예측 후 이를 test 예측에 사용***"
   ]
  },
  {
   "cell_type": "code",
   "execution_count": null,
   "id": "d9231bec",
   "metadata": {},
   "outputs": [],
   "source": [
    "ttt = train_zero_2023.drop(train_zero_2023.columns[-41:-7], axis=1)"
   ]
  },
  {
   "cell_type": "code",
   "execution_count": null,
   "id": "c2a9e7ce",
   "metadata": {},
   "outputs": [],
   "source": [
    "ttt = ttt.set_index('ID')"
   ]
  },
  {
   "cell_type": "code",
   "execution_count": null,
   "id": "97ab9a0a",
   "metadata": {},
   "outputs": [],
   "source": [
    "start_date = '2023-02-23'\n",
    "end_date = '2023-03-28'\n",
    "future_dates = pd.date_range(start=start_date, end=end_date)"
   ]
  },
  {
   "cell_type": "code",
   "execution_count": null,
   "id": "42ac56a3",
   "metadata": {},
   "outputs": [],
   "source": [
    "data = ttt.iloc[:,5:].T\n",
    "ID_list = data.columns\n",
    "datanew_columns = list(range(len(data.columns)))\n",
    "data.columns = datanew_columns"
   ]
  },
  {
   "cell_type": "code",
   "execution_count": null,
   "id": "0a3269dc",
   "metadata": {},
   "outputs": [],
   "source": [
    "forecast_list = []\n",
    "\n",
    "for i in range(0,len(data.columns)):\n",
    "    train_1 = data[i]\n",
    "    train_1 = pd.DataFrame(train_1)\n",
    "    \n",
    "    while (train_1.iloc[1:, :] == 0).iloc[1][i]:\n",
    "        train_1 = train_1.iloc[1:, :]\n",
    "    \n",
    "    train_1.reset_index(inplace=True)\n",
    "    train_1.columns = ['ds','y']\n",
    "    train_1['ds'] = pd.to_datetime(train_1['ds'])\n",
    "\n",
    "    train_1['extra_weight'] = 1.0  # 기본 가중치\n",
    "#     train_1.loc[train_1['ds'] >= train_1['ds'].max() - pd.Timedelta(days=7), 'extra_weight'] = 1.5  # 마지막 1주일에 더 높은 가중치 설정\n",
    "\n",
    "    m = Prophet(\n",
    "        changepoint_prior_scale=0.3,\n",
    "        weekly_seasonality=3,\n",
    "        daily_seasonality = True,\n",
    "        seasonality_mode='additive'\n",
    "    )\n",
    "    m.add_regressor('extra_weight')\n",
    "#     m.add_seasonality(name='monthly', period=30.5, fourier_order=3)\n",
    "    m.fit(train_1)\n",
    "    future = pd.DataFrame({'ds': future_dates, 'extra_weight': 1.0})\n",
    "    future['extra_weight'] = 1.0  # 미래 날짜에는 기본 가중치로 설정\n",
    "    forecast = m.predict(future)\n",
    "    forecast_list.append(forecast['yhat'])\n",
    "    fig1 = m.plot(forecast)"
   ]
  },
  {
   "cell_type": "code",
   "execution_count": null,
   "id": "8558aa4a",
   "metadata": {},
   "outputs": [],
   "source": [
    "t = pd.DataFrame()\n",
    "for i in range(len(forecast_list)):\n",
    "    a = pd.DataFrame(forecast_list[i])\n",
    "    k = a.T\n",
    "    k.reset_index(inplace=True)\n",
    "    k['index'] = ID_list[i]\n",
    "    t = pd.concat([t,k],axis=0)\n",
    "\n",
    "t[t<0] = 0"
   ]
  },
  {
   "cell_type": "code",
   "execution_count": null,
   "id": "379adbf2",
   "metadata": {},
   "outputs": [],
   "source": [
    "t = t.set_index('index')\n",
    "t = np.round(t).astype(int)"
   ]
  },
  {
   "cell_type": "code",
   "execution_count": null,
   "id": "705f781b",
   "metadata": {},
   "outputs": [],
   "source": [
    "t = t.reset_index(drop=True)"
   ]
  },
  {
   "cell_type": "code",
   "execution_count": null,
   "id": "00f5bc51",
   "metadata": {},
   "outputs": [],
   "source": [
    "train_zero_2023.iloc[:,-41:-7] = t"
   ]
  },
  {
   "cell_type": "markdown",
   "id": "ea389f09",
   "metadata": {},
   "source": [
    "#### ***앞에 연속된 0값들이 데이터의 시간성을 해쳐 이를 해결해 주어야함***"
   ]
  },
  {
   "cell_type": "code",
   "execution_count": null,
   "id": "a01b1b82",
   "metadata": {},
   "outputs": [],
   "source": [
    "data = train_zero_2023.set_index('ID').iloc[:,5:].T\n",
    "ID_list = data.columns\n",
    "datanew_columns = list(range(len(data.columns)))\n",
    "data.columns = datanew_columns"
   ]
  },
  {
   "cell_type": "code",
   "execution_count": null,
   "id": "ea366521",
   "metadata": {},
   "outputs": [],
   "source": [
    "forecast_list = []\n",
    "\n",
    "for i in range(0,len(data.columns)):\n",
    "    train_1 = data[i]\n",
    "    train_1 = pd.DataFrame(train_1)\n",
    "    \n",
    "    while (train_1.iloc[1:, :] == 0).iloc[1][i]:\n",
    "        train_1 = train_1.iloc[1:, :]\n",
    "        \n",
    "    train_1.reset_index(inplace=True)\n",
    "    train_1.columns = ['ds','y']\n",
    "    train_1['ds'] = pd.to_datetime(train_1['ds'])\n",
    "\n",
    "    train_1['extra_weight'] = 1.0  # 기본 가중치\n",
    "    train_1.loc[train_1['ds'] >= train_1['ds'].max() - pd.Timedelta(days=7), 'extra_weight'] = 1.5  # 마지막 1주일에 더 높은 가중치 설정\n",
    "\n",
    "    m = Prophet(\n",
    "    changepoint_prior_scale=0.2,\n",
    "    weekly_seasonality=4,\n",
    "    daily_seasonality = True,\n",
    "    seasonality_mode='additive'\n",
    "    )\n",
    "    m.add_regressor('extra_weight')\n",
    "#     m.add_seasonality(name='monthly', period=30.5, fourier_order=3)\n",
    "    m.fit(train_1)\n",
    "    future = m.make_future_dataframe(periods=21)\n",
    "    future['extra_weight'] = 1.0  # 미래 날짜에는 기본 가중치로 설정\n",
    "    forecast = m.predict(future)\n",
    "    forecast_list.append(forecast['yhat'][-21:])\n",
    "    fig1 = m.plot(forecast)"
   ]
  },
  {
   "cell_type": "code",
   "execution_count": null,
   "id": "217821ff",
   "metadata": {},
   "outputs": [],
   "source": [
    "t = pd.DataFrame()\n",
    "for i in range(len(forecast_list)):\n",
    "    a = pd.DataFrame(forecast_list[i])\n",
    "    k = a.T\n",
    "    k.reset_index(inplace=True)\n",
    "    k['index'] = ID_list[i]\n",
    "    k.columns = range(0,22)\n",
    "    t = pd.concat([t,k],axis=0)\n",
    "ID_list\n",
    "t[t<0] = 0"
   ]
  },
  {
   "cell_type": "code",
   "execution_count": null,
   "id": "5ddbb969",
   "metadata": {},
   "outputs": [],
   "source": [
    "IDlist = t[0]\n",
    "submission3 = submission.loc[IDlist]\n",
    "t.columns = submission3.columns"
   ]
  },
  {
   "cell_type": "code",
   "execution_count": null,
   "id": "78a8826f",
   "metadata": {},
   "outputs": [],
   "source": [
    "t.reset_index(drop=True,inplace=True)\n",
    "t = np.round(t).astype(int)"
   ]
  },
  {
   "cell_type": "code",
   "execution_count": null,
   "id": "a42e543b",
   "metadata": {},
   "outputs": [],
   "source": [
    "id_lst = t['ID'].tolist()"
   ]
  },
  {
   "cell_type": "code",
   "execution_count": null,
   "id": "10d3eede",
   "metadata": {},
   "outputs": [],
   "source": [
    "t = t.set_index('ID')"
   ]
  },
  {
   "cell_type": "code",
   "execution_count": null,
   "id": "a12a1fa9",
   "metadata": {},
   "outputs": [],
   "source": [
    "idx_lst = t.index.tolist()"
   ]
  },
  {
   "cell_type": "code",
   "execution_count": null,
   "id": "5ae661bf",
   "metadata": {},
   "outputs": [],
   "source": [
    "t = t.replace(0, 1)"
   ]
  },
  {
   "cell_type": "code",
   "execution_count": null,
   "id": "bd057d6c",
   "metadata": {},
   "outputs": [],
   "source": [
    "submission.iloc[idx_lst,1:] = t.loc[idx_lst]"
   ]
  },
  {
   "cell_type": "markdown",
   "id": "177ed0f1",
   "metadata": {},
   "source": [
    "***\n",
    "2023년에 판매량이 전부 0인 값들 따로 처리 위해 제거"
   ]
  },
  {
   "cell_type": "code",
   "execution_count": null,
   "id": "56115beb",
   "metadata": {},
   "outputs": [],
   "source": [
    "lst_non_2023 = train[train.iloc[:,-94:].sum(axis=1)==0]['ID'].tolist()"
   ]
  },
  {
   "cell_type": "code",
   "execution_count": null,
   "id": "8b4c25fc",
   "metadata": {},
   "outputs": [],
   "source": [
    "train_non_2023 = train[train['ID'].isin(lst_non_2023)]\n",
    "train_non_2023.reset_index(drop=True, inplace=True)"
   ]
  },
  {
   "cell_type": "code",
   "execution_count": null,
   "id": "6e406da9",
   "metadata": {},
   "outputs": [],
   "source": [
    "train = train[~train['ID'].isin(lst_non_2023)]\n",
    "train.reset_index(drop=True, inplace=True)"
   ]
  },
  {
   "cell_type": "markdown",
   "id": "523ca17b",
   "metadata": {},
   "source": [
    "해당 값들은 최근 최소 4개월 이상 판매량 0이기 때문에 예측불가. 따라서 1로 치환해주겠음."
   ]
  },
  {
   "cell_type": "code",
   "execution_count": null,
   "id": "fb7af336",
   "metadata": {},
   "outputs": [],
   "source": [
    "submission.loc[submission['ID'].isin(lst_non_2023), submission.columns != 'ID'] = 1"
   ]
  },
  {
   "cell_type": "code",
   "execution_count": null,
   "id": "fc9d464c",
   "metadata": {},
   "outputs": [],
   "source": [
    "submission.loc[submission['ID'].isin(lst_non_2023)]"
   ]
  },
  {
   "cell_type": "markdown",
   "id": "ab0499d0",
   "metadata": {},
   "source": [
    "***"
   ]
  },
  {
   "cell_type": "markdown",
   "id": "ea9cbc00",
   "metadata": {},
   "source": [
    "2023-02-23 ~ 2023-03-28 사이값이 null 이 아닌 것"
   ]
  },
  {
   "cell_type": "markdown",
   "id": "2e2abef9",
   "metadata": {},
   "source": [
    "ID 3792 제외 나머지는 모든 시계열 사용해서 진행."
   ]
  },
  {
   "cell_type": "code",
   "execution_count": null,
   "id": "ac46169a",
   "metadata": {},
   "outputs": [],
   "source": [
    "train_conti = train[train.iloc[:,424:-7].sum(axis=1)!=0]"
   ]
  },
  {
   "cell_type": "code",
   "execution_count": null,
   "id": "4e43d3eb",
   "metadata": {},
   "outputs": [],
   "source": [
    "train_conti.iloc[5:6,430:450]"
   ]
  },
  {
   "cell_type": "markdown",
   "id": "f1deda8c",
   "metadata": {},
   "source": [
    "2023-03-08\t2023-03-09\t2023-03-10\t2023-03-11 이상치 처리 요망"
   ]
  },
  {
   "cell_type": "code",
   "execution_count": null,
   "id": "7913eabb",
   "metadata": {},
   "outputs": [],
   "source": [
    "# 중복 제거 후 정렬\n",
    "unique_sorted_data = np.unique(train_conti.iloc[5:6,6:].T.values.flatten())\n",
    "unique_sorted_data = unique_sorted_data[unique_sorted_data != 0]  # 0 값 제외\n",
    "\n",
    "# 두 번째로 큰 값을 찾기\n",
    "second_largest_value = unique_sorted_data[-2]"
   ]
  },
  {
   "cell_type": "code",
   "execution_count": null,
   "id": "a194ce64",
   "metadata": {},
   "outputs": [],
   "source": [
    "train_conti.iloc[5, 6:] = train_conti.iloc[5, 6:].replace(61, second_largest_value)"
   ]
  },
  {
   "cell_type": "code",
   "execution_count": null,
   "id": "fea00f7d",
   "metadata": {},
   "outputs": [],
   "source": [
    "# 중복 제거 후 정렬\n",
    "unique_sorted_data = np.unique(train_conti.iloc[5:6,6:].T.values.flatten())\n",
    "unique_sorted_data = unique_sorted_data[unique_sorted_data != 0]  # 0 값 제외\n",
    "\n",
    "# 두 번째로 큰 값을 찾기\n",
    "second_largest_value = unique_sorted_data[-2]"
   ]
  },
  {
   "cell_type": "code",
   "execution_count": null,
   "id": "010c6255",
   "metadata": {},
   "outputs": [],
   "source": [
    "train_conti.iloc[5, 6:] = train_conti.iloc[5, 6:].replace(unique_sorted_data[-1], second_largest_value)"
   ]
  },
  {
   "cell_type": "code",
   "execution_count": null,
   "id": "56469795",
   "metadata": {},
   "outputs": [],
   "source": [
    "conti_lst = train_conti['ID'].tolist()"
   ]
  },
  {
   "cell_type": "code",
   "execution_count": null,
   "id": "71d00a05",
   "metadata": {},
   "outputs": [],
   "source": [
    "train = train[~train['ID'].isin(conti_lst)]"
   ]
  },
  {
   "cell_type": "code",
   "execution_count": null,
   "id": "d1b9e0d2",
   "metadata": {},
   "outputs": [],
   "source": [
    "train_3792 = train_conti[train_conti['ID']==3792]"
   ]
  },
  {
   "cell_type": "code",
   "execution_count": null,
   "id": "0cb20ebd",
   "metadata": {},
   "outputs": [],
   "source": [
    "train_conti = train_conti[train_conti['ID']!=3792]"
   ]
  },
  {
   "cell_type": "code",
   "execution_count": null,
   "id": "11b440bc",
   "metadata": {},
   "outputs": [],
   "source": [
    "conti_lst.remove(3792)"
   ]
  },
  {
   "cell_type": "code",
   "execution_count": null,
   "id": "abd802c7",
   "metadata": {},
   "outputs": [],
   "source": [
    "data = train_conti.set_index('ID').iloc[:,5:].T\n",
    "ID_list = data.columns\n",
    "datanew_columns = list(range(len(data.columns)))\n",
    "data.columns = datanew_columns"
   ]
  },
  {
   "cell_type": "code",
   "execution_count": null,
   "id": "87b043d3",
   "metadata": {},
   "outputs": [],
   "source": [
    "forecast_list = []\n",
    "\n",
    "for i in range(0,len(data.columns)):\n",
    "    train_1 = data[i]\n",
    "    train_1 = pd.DataFrame(train_1)\n",
    "    \n",
    "    while (train_1.iloc[1:, :] == 0).iloc[1][i]:\n",
    "        train_1 = train_1.iloc[1:, :]\n",
    "        \n",
    "    train_1.reset_index(inplace=True)\n",
    "    train_1.columns = ['ds','y']\n",
    "    train_1['ds'] = pd.to_datetime(train_1['ds'])\n",
    "\n",
    "    train_1['extra_weight'] = 1.0  # 기본 가중치\n",
    "    train_1.loc[train_1['ds'] >= train_1['ds'].max() - pd.Timedelta(days=7), 'extra_weight'] = 1.4  # 마지막 1주일에 더 높은 가중치 설정\n",
    "\n",
    "    m = Prophet(\n",
    "    changepoint_prior_scale=0.15,\n",
    "    weekly_seasonality=3,\n",
    "    daily_seasonality = True,\n",
    "    seasonality_mode='additive'\n",
    "    )\n",
    "    m.add_regressor('extra_weight')\n",
    "    m.add_seasonality(name='monthly', period=30.5, fourier_order=3)\n",
    "    m.fit(train_1)\n",
    "    future = m.make_future_dataframe(periods=21)\n",
    "    future['extra_weight'] = 1.0  # 미래 날짜에는 기본 가중치로 설정\n",
    "    forecast = m.predict(future)\n",
    "    forecast_list.append(forecast['yhat'][-21:])\n",
    "    fig1 = m.plot(forecast)"
   ]
  },
  {
   "cell_type": "code",
   "execution_count": null,
   "id": "f58778b5",
   "metadata": {},
   "outputs": [],
   "source": [
    "t = pd.DataFrame()\n",
    "for i in range(len(forecast_list)):\n",
    "    a = pd.DataFrame(forecast_list[i])\n",
    "    k = a.T\n",
    "    k.reset_index(inplace=True)\n",
    "    k['index'] = ID_list[i]\n",
    "    k.columns = range(0,22)\n",
    "    t = pd.concat([t,k],axis=0)\n",
    "\n",
    "t[t<0] = 0"
   ]
  },
  {
   "cell_type": "code",
   "execution_count": null,
   "id": "e135d410",
   "metadata": {},
   "outputs": [],
   "source": [
    "IDlist = t[0]\n",
    "submission3 = submission.loc[IDlist]\n",
    "t.columns = submission3.columns"
   ]
  },
  {
   "cell_type": "code",
   "execution_count": null,
   "id": "a89d093d",
   "metadata": {},
   "outputs": [],
   "source": [
    "t.reset_index(drop=True,inplace=True)\n",
    "t = np.round(t).astype(int)"
   ]
  },
  {
   "cell_type": "code",
   "execution_count": null,
   "id": "514524b1",
   "metadata": {},
   "outputs": [],
   "source": [
    "id_lst = t['ID'].tolist()"
   ]
  },
  {
   "cell_type": "code",
   "execution_count": null,
   "id": "15a30125",
   "metadata": {},
   "outputs": [],
   "source": [
    "t = t.set_index('ID')"
   ]
  },
  {
   "cell_type": "code",
   "execution_count": null,
   "id": "d559a1bc",
   "metadata": {},
   "outputs": [],
   "source": [
    "idx_lst = t.index.tolist()"
   ]
  },
  {
   "cell_type": "code",
   "execution_count": null,
   "id": "06b35eaf",
   "metadata": {},
   "outputs": [],
   "source": [
    "t = t.replace(0, 1)"
   ]
  },
  {
   "cell_type": "code",
   "execution_count": null,
   "id": "c0a7d79b",
   "metadata": {},
   "outputs": [],
   "source": [
    "submission.iloc[idx_lst,1:] = t.loc[idx_lst]"
   ]
  },
  {
   "cell_type": "markdown",
   "id": "630c3109",
   "metadata": {},
   "source": [
    "***\n",
    "***3972는 해당 기간에 대해서 따로 전처리 후 모델 생성***"
   ]
  },
  {
   "cell_type": "code",
   "execution_count": null,
   "id": "1d8f448d",
   "metadata": {
    "scrolled": false
   },
   "outputs": [],
   "source": [
    "train_3792.iloc[:,-51:-31]"
   ]
  },
  {
   "cell_type": "code",
   "execution_count": null,
   "id": "c0337dbc",
   "metadata": {
    "scrolled": false
   },
   "outputs": [],
   "source": [
    "train_3792.iloc[:,-20:]"
   ]
  },
  {
   "cell_type": "code",
   "execution_count": null,
   "id": "36761851",
   "metadata": {},
   "outputs": [],
   "source": [
    "ttt = train_3792.drop(train_3792.columns[-41:-7], axis=1)"
   ]
  },
  {
   "cell_type": "code",
   "execution_count": null,
   "id": "fed031e7",
   "metadata": {},
   "outputs": [],
   "source": [
    "ttt = ttt.set_index('ID')"
   ]
  },
  {
   "cell_type": "code",
   "execution_count": null,
   "id": "bf32c888",
   "metadata": {},
   "outputs": [],
   "source": [
    "start_date = '2023-02-23'\n",
    "end_date = '2023-03-28'\n",
    "future_dates = pd.date_range(start=start_date, end=end_date)"
   ]
  },
  {
   "cell_type": "code",
   "execution_count": null,
   "id": "d9fbdabb",
   "metadata": {},
   "outputs": [],
   "source": [
    "data = ttt.iloc[:,5:].T\n",
    "ID_list = data.columns\n",
    "datanew_columns = list(range(len(data.columns)))\n",
    "data.columns = datanew_columns"
   ]
  },
  {
   "cell_type": "code",
   "execution_count": null,
   "id": "4d310e12",
   "metadata": {},
   "outputs": [],
   "source": [
    "forecast_list = []\n",
    "\n",
    "for i in range(0,len(data.columns)):\n",
    "    train_1 = data[i]\n",
    "    train_1 = pd.DataFrame(train_1)\n",
    "    train_1.reset_index(inplace=True)\n",
    "    train_1.columns = ['ds','y']\n",
    "    train_1['ds'] = pd.to_datetime(train_1['ds'])\n",
    "\n",
    "    train_1['extra_weight'] = 1.0  # 기본 가중치\n",
    "#     train_1.loc[train_1['ds'] >= train_1['ds'].max() - pd.Timedelta(days=7), 'extra_weight'] = 1.5  # 마지막 1주일에 더 높은 가중치 설정\n",
    "\n",
    "    m = Prophet(\n",
    "        changepoint_prior_scale=0.3,\n",
    "        weekly_seasonality=3,\n",
    "        daily_seasonality = True,\n",
    "        seasonality_mode='additive'\n",
    "    )\n",
    "    m.add_regressor('extra_weight')\n",
    "#     m.add_seasonality(name='monthly', period=30.5, fourier_order=3)\n",
    "    m.fit(train_1)\n",
    "    future = pd.DataFrame({'ds': future_dates, 'extra_weight': 1.0})\n",
    "    future['extra_weight'] = 1.0  # 미래 날짜에는 기본 가중치로 설정\n",
    "    forecast = m.predict(future)\n",
    "    forecast_list.append(forecast['yhat'])\n",
    "    fig1 = m.plot(forecast)"
   ]
  },
  {
   "cell_type": "code",
   "execution_count": null,
   "id": "56b1b694",
   "metadata": {},
   "outputs": [],
   "source": [
    "t = pd.DataFrame()\n",
    "for i in range(len(forecast_list)):\n",
    "    a = pd.DataFrame(forecast_list[i])\n",
    "    k = a.T\n",
    "    k.reset_index(inplace=True)\n",
    "    k['index'] = ID_list[i]\n",
    "    t = pd.concat([t,k],axis=0)\n",
    "\n",
    "t[t<0] = 0"
   ]
  },
  {
   "cell_type": "code",
   "execution_count": null,
   "id": "d882b608",
   "metadata": {},
   "outputs": [],
   "source": [
    "t = t.set_index('index')\n",
    "t = np.round(t).astype(int)"
   ]
  },
  {
   "cell_type": "code",
   "execution_count": null,
   "id": "928629d1",
   "metadata": {},
   "outputs": [],
   "source": [
    "t = t.reset_index(drop=True)"
   ]
  },
  {
   "cell_type": "code",
   "execution_count": null,
   "id": "0220ddf9",
   "metadata": {},
   "outputs": [],
   "source": [
    "t.index = train_3792.index"
   ]
  },
  {
   "cell_type": "code",
   "execution_count": null,
   "id": "f0cd3ea1",
   "metadata": {},
   "outputs": [],
   "source": [
    "train_3792.iloc[:,-41:-7] = t"
   ]
  },
  {
   "cell_type": "code",
   "execution_count": null,
   "id": "d86d1c74",
   "metadata": {},
   "outputs": [],
   "source": [
    "data = train_3792.set_index('ID').iloc[:,5:].T\n",
    "ID_list = data.columns\n",
    "datanew_columns = list(range(len(data.columns)))\n",
    "data.columns = datanew_columns"
   ]
  },
  {
   "cell_type": "code",
   "execution_count": null,
   "id": "a8844b43",
   "metadata": {},
   "outputs": [],
   "source": [
    "forecast_list = []\n",
    "\n",
    "for i in range(0,len(data.columns)):\n",
    "    train_1 = data[i]\n",
    "    train_1 = pd.DataFrame(train_1)\n",
    "    \n",
    "    while (train_1.iloc[1:, :] == 0).iloc[1][i]:\n",
    "        train_1 = train_1.iloc[1:, :]\n",
    "        \n",
    "    train_1.reset_index(inplace=True)\n",
    "    train_1.columns = ['ds','y']\n",
    "    train_1['ds'] = pd.to_datetime(train_1['ds'])\n",
    "\n",
    "    train_1['extra_weight'] = 1.0  # 기본 가중치\n",
    "    train_1.loc[train_1['ds'] >= train_1['ds'].max() - pd.Timedelta(days=7), 'extra_weight'] = 1.4  # 마지막 1주일에 더 높은 가중치 설정\n",
    "\n",
    "    m = Prophet(\n",
    "    changepoint_prior_scale=0.15,\n",
    "    weekly_seasonality=3,\n",
    "    daily_seasonality = True,\n",
    "    seasonality_mode='additive'\n",
    "    )\n",
    "    m.add_regressor('extra_weight')\n",
    "    m.add_seasonality(name='monthly', period=30.5, fourier_order=3)\n",
    "    m.fit(train_1)\n",
    "    future = m.make_future_dataframe(periods=21)\n",
    "    future['extra_weight'] = 1.0  # 미래 날짜에는 기본 가중치로 설정\n",
    "    forecast = m.predict(future)\n",
    "    forecast_list.append(forecast['yhat'][-21:])\n",
    "    fig1 = m.plot(forecast)"
   ]
  },
  {
   "cell_type": "code",
   "execution_count": null,
   "id": "6f2b8dd1",
   "metadata": {},
   "outputs": [],
   "source": [
    "t = pd.DataFrame()\n",
    "for i in range(len(forecast_list)):\n",
    "    a = pd.DataFrame(forecast_list[i])\n",
    "    k = a.T\n",
    "    k.reset_index(inplace=True)\n",
    "    k['index'] = ID_list[i]\n",
    "    k.columns = range(0,22)\n",
    "    t = pd.concat([t,k],axis=0)\n",
    "\n",
    "t[t<0] = 0"
   ]
  },
  {
   "cell_type": "code",
   "execution_count": null,
   "id": "dc2ca885",
   "metadata": {},
   "outputs": [],
   "source": [
    "IDlist = t[0]\n",
    "submission3 = submission.loc[IDlist]\n",
    "t.columns = submission3.columns"
   ]
  },
  {
   "cell_type": "code",
   "execution_count": null,
   "id": "491534dd",
   "metadata": {},
   "outputs": [],
   "source": [
    "t.reset_index(drop=True,inplace=True)\n",
    "t = np.round(t).astype(int)"
   ]
  },
  {
   "cell_type": "code",
   "execution_count": null,
   "id": "496a3439",
   "metadata": {},
   "outputs": [],
   "source": [
    "id_lst = t['ID'].tolist()"
   ]
  },
  {
   "cell_type": "code",
   "execution_count": null,
   "id": "cf644ca1",
   "metadata": {},
   "outputs": [],
   "source": [
    "t = t.set_index('ID')"
   ]
  },
  {
   "cell_type": "code",
   "execution_count": null,
   "id": "0458beb7",
   "metadata": {},
   "outputs": [],
   "source": [
    "idx_lst = t.index.tolist()"
   ]
  },
  {
   "cell_type": "code",
   "execution_count": null,
   "id": "79967cb3",
   "metadata": {},
   "outputs": [],
   "source": [
    "t = t.replace(0, 1)"
   ]
  },
  {
   "cell_type": "code",
   "execution_count": null,
   "id": "c04a28b0",
   "metadata": {},
   "outputs": [],
   "source": [
    "submission.iloc[idx_lst,1:] = t.loc[idx_lst]"
   ]
  },
  {
   "cell_type": "markdown",
   "id": "8578ea5e",
   "metadata": {},
   "source": [
    "***\n",
    "마지막 값이 0인것 기준으로 한달동안 제품이 팔리지 않았을 경우 따로 모델 생성"
   ]
  },
  {
   "cell_type": "code",
   "execution_count": null,
   "id": "985245c5",
   "metadata": {},
   "outputs": [],
   "source": [
    "filtered_rows = train[train.iloc[:, -1] == 0]"
   ]
  },
  {
   "cell_type": "code",
   "execution_count": null,
   "id": "e12b8b7b",
   "metadata": {},
   "outputs": [],
   "source": [
    "filtered_rows_zero = filtered_rows[filtered_rows.iloc[:, -30:].eq(0).all(axis=1)]"
   ]
  },
  {
   "cell_type": "code",
   "execution_count": null,
   "id": "f9268122",
   "metadata": {},
   "outputs": [],
   "source": [
    "recent_lst = filtered_rows_zero['ID'].tolist()"
   ]
  },
  {
   "cell_type": "code",
   "execution_count": null,
   "id": "17a6e200",
   "metadata": {},
   "outputs": [],
   "source": [
    "train = train[~train['ID'].isin(recent_lst)]"
   ]
  },
  {
   "cell_type": "code",
   "execution_count": null,
   "id": "cfcb9fea",
   "metadata": {},
   "outputs": [],
   "source": [
    "data = filtered_rows.set_index('ID').iloc[:,5:].T\n",
    "ID_list = data.columns\n",
    "datanew_columns = list(range(len(data.columns)))\n",
    "data.columns = datanew_columns"
   ]
  },
  {
   "cell_type": "code",
   "execution_count": null,
   "id": "c19f1d8e",
   "metadata": {},
   "outputs": [],
   "source": [
    "forecast_list = []\n",
    "\n",
    "for i in range(0,len(data.columns)):\n",
    "    train_1 = data[i]\n",
    "    train_1 = pd.DataFrame(train_1)\n",
    "    \n",
    "    while (train_1.iloc[1:, :] == 0).iloc[1][i]:\n",
    "        train_1 = train_1.iloc[1:, :]\n",
    "        \n",
    "    train_1.reset_index(inplace=True)\n",
    "    train_1.columns = ['ds','y']\n",
    "    train_1['ds'] = pd.to_datetime(train_1['ds'])\n",
    "\n",
    "    train_1['extra_weight'] = 1.0  # 기본 가중치\n",
    "    train_1.loc[train_1['ds'] >= train_1['ds'].max() - pd.Timedelta(days=30), 'extra_weight'] = 2.0  # 마지막 1주일에 더 높은 가중치 설정\n",
    "\n",
    "    m = Prophet(\n",
    "    changepoint_prior_scale=0.15,\n",
    "    weekly_seasonality=3,\n",
    "    daily_seasonality = True,\n",
    "    seasonality_mode='additive'\n",
    "    )\n",
    "    m.add_regressor('extra_weight')\n",
    "    m.add_seasonality(name='monthly', period=30.5, fourier_order=3)\n",
    "    m.fit(train_1)\n",
    "    future = m.make_future_dataframe(periods=21)\n",
    "    future['extra_weight'] = 1.0  # 미래 날짜에는 기본 가중치로 설정\n",
    "    forecast = m.predict(future)\n",
    "    forecast_list.append(forecast['yhat'][-21:])\n",
    "    fig1 = m.plot(forecast)"
   ]
  },
  {
   "cell_type": "code",
   "execution_count": null,
   "id": "4c54b61f",
   "metadata": {},
   "outputs": [],
   "source": [
    "t = pd.DataFrame()\n",
    "for i in range(len(forecast_list)):\n",
    "    a = pd.DataFrame(forecast_list[i])\n",
    "    k = a.T\n",
    "    k.reset_index(inplace=True)\n",
    "    k['index'] = ID_list[i]\n",
    "    k.columns = range(0,22)\n",
    "    t = pd.concat([t,k],axis=0)\n",
    "\n",
    "t[t<0] = 0"
   ]
  },
  {
   "cell_type": "code",
   "execution_count": null,
   "id": "8e18d992",
   "metadata": {},
   "outputs": [],
   "source": [
    "IDlist = t[0]\n",
    "submission3 = submission.loc[IDlist]\n",
    "t.columns = submission3.columns"
   ]
  },
  {
   "cell_type": "code",
   "execution_count": null,
   "id": "e3366cdf",
   "metadata": {},
   "outputs": [],
   "source": [
    "t.reset_index(drop=True,inplace=True)\n",
    "t = np.round(t).astype(int)"
   ]
  },
  {
   "cell_type": "code",
   "execution_count": null,
   "id": "ef1abc0e",
   "metadata": {},
   "outputs": [],
   "source": [
    "id_lst = t['ID'].tolist()"
   ]
  },
  {
   "cell_type": "code",
   "execution_count": null,
   "id": "378d744d",
   "metadata": {},
   "outputs": [],
   "source": [
    "t = t.set_index('ID')"
   ]
  },
  {
   "cell_type": "code",
   "execution_count": null,
   "id": "b9aacda1",
   "metadata": {},
   "outputs": [],
   "source": [
    "idx_lst = t.index.tolist()"
   ]
  },
  {
   "cell_type": "code",
   "execution_count": null,
   "id": "94959eeb",
   "metadata": {},
   "outputs": [],
   "source": [
    "t = t.replace(0, 1)"
   ]
  },
  {
   "cell_type": "code",
   "execution_count": null,
   "id": "99bdfca7",
   "metadata": {},
   "outputs": [],
   "source": [
    "submission.iloc[idx_lst,1:] = t.loc[idx_lst]"
   ]
  },
  {
   "cell_type": "markdown",
   "id": "e3c4a73f",
   "metadata": {},
   "source": [
    "***\n",
    "나머지 train에 대해서는 2023-02-23 ~ 2023-03-28 을 prophet으로 보간 후 모델링 진행"
   ]
  },
  {
   "cell_type": "code",
   "execution_count": null,
   "id": "e221059d",
   "metadata": {},
   "outputs": [],
   "source": [
    "ttt = train.drop(train.columns[-41:-7], axis=1)"
   ]
  },
  {
   "cell_type": "code",
   "execution_count": null,
   "id": "10f03adc",
   "metadata": {},
   "outputs": [],
   "source": [
    "ttt = ttt.set_index('ID')"
   ]
  },
  {
   "cell_type": "code",
   "execution_count": null,
   "id": "e2aafcf9",
   "metadata": {},
   "outputs": [],
   "source": [
    "start_date = '2023-02-23'\n",
    "end_date = '2023-03-28'\n",
    "future_dates = pd.date_range(start=start_date, end=end_date)"
   ]
  },
  {
   "cell_type": "code",
   "execution_count": null,
   "id": "23d04689",
   "metadata": {},
   "outputs": [],
   "source": [
    "data = ttt.iloc[:,5:].T\n",
    "ID_list = data.columns\n",
    "datanew_columns = list(range(len(data.columns)))\n",
    "data.columns = datanew_columns"
   ]
  },
  {
   "cell_type": "code",
   "execution_count": null,
   "id": "8adeaa45",
   "metadata": {},
   "outputs": [],
   "source": [
    "forecast_list = []\n",
    "\n",
    "for i in range(0,len(data.columns)):\n",
    "    train_1 = data[i]\n",
    "    train_1 = pd.DataFrame(train_1)\n",
    "    \n",
    "    while (train_1.iloc[1:, :] == 0).iloc[1][i]:\n",
    "        train_1 = train_1.iloc[1:, :]\n",
    "    \n",
    "    train_1.reset_index(inplace=True)\n",
    "    train_1.columns = ['ds','y']\n",
    "    train_1['ds'] = pd.to_datetime(train_1['ds'])\n",
    "\n",
    "    train_1['extra_weight'] = 1.0  # 기본 가중치\n",
    "#     train_1.loc[train_1['ds'] >= train_1['ds'].max() - pd.Timedelta(days=7), 'extra_weight'] = 1.5  # 마지막 1주일에 더 높은 가중치 설정\n",
    "\n",
    "    m = Prophet(\n",
    "        changepoint_prior_scale=0.1,\n",
    "        weekly_seasonality=3,\n",
    "        daily_seasonality = True,\n",
    "        seasonality_mode='additive'\n",
    "    )\n",
    "    m.add_regressor('extra_weight')\n",
    "#     m.add_seasonality(name='monthly', period=30.5, fourier_order=3)\n",
    "    m.fit(train_1)\n",
    "    future = pd.DataFrame({'ds': future_dates, 'extra_weight': 1.0})\n",
    "    future['extra_weight'] = 1.0  # 미래 날짜에는 기본 가중치로 설정\n",
    "    forecast = m.predict(future)\n",
    "    forecast_list.append(forecast['yhat'])\n",
    "    fig1 = m.plot(forecast)"
   ]
  },
  {
   "cell_type": "code",
   "execution_count": null,
   "id": "05f02588",
   "metadata": {},
   "outputs": [],
   "source": [
    "t = pd.DataFrame()\n",
    "for i in range(len(forecast_list)):\n",
    "    a = pd.DataFrame(forecast_list[i])\n",
    "    k = a.T\n",
    "    k.reset_index(inplace=True)\n",
    "    k['index'] = ID_list[i]\n",
    "    t = pd.concat([t,k],axis=0)\n",
    "\n",
    "t[t<0] = 0"
   ]
  },
  {
   "cell_type": "code",
   "execution_count": null,
   "id": "c5773e03",
   "metadata": {},
   "outputs": [],
   "source": [
    "t = t.set_index('index')\n",
    "t = np.round(t).astype(int)"
   ]
  },
  {
   "cell_type": "code",
   "execution_count": null,
   "id": "89b471b0",
   "metadata": {},
   "outputs": [],
   "source": [
    "t = t.reset_index(drop=True)"
   ]
  },
  {
   "cell_type": "code",
   "execution_count": null,
   "id": "fe383ba3",
   "metadata": {},
   "outputs": [],
   "source": [
    "t.index = train.index"
   ]
  },
  {
   "cell_type": "code",
   "execution_count": null,
   "id": "921a3a5a",
   "metadata": {},
   "outputs": [],
   "source": [
    "train.iloc[:,-41:-7] = t"
   ]
  },
  {
   "cell_type": "code",
   "execution_count": null,
   "id": "adb9537e",
   "metadata": {},
   "outputs": [],
   "source": [
    "data = train.set_index('ID').iloc[:,5:].T\n",
    "ID_list = data.columns\n",
    "datanew_columns = list(range(len(data.columns)))\n",
    "data.columns = datanew_columns"
   ]
  },
  {
   "cell_type": "code",
   "execution_count": null,
   "id": "95b8941f",
   "metadata": {},
   "outputs": [],
   "source": [
    "forecast_list = []\n",
    "\n",
    "for i in range(0,len(data.columns)):\n",
    "    train_1 = data[i]\n",
    "    train_1 = pd.DataFrame(train_1)\n",
    "    \n",
    "    while (train_1.iloc[1:, :] == 0).iloc[1][i]:\n",
    "        train_1 = train_1.iloc[1:, :]\n",
    "        \n",
    "    train_1.reset_index(inplace=True)\n",
    "    train_1.columns = ['ds','y']\n",
    "    train_1['ds'] = pd.to_datetime(train_1['ds'])\n",
    "\n",
    "    train_1['extra_weight'] = 1.0  # 기본 가중치\n",
    "    train_1.loc[train_1['ds'] >= train_1['ds'].max() - pd.Timedelta(days=7), 'extra_weight'] = 1.4  # 마지막 1주일에 더 높은 가중치 설정\n",
    "\n",
    "    m = Prophet(\n",
    "    changepoint_prior_scale=0.2,\n",
    "    weekly_seasonality=3,\n",
    "    daily_seasonality = True,\n",
    "    seasonality_mode='additive'\n",
    "    )\n",
    "    m.add_regressor('extra_weight')\n",
    "    m.add_seasonality(name='monthly', period=30.5, fourier_order=3)\n",
    "    m.fit(train_1)\n",
    "    future = m.make_future_dataframe(periods=21)\n",
    "    future['extra_weight'] = 1.0  # 미래 날짜에는 기본 가중치로 설정\n",
    "    forecast = m.predict(future)\n",
    "    forecast_list.append(forecast['yhat'][-21:])\n",
    "    fig1 = m.plot(forecast)"
   ]
  },
  {
   "cell_type": "code",
   "execution_count": null,
   "id": "23ed0106",
   "metadata": {},
   "outputs": [],
   "source": [
    "t = pd.DataFrame()\n",
    "for i in range(len(forecast_list)):\n",
    "    a = pd.DataFrame(forecast_list[i])\n",
    "    k = a.T\n",
    "    k.reset_index(inplace=True)\n",
    "    k['index'] = ID_list[i]\n",
    "    k.columns = range(0,22)\n",
    "    t = pd.concat([t,k],axis=0)\n",
    "\n",
    "t[t<0] = 0"
   ]
  },
  {
   "cell_type": "code",
   "execution_count": null,
   "id": "4a55cb3e",
   "metadata": {},
   "outputs": [],
   "source": [
    "IDlist = t[0]\n",
    "submission3 = submission.loc[IDlist]\n",
    "t.columns = submission3.columns"
   ]
  },
  {
   "cell_type": "code",
   "execution_count": null,
   "id": "19485f61",
   "metadata": {},
   "outputs": [],
   "source": [
    "t.reset_index(drop=True,inplace=True)\n",
    "t = np.round(t).astype(int)"
   ]
  },
  {
   "cell_type": "code",
   "execution_count": null,
   "id": "c09d6d19",
   "metadata": {},
   "outputs": [],
   "source": [
    "id_lst = t['ID'].tolist()"
   ]
  },
  {
   "cell_type": "code",
   "execution_count": null,
   "id": "28af87de",
   "metadata": {},
   "outputs": [],
   "source": [
    "t = t.set_index('ID')"
   ]
  },
  {
   "cell_type": "code",
   "execution_count": null,
   "id": "0c9194c7",
   "metadata": {},
   "outputs": [],
   "source": [
    "idx_lst = t.index.tolist()"
   ]
  },
  {
   "cell_type": "code",
   "execution_count": null,
   "id": "97fbda5a",
   "metadata": {},
   "outputs": [],
   "source": [
    "t = t.replace(0, 1)"
   ]
  },
  {
   "cell_type": "code",
   "execution_count": null,
   "id": "641f7d30",
   "metadata": {},
   "outputs": [],
   "source": [
    "submission.iloc[idx_lst,1:] = t.loc[idx_lst]"
   ]
  },
  {
   "cell_type": "code",
   "execution_count": null,
   "id": "a9f2b836",
   "metadata": {},
   "outputs": [],
   "source": [
    "submission.to_csv('./submission/대분류3번_역작_Prophet.csv', index = False)"
   ]
  }
 ],
 "metadata": {
  "kernelspec": {
   "display_name": "Python 3 (ipykernel)",
   "language": "python",
   "name": "python3"
  },
  "language_info": {
   "codemirror_mode": {
    "name": "ipython",
    "version": 3
   },
   "file_extension": ".py",
   "mimetype": "text/x-python",
   "name": "python",
   "nbconvert_exporter": "python",
   "pygments_lexer": "ipython3",
   "version": "3.8.5"
  }
 },
 "nbformat": 4,
 "nbformat_minor": 5
}
