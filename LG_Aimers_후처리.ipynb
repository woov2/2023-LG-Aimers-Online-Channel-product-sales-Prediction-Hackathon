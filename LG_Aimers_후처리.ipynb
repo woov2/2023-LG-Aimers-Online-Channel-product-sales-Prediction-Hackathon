{
 "cells": [
  {
   "cell_type": "markdown",
   "id": "70d9332d",
   "metadata": {},
   "source": [
    "---"
   ]
  },
  {
   "cell_type": "markdown",
   "id": "32460ef5",
   "metadata": {},
   "source": [
    "# ***Submission후처리 진행***"
   ]
  },
  {
   "cell_type": "markdown",
   "id": "0b055c75",
   "metadata": {},
   "source": [
    "데이터에 noise 값이 너무 많이 존재한다고 판단해 시계열성을 전혀 띌 수 없는 데이터의 형태나 값을 고려해  데이터의 통계값으로 submission을 대체해주는 후처리를 진행하였습니다.  \n",
    "  \n",
    "Ex) 데이터의 값이 3주도 존재하지 않을때 / 실질적으로 데이터에 0이 너무많아 3주의 데이터를 가지고는 시계열성을 파악할 수 없음."
   ]
  },
  {
   "cell_type": "markdown",
   "id": "4dfeab3e",
   "metadata": {},
   "source": [
    "* [1. Import](#Import)\n",
    "* [2. Read Data](#Read-Data)\n",
    "* [3. 후처리](#후처리)"
   ]
  },
  {
   "cell_type": "markdown",
   "id": "54faf07e",
   "metadata": {},
   "source": [
    "---\n",
    "---"
   ]
  },
  {
   "cell_type": "markdown",
   "id": "a7ba8f5b",
   "metadata": {},
   "source": [
    "# ***Import***"
   ]
  },
  {
   "cell_type": "code",
   "execution_count": 454,
   "id": "2ee72f07",
   "metadata": {},
   "outputs": [],
   "source": [
    "import random\n",
    "import os\n",
    "import itertools\n",
    "import pickle\n",
    "from tqdm import tqdm\n",
    "from collections import Counter\n",
    "\n",
    "import pandas as pd\n",
    "import numpy as np\n",
    "import plotly.graph_objs as go\n",
    "import matplotlib.pyplot as plt\n",
    "\n",
    "from datetime import datetime, timedelta\n",
    "from prophet import Prophet #prophet 라이브러리 불러오기\n",
    "\n",
    "from prophet.diagnostics import cross_validation\n",
    "from prophet.plot import plot_cross_validation_metric\n",
    "from prophet.diagnostics import performance_metrics"
   ]
  },
  {
   "cell_type": "markdown",
   "id": "19dc5476",
   "metadata": {},
   "source": [
    "---\n",
    "---"
   ]
  },
  {
   "cell_type": "markdown",
   "id": "d358949f",
   "metadata": {},
   "source": [
    "# ***Read Data***"
   ]
  },
  {
   "cell_type": "code",
   "execution_count": 455,
   "id": "409bded9",
   "metadata": {},
   "outputs": [],
   "source": [
    "train_data = pd.read_csv(os.path.abspath(\"./data\")+\"/train.csv\")\n",
    "keyword = pd.read_csv(os.path.abspath(\"./data\")+\"/brand_keyword_cnt.csv\")\n",
    "product = pd.read_csv(os.path.abspath(\"./data\")+\"/product_info.csv\")\n",
    "sales = pd.read_csv(os.path.abspath(\"./data\")+\"/sales.csv\")"
   ]
  },
  {
   "cell_type": "code",
   "execution_count": 456,
   "id": "694bc538",
   "metadata": {},
   "outputs": [],
   "source": [
    "sub_final = pd.read_csv(os.path.abspath(\"./submission\")+\"/deep_0.7_lgbm0.3.csv\")"
   ]
  },
  {
   "cell_type": "code",
   "execution_count": 457,
   "id": "fb37b718",
   "metadata": {},
   "outputs": [],
   "source": [
    "브랜드_lst = keyword['브랜드'].tolist()"
   ]
  },
  {
   "cell_type": "markdown",
   "id": "64e17eb6",
   "metadata": {},
   "source": [
    "---\n",
    "---"
   ]
  },
  {
   "cell_type": "markdown",
   "id": "65dac300",
   "metadata": {},
   "source": [
    "# ***후처리***"
   ]
  },
  {
   "cell_type": "markdown",
   "id": "59b1f2f3",
   "metadata": {},
   "source": [
    "* [ALL Zero Values](#ALL-Zero-Values)\n",
    "* [Duplicate Product](#Duplicate-Product)\n",
    "* [Only Two Values](#Only-Two-Values)\n",
    "* [Zero Values In 2023](#Zero-Values-In-2023)\n",
    "* [Only Two Values In 2023](#Only-Two-Values-In-2023)\n",
    "* [Only Three Values](#Only-Three-Values)\n",
    "* [Only Three Values In 2023](#Only-Three-Values-In-2023)\n",
    "* [Only 7days Values](#Only-7days-Values)\n",
    "* [Only 3Week Values](#Only-3Week-Values)\n",
    "* [Only Last Day Value](#Only-Last-Day-Value)\n",
    "* [Outlier Last 7Days](#Outlier-Last-7Days)\n",
    "\n",
    "\n",
    "* [Except Non Missing values](#Except-Non-Missing-values)"
   ]
  },
  {
   "cell_type": "markdown",
   "id": "3b6e4db9",
   "metadata": {},
   "source": [
    "***"
   ]
  },
  {
   "cell_type": "code",
   "execution_count": 458,
   "id": "165ec819",
   "metadata": {},
   "outputs": [
    {
     "data": {
      "text/plain": [
       "15890"
      ]
     },
     "execution_count": 458,
     "metadata": {},
     "output_type": "execute_result"
    }
   ],
   "source": [
    "len(train_data)"
   ]
  },
  {
   "cell_type": "markdown",
   "id": "9f67b864",
   "metadata": {},
   "source": [
    "---\n",
    "---"
   ]
  },
  {
   "cell_type": "markdown",
   "id": "5ab6af33",
   "metadata": {},
   "source": [
    "### ***ALL Zero Values***\n",
    "0으로 처리(85개)"
   ]
  },
  {
   "cell_type": "code",
   "execution_count": 459,
   "id": "4e5cda3c",
   "metadata": {},
   "outputs": [],
   "source": [
    "all_zero_id_lst = train_data[train_data.iloc[:,6:].sum(axis=1)==0]['ID'].tolist()"
   ]
  },
  {
   "cell_type": "code",
   "execution_count": 460,
   "id": "8c9016be",
   "metadata": {},
   "outputs": [
    {
     "data": {
      "text/plain": [
       "85"
      ]
     },
     "execution_count": 460,
     "metadata": {},
     "output_type": "execute_result"
    }
   ],
   "source": [
    "len(all_zero_id_lst)"
   ]
  },
  {
   "cell_type": "code",
   "execution_count": 461,
   "id": "8e2f73f8",
   "metadata": {},
   "outputs": [],
   "source": [
    "sub_final.loc[sub_final['ID'].isin(all_zero_id_lst), sub_final.columns[1:]] = 0"
   ]
  },
  {
   "cell_type": "code",
   "execution_count": 462,
   "id": "71a9e77d",
   "metadata": {},
   "outputs": [],
   "source": [
    "train_data = train_data[~train_data['ID'].isin(all_zero_id_lst)]\n",
    "train_data.reset_index(drop=True, inplace=True)"
   ]
  },
  {
   "cell_type": "code",
   "execution_count": 463,
   "id": "8b261832",
   "metadata": {},
   "outputs": [
    {
     "data": {
      "text/plain": [
       "(15805, 15805)"
      ]
     },
     "execution_count": 463,
     "metadata": {},
     "output_type": "execute_result"
    }
   ],
   "source": [
    "15890 - 85, len(train_data)"
   ]
  },
  {
   "cell_type": "markdown",
   "id": "28868ce8",
   "metadata": {},
   "source": [
    "---\n",
    "---"
   ]
  },
  {
   "cell_type": "markdown",
   "id": "de63e932",
   "metadata": {},
   "source": [
    "### ***Duplicate Product***\n",
    "단종 제품 0으로 처리(40개)"
   ]
  },
  {
   "cell_type": "code",
   "execution_count": 464,
   "id": "7c55970e",
   "metadata": {},
   "outputs": [
    {
     "data": {
      "text/plain": [
       "Int64Index([  113,   114,   214,   215,  3060,  3061,  4451,  4452,  4513,\n",
       "             4514,  4810,  4811,  4846,  4847,  5319,  5320,  5767,  5768,\n",
       "             5929,  5930,  5966,  5967,  5971,  5972,  5973,  5974,  5998,\n",
       "             5999,  6853,  6854,  6856,  6857,  7131,  7132,  7133,  7134,\n",
       "             7135,  7136,  7137,  7138,  7143,  7144,  7152,  7153,  7889,\n",
       "             7890,  7939,  7940,  8333,  8334,  8654,  8655,  8658,  8659,\n",
       "             9118,  9119,  9203,  9204,  9639,  9640,  9642,  9643, 10344,\n",
       "            10345, 11698, 11699, 11993, 11994, 13162, 13163, 14300, 14301,\n",
       "            14306, 14307, 14639, 14640, 14962, 14963, 15740, 15741],\n",
       "           dtype='int64')"
      ]
     },
     "execution_count": 464,
     "metadata": {},
     "output_type": "execute_result"
    }
   ],
   "source": [
    "train_data[train_data.duplicated('제품', keep=False)]['제품'].index"
   ]
  },
  {
   "cell_type": "code",
   "execution_count": 465,
   "id": "f0f64e7f",
   "metadata": {
    "scrolled": false
   },
   "outputs": [],
   "source": [
    "# 모든 id가 연속적임을 확인할 수 있음.\n",
    "for i in range(0, len(train_data[train_data.duplicated('제품', keep=False)]['제품'].index), 2):\n",
    "    idx = train_data[train_data.duplicated('제품', keep=False)]['제품'].index[i]\n",
    "    idx_plus = train_data[train_data.duplicated('제품', keep=False)]['제품'].index[i+1]\n",
    "    if train_data.loc[idx]['제품'] == train_data.loc[idx_plus]['제품']:\n",
    "        pass\n",
    "    else:\n",
    "        print('중복되지 않습니다')"
   ]
  },
  {
   "cell_type": "code",
   "execution_count": 466,
   "id": "2baaeefa",
   "metadata": {},
   "outputs": [],
   "source": [
    "dup_id_lst = list(set(train_data[train_data.duplicated('제품', keep=False)]['ID'].tolist()))\n",
    "\n",
    "dup_lst = list(set(train_data[train_data.duplicated('제품', keep=False)]['제품'].tolist()))\n",
    "\n",
    "train_dup = train_data[train_data['제품'].isin(dup_lst)]\n",
    "sales_dup = sales[sales['제품'].isin(dup_lst)]"
   ]
  },
  {
   "cell_type": "code",
   "execution_count": 467,
   "id": "e5bd9523",
   "metadata": {},
   "outputs": [
    {
     "data": {
      "text/plain": [
       "80"
      ]
     },
     "execution_count": 467,
     "metadata": {},
     "output_type": "execute_result"
    }
   ],
   "source": [
    "len(dup_id_lst)"
   ]
  },
  {
   "cell_type": "code",
   "execution_count": 468,
   "id": "62c7f7d8",
   "metadata": {},
   "outputs": [],
   "source": [
    "dup_0_id_lst = []\n",
    "for i in range(0,len(dup_id_lst),2):\n",
    "    dup_0_id_lst.append(train_dup.iloc[i,0])"
   ]
  },
  {
   "cell_type": "code",
   "execution_count": 469,
   "id": "421403dc",
   "metadata": {},
   "outputs": [],
   "source": [
    "dup_1_id_lst = []\n",
    "for i in range(1,len(dup_id_lst),2):\n",
    "    dup_1_id_lst.append(train_dup.iloc[i,0])"
   ]
  },
  {
   "cell_type": "markdown",
   "id": "04d7439c",
   "metadata": {},
   "source": [
    "***dup_0 이 단종 되고 dup_1로 바뀐것으로 판단 가능.***"
   ]
  },
  {
   "cell_type": "code",
   "execution_count": 470,
   "id": "337b64c0",
   "metadata": {},
   "outputs": [],
   "source": [
    "df_dup = pd.DataFrame()\n",
    "\n",
    "for i in range(1,len(dup_id_lst),2):\n",
    "    data_0 = pd.DataFrame(train_dup.set_index('ID').iloc[i,5:].T)\n",
    "    # 0으로 출발값들 전부 제거\n",
    "    while (data_0.iloc[0:, :] == 0).iloc[0,0]:\n",
    "        data_0 = data_0.iloc[1:, :]\n",
    "        \n",
    "    data_0 = data_0.T\n",
    "    data_0.reset_index(drop=True, inplace=True)\n",
    "\n",
    "    data_1 = pd.DataFrame(train_dup.set_index('ID').iloc[i-1,5:].T)\n",
    "    data_1 = data_1.T\n",
    "    data_1.columns = pd.to_datetime(data_1.columns)\n",
    "    data_1.reset_index(drop=True, inplace=True)\n",
    "    \n",
    "    start_date = pd.to_datetime(data_0.columns)[0].to_pydatetime()\n",
    "    \n",
    "    filtered_columns = data_1.loc[:, data_1.columns < start_date]\n",
    "    filtered_columns.columns = filtered_columns.columns.strftime('%Y-%m-%d')\n",
    "    \n",
    "    tt = pd.concat([filtered_columns, data_0], axis = 1)\n",
    "    df_dup = pd.concat([df_dup, tt], axis = 0)"
   ]
  },
  {
   "cell_type": "code",
   "execution_count": 471,
   "id": "ffa22d62",
   "metadata": {},
   "outputs": [],
   "source": [
    "df_dup.index = train_data[train_data['ID'].isin(dup_1_id_lst)].index"
   ]
  },
  {
   "cell_type": "code",
   "execution_count": 472,
   "id": "95f68204",
   "metadata": {},
   "outputs": [],
   "source": [
    "train_data.loc[train_data['ID'].isin(dup_1_id_lst), train_data.columns[6:]] = df_dup"
   ]
  },
  {
   "cell_type": "code",
   "execution_count": 473,
   "id": "90bb50a7",
   "metadata": {},
   "outputs": [],
   "source": [
    "train_data = train_data[~train_data['ID'].isin(dup_0_id_lst)]\n",
    "train_data.reset_index(drop=True, inplace=True)"
   ]
  },
  {
   "cell_type": "markdown",
   "id": "86782368",
   "metadata": {},
   "source": [
    "***단종된 제품들 0으로 처리***"
   ]
  },
  {
   "cell_type": "code",
   "execution_count": 474,
   "id": "722454a4",
   "metadata": {},
   "outputs": [],
   "source": [
    "sub_final.loc[sub_final['ID'].isin(dup_0_id_lst), sub_final.columns[1:]] = 0"
   ]
  },
  {
   "cell_type": "code",
   "execution_count": 475,
   "id": "c16aabc9",
   "metadata": {},
   "outputs": [
    {
     "data": {
      "text/plain": [
       "(15765, 15765)"
      ]
     },
     "execution_count": 475,
     "metadata": {},
     "output_type": "execute_result"
    }
   ],
   "source": [
    "15805 - 40, len(train_data)"
   ]
  },
  {
   "cell_type": "markdown",
   "id": "6729fbd6",
   "metadata": {},
   "source": [
    "---\n",
    "---"
   ]
  },
  {
   "cell_type": "markdown",
   "id": "29b85e67",
   "metadata": {},
   "source": [
    "### ***Only Two Values***\n",
    "0제외 값으로 처리(1287개)"
   ]
  },
  {
   "cell_type": "code",
   "execution_count": 476,
   "id": "744f0e82",
   "metadata": {},
   "outputs": [],
   "source": [
    "subset = train_data.iloc[:, 6:]\n",
    "\n",
    "# 각 행 별로 유일한 값의 개수를 세어서 결과를 Series로 저장\n",
    "unique_counts = subset.nunique(axis=1)\n",
    "\n",
    "# 유일한 값이 두 개밖에 없는 행 추출\n",
    "rows_with_two_unique_values = subset[unique_counts == 2]"
   ]
  },
  {
   "cell_type": "code",
   "execution_count": 477,
   "id": "d98b3d53",
   "metadata": {},
   "outputs": [],
   "source": [
    "two_unique_lst = rows_with_two_unique_values.index"
   ]
  },
  {
   "cell_type": "code",
   "execution_count": 478,
   "id": "76361b3d",
   "metadata": {},
   "outputs": [],
   "source": [
    "two_id_lst = train_data.loc[two_unique_lst]['ID'].tolist()"
   ]
  },
  {
   "cell_type": "code",
   "execution_count": 479,
   "id": "8ee81eeb",
   "metadata": {},
   "outputs": [
    {
     "data": {
      "text/plain": [
       "1287"
      ]
     },
     "execution_count": 479,
     "metadata": {},
     "output_type": "execute_result"
    }
   ],
   "source": [
    "len(two_id_lst)"
   ]
  },
  {
   "cell_type": "code",
   "execution_count": 480,
   "id": "102b636c",
   "metadata": {},
   "outputs": [],
   "source": [
    "# two_unique_lst에 해당하는 행 추출\n",
    "selected_rows = train_data.loc[two_unique_lst].iloc[:,6:]\n",
    "\n",
    "# 0을 제외한 각 행의 가장 많이 나온 값 찾기\n",
    "most_common_values = selected_rows.apply(lambda row: np.bincount(row[row != 0]).argmax(), axis=1)"
   ]
  },
  {
   "cell_type": "code",
   "execution_count": 481,
   "id": "ca96520b",
   "metadata": {},
   "outputs": [],
   "source": [
    "result_df = pd.DataFrame({'ID': two_id_lst, 'Most_Common_Value': most_common_values})"
   ]
  },
  {
   "cell_type": "code",
   "execution_count": 482,
   "id": "00e4a705",
   "metadata": {},
   "outputs": [],
   "source": [
    "for i, row in result_df.iterrows():\n",
    "    id_value = row['ID']\n",
    "    value = row['Most_Common_Value']\n",
    "    sub_final.loc[sub_final['ID']==id_value, sub_final.columns != 'ID'] = value"
   ]
  },
  {
   "cell_type": "code",
   "execution_count": 483,
   "id": "0fa781dd",
   "metadata": {},
   "outputs": [
    {
     "data": {
      "text/plain": [
       "True"
      ]
     },
     "execution_count": 483,
     "metadata": {},
     "output_type": "execute_result"
    }
   ],
   "source": [
    "all_true_rows = sub_final[sub_final['ID'].isin(two_id_lst)].iloc[:, 1:].apply(lambda row: row == row.iloc[0], axis=1).all(axis=1)\n",
    "result = all_true_rows.all()\n",
    "result"
   ]
  },
  {
   "cell_type": "markdown",
   "id": "ffe5a461",
   "metadata": {},
   "source": [
    "row 별로 전부 똑같은 값이 들어감을 확인 할 수 있음."
   ]
  },
  {
   "cell_type": "code",
   "execution_count": 484,
   "id": "cdf9f003",
   "metadata": {},
   "outputs": [],
   "source": [
    "train_data = train_data[~train_data['ID'].isin(two_id_lst)]\n",
    "train_data.reset_index(drop=True, inplace=True)"
   ]
  },
  {
   "cell_type": "code",
   "execution_count": 485,
   "id": "8e171162",
   "metadata": {},
   "outputs": [
    {
     "data": {
      "text/plain": [
       "(14478, 14478)"
      ]
     },
     "execution_count": 485,
     "metadata": {},
     "output_type": "execute_result"
    }
   ],
   "source": [
    "15765 - 1287, len(train_data)"
   ]
  },
  {
   "cell_type": "markdown",
   "id": "7260239e",
   "metadata": {},
   "source": [
    "---\n",
    "---"
   ]
  },
  {
   "cell_type": "markdown",
   "id": "a71dd44d",
   "metadata": {},
   "source": [
    "### ***Zero Values In 2023***\n",
    "1로 처리(4631개)"
   ]
  },
  {
   "cell_type": "code",
   "execution_count": 486,
   "id": "c4484622",
   "metadata": {},
   "outputs": [],
   "source": [
    "zero_2023_id_lst = train_data[train_data.iloc[:,-94:].sum(axis=1)==0]['ID'].tolist()"
   ]
  },
  {
   "cell_type": "code",
   "execution_count": 487,
   "id": "fbfd43d5",
   "metadata": {},
   "outputs": [
    {
     "data": {
      "text/plain": [
       "4631"
      ]
     },
     "execution_count": 487,
     "metadata": {},
     "output_type": "execute_result"
    }
   ],
   "source": [
    "len(zero_2023_id_lst)"
   ]
  },
  {
   "cell_type": "code",
   "execution_count": 488,
   "id": "6449cabf",
   "metadata": {},
   "outputs": [],
   "source": [
    "sub_final.loc[sub_final['ID'].isin(zero_2023_id_lst), sub_final.columns[1:]] = 1"
   ]
  },
  {
   "cell_type": "code",
   "execution_count": 489,
   "id": "9909553f",
   "metadata": {},
   "outputs": [],
   "source": [
    "train_data = train_data[~train_data['ID'].isin(zero_2023_id_lst)]\n",
    "train_data.reset_index(drop=True, inplace=True)"
   ]
  },
  {
   "cell_type": "code",
   "execution_count": 490,
   "id": "ecf0fd95",
   "metadata": {},
   "outputs": [
    {
     "data": {
      "text/plain": [
       "(9847, 9847)"
      ]
     },
     "execution_count": 490,
     "metadata": {},
     "output_type": "execute_result"
    }
   ],
   "source": [
    "14478 - 4631, len(train_data)"
   ]
  },
  {
   "cell_type": "markdown",
   "id": "ebf0ea6f",
   "metadata": {},
   "source": [
    "---\n",
    "---"
   ]
  },
  {
   "cell_type": "markdown",
   "id": "4e982188",
   "metadata": {},
   "source": [
    "### ***Only Two Values In 2023***\n",
    "0 제외 최빈값으로 처리 (713개)"
   ]
  },
  {
   "cell_type": "code",
   "execution_count": 491,
   "id": "13afbb28",
   "metadata": {},
   "outputs": [],
   "source": [
    "subset = train_data.iloc[:, -94:]\n",
    "\n",
    "# 각 행 별로 유일한 값의 개수를 세어서 결과를 Series로 저장\n",
    "unique_counts = subset.nunique(axis=1)\n",
    "\n",
    "# 유일한 값이 두 개밖에 없는 행 추출\n",
    "rows_with_two_unique_values_2023 = subset[unique_counts == 2]"
   ]
  },
  {
   "cell_type": "code",
   "execution_count": 492,
   "id": "093a4706",
   "metadata": {},
   "outputs": [],
   "source": [
    "two_unique_lst_2023 = rows_with_two_unique_values_2023.index"
   ]
  },
  {
   "cell_type": "code",
   "execution_count": 493,
   "id": "c647e9a4",
   "metadata": {},
   "outputs": [],
   "source": [
    "two_id_lst_2023 = train_data.loc[two_unique_lst_2023]['ID'].tolist()"
   ]
  },
  {
   "cell_type": "code",
   "execution_count": 494,
   "id": "6cf0bda3",
   "metadata": {},
   "outputs": [
    {
     "data": {
      "text/plain": [
       "713"
      ]
     },
     "execution_count": 494,
     "metadata": {},
     "output_type": "execute_result"
    }
   ],
   "source": [
    "len(two_id_lst_2023)"
   ]
  },
  {
   "cell_type": "code",
   "execution_count": 495,
   "id": "1de0b98b",
   "metadata": {},
   "outputs": [],
   "source": [
    "# two_unique_lst에 해당하는 행 추출\n",
    "selected_rows_2023 = train_data.loc[two_unique_lst_2023].iloc[:, -94:]\n",
    "\n",
    "# 0을 제외한 각 행의 가장 많이 나온 값 찾기\n",
    "most_common_values_2023 = selected_rows_2023.apply(lambda row: np.bincount(row[row != 0]).argmax(), axis=1)"
   ]
  },
  {
   "cell_type": "code",
   "execution_count": 496,
   "id": "032f50a3",
   "metadata": {},
   "outputs": [],
   "source": [
    "result_df_2023 = pd.DataFrame({'ID': two_id_lst_2023, 'Most_Common_Value': most_common_values_2023})"
   ]
  },
  {
   "cell_type": "code",
   "execution_count": 497,
   "id": "ffeb3d32",
   "metadata": {},
   "outputs": [],
   "source": [
    "for i, row in result_df_2023.iterrows():\n",
    "    id_value = row['ID']\n",
    "    value = row['Most_Common_Value']\n",
    "    sub_final.loc[sub_final['ID']==id_value, sub_final.columns != 'ID'] = value"
   ]
  },
  {
   "cell_type": "code",
   "execution_count": 498,
   "id": "9d6d4b0f",
   "metadata": {},
   "outputs": [
    {
     "data": {
      "text/plain": [
       "True"
      ]
     },
     "execution_count": 498,
     "metadata": {},
     "output_type": "execute_result"
    }
   ],
   "source": [
    "all_true_rows = sub_final[sub_final['ID'].isin(two_id_lst_2023)].iloc[:, 1:].apply(lambda row: row == row.iloc[0], axis=1).all(axis=1)\n",
    "result = all_true_rows.all()\n",
    "result"
   ]
  },
  {
   "cell_type": "markdown",
   "id": "f161bb36",
   "metadata": {},
   "source": [
    "row 별로 전부 똑같은 값이 들어감을 확인 할 수 있음."
   ]
  },
  {
   "cell_type": "code",
   "execution_count": 499,
   "id": "7e9ef66f",
   "metadata": {},
   "outputs": [],
   "source": [
    "train_data = train_data[~train_data['ID'].isin(two_id_lst_2023)]\n",
    "train_data.reset_index(drop=True, inplace=True)"
   ]
  },
  {
   "cell_type": "code",
   "execution_count": 500,
   "id": "878ec7a0",
   "metadata": {},
   "outputs": [
    {
     "data": {
      "text/plain": [
       "(9134, 9134)"
      ]
     },
     "execution_count": 500,
     "metadata": {},
     "output_type": "execute_result"
    }
   ],
   "source": [
    "9847 - 713, len(train_data)"
   ]
  },
  {
   "cell_type": "markdown",
   "id": "7701e39f",
   "metadata": {},
   "source": [
    "---\n",
    "---"
   ]
  },
  {
   "cell_type": "markdown",
   "id": "806d4d99",
   "metadata": {},
   "source": [
    "### ***Only Three Values***\n",
    "(183개)"
   ]
  },
  {
   "cell_type": "markdown",
   "id": "a9c9a591",
   "metadata": {},
   "source": [
    "마지막 10일간 값이 없으면 그냥 0제외 두개중 최빈값으로 대체(94개)  \n",
    "  \n",
    "마지막 10일간 값이 존재하면 10일중 0제외 최빈값으로 대체(89개)\n",
    "\n"
   ]
  },
  {
   "cell_type": "code",
   "execution_count": 501,
   "id": "ca8b1a43",
   "metadata": {},
   "outputs": [],
   "source": [
    "subset = train_data.iloc[:, 6:]\n",
    "\n",
    "# 각 행 별로 유일한 값의 개수를 세어서 결과를 Series로 저장\n",
    "unique_counts = subset.nunique(axis=1)\n",
    "\n",
    "# 유일한 값이 세 개밖에 없는 행 추출\n",
    "rows_with_three_unique_values = subset[unique_counts == 3]"
   ]
  },
  {
   "cell_type": "code",
   "execution_count": 502,
   "id": "11621f9c",
   "metadata": {},
   "outputs": [],
   "source": [
    "three_unique_lst = rows_with_three_unique_values.index"
   ]
  },
  {
   "cell_type": "code",
   "execution_count": 503,
   "id": "91239b65",
   "metadata": {},
   "outputs": [],
   "source": [
    "three_id_lst = train_data.loc[three_unique_lst]['ID'].tolist()"
   ]
  },
  {
   "cell_type": "code",
   "execution_count": 504,
   "id": "06409218",
   "metadata": {},
   "outputs": [
    {
     "data": {
      "text/plain": [
       "183"
      ]
     },
     "execution_count": 504,
     "metadata": {},
     "output_type": "execute_result"
    }
   ],
   "source": [
    "len(three_id_lst)"
   ]
  },
  {
   "cell_type": "markdown",
   "id": "b7f06939",
   "metadata": {},
   "source": [
    "  "
   ]
  },
  {
   "cell_type": "markdown",
   "id": "7baa7aa7",
   "metadata": {},
   "source": [
    "*마지막 10일간 값이 없을때*     (94개)"
   ]
  },
  {
   "cell_type": "code",
   "execution_count": 505,
   "id": "5a0d6438",
   "metadata": {},
   "outputs": [],
   "source": [
    "f = rows_with_three_unique_values[rows_with_three_unique_values.iloc[:, -10:].eq(0).all(axis=1)]"
   ]
  },
  {
   "cell_type": "code",
   "execution_count": 506,
   "id": "5e690aea",
   "metadata": {},
   "outputs": [],
   "source": [
    "f_lst = f.index.tolist()\n",
    "f_id_lst = train_data.loc[f_lst]['ID'].tolist()"
   ]
  },
  {
   "cell_type": "code",
   "execution_count": 507,
   "id": "140b03b8",
   "metadata": {
    "scrolled": true
   },
   "outputs": [
    {
     "data": {
      "text/plain": [
       "94"
      ]
     },
     "execution_count": 507,
     "metadata": {},
     "output_type": "execute_result"
    }
   ],
   "source": [
    "len(f_lst)"
   ]
  },
  {
   "cell_type": "code",
   "execution_count": 508,
   "id": "8af42097",
   "metadata": {},
   "outputs": [],
   "source": [
    "# two_unique_lst에 해당하는 행 추출\n",
    "selected_rows_f = train_data.loc[f_lst].iloc[:,6:]\n",
    "\n",
    "# 0을 제외한 각 행의 가장 많이 나온 값 찾기\n",
    "most_common_values_f = selected_rows_f.apply(lambda row: np.bincount(row[row != 0]).argmax(), axis=1)"
   ]
  },
  {
   "cell_type": "code",
   "execution_count": 509,
   "id": "d085f47c",
   "metadata": {},
   "outputs": [],
   "source": [
    "result_df_f = pd.DataFrame({'ID': f_id_lst, 'Most_Common_Value': most_common_values_f})"
   ]
  },
  {
   "cell_type": "code",
   "execution_count": 510,
   "id": "0561eea1",
   "metadata": {},
   "outputs": [],
   "source": [
    "for i, row in result_df_f.iterrows():\n",
    "    id_value = row['ID']\n",
    "    value = row['Most_Common_Value']\n",
    "    sub_final.loc[sub_final['ID']==id_value, sub_final.columns != 'ID'] = value"
   ]
  },
  {
   "cell_type": "markdown",
   "id": "58a59625",
   "metadata": {},
   "source": [
    "최빈값이 중복일땐 마지막 값으로 대체"
   ]
  },
  {
   "cell_type": "code",
   "execution_count": 511,
   "id": "2eddfdda",
   "metadata": {},
   "outputs": [],
   "source": [
    "dup_idx_lst = []\n",
    "for i in range(len(f)):\n",
    "    f_T = f.iloc[i,:].T\n",
    "    f_T = [value for value in f_T if value != 0]\n",
    "    count_tt = 0\n",
    "    counter_values = Counter(f_T)\n",
    "    for value, count in counter_values.items():\n",
    "        if count == counter_values.most_common(1)[0][1]:\n",
    "            count_tt += 1\n",
    "    if count_tt == 2:\n",
    "        dup_idx_lst.append(f.iloc[i,:].name)"
   ]
  },
  {
   "cell_type": "code",
   "execution_count": 512,
   "id": "007f7e58",
   "metadata": {},
   "outputs": [],
   "source": [
    "dup_id_lst = train_data.loc[dup_idx_lst]['ID'].tolist()"
   ]
  },
  {
   "cell_type": "code",
   "execution_count": 513,
   "id": "b4971d92",
   "metadata": {},
   "outputs": [],
   "source": [
    "dup_value_lst = []"
   ]
  },
  {
   "cell_type": "code",
   "execution_count": 514,
   "id": "1f778610",
   "metadata": {},
   "outputs": [],
   "source": [
    "z = train_data[train_data['ID'].isin(dup_id_lst)]\n",
    "for i in range(len(z)):\n",
    "    z_T = pd.DataFrame(z.iloc[i, 6:])\n",
    "    z_T = z_T[~(z_T == 0).all(axis=1)]\n",
    "    dup_value_lst.append(z_T.iloc[-1,0])"
   ]
  },
  {
   "cell_type": "code",
   "execution_count": 515,
   "id": "7c402f4a",
   "metadata": {},
   "outputs": [],
   "source": [
    "result_df_dup = pd.DataFrame({'ID': dup_id_lst, 'Most_Common_Value': dup_value_lst})"
   ]
  },
  {
   "cell_type": "code",
   "execution_count": 516,
   "id": "85bea278",
   "metadata": {},
   "outputs": [],
   "source": [
    "for i, row in result_df_dup.iterrows():\n",
    "    id_value = row['ID']\n",
    "    value = row['Most_Common_Value']\n",
    "    sub_final.loc[sub_final['ID']==id_value, sub_final.columns != 'ID'] = value"
   ]
  },
  {
   "cell_type": "markdown",
   "id": "c5dd4277",
   "metadata": {},
   "source": [
    "  "
   ]
  },
  {
   "cell_type": "markdown",
   "id": "47b91a0b",
   "metadata": {},
   "source": [
    "*마지막 10일간 값이 있을때*  (89개)"
   ]
  },
  {
   "cell_type": "code",
   "execution_count": 517,
   "id": "4eee360c",
   "metadata": {},
   "outputs": [],
   "source": [
    "f_10 = rows_with_three_unique_values[rows_with_three_unique_values.iloc[:,-10:].sum(axis=1)!=0]"
   ]
  },
  {
   "cell_type": "code",
   "execution_count": 518,
   "id": "587817d7",
   "metadata": {
    "scrolled": true
   },
   "outputs": [],
   "source": [
    "f_lst_10 = f_10.index.tolist()\n",
    "f_id_lst_10 = train_data.loc[f_lst_10]['ID'].tolist()"
   ]
  },
  {
   "cell_type": "code",
   "execution_count": 519,
   "id": "2e4034e7",
   "metadata": {
    "scrolled": true
   },
   "outputs": [
    {
     "data": {
      "text/plain": [
       "89"
      ]
     },
     "execution_count": 519,
     "metadata": {},
     "output_type": "execute_result"
    }
   ],
   "source": [
    "len(f_lst_10)"
   ]
  },
  {
   "cell_type": "code",
   "execution_count": 520,
   "id": "4ad6e125",
   "metadata": {},
   "outputs": [],
   "source": [
    "# two_unique_lst에 해당하는 행 추출\n",
    "selected_rows_f_10 = train_data.loc[f_lst_10].iloc[:,6:]\n",
    "\n",
    "# 0을 제외한 각 행의 가장 많이 나온 값 찾기\n",
    "most_common_values_f_10 = selected_rows_f_10.apply(lambda row: np.bincount(row[row != 0]).argmax(), axis=1)"
   ]
  },
  {
   "cell_type": "code",
   "execution_count": 521,
   "id": "aea95023",
   "metadata": {},
   "outputs": [],
   "source": [
    "result_df_10 = pd.DataFrame({'ID': f_id_lst_10, 'Most_Common_Value': most_common_values_f_10})"
   ]
  },
  {
   "cell_type": "code",
   "execution_count": 522,
   "id": "6420877c",
   "metadata": {},
   "outputs": [],
   "source": [
    "for i, row in result_df_10.iterrows():\n",
    "    id_value = row['ID']\n",
    "    value = row['Most_Common_Value']\n",
    "    sub_final.loc[sub_final['ID']==id_value, sub_final.columns != 'ID'] = value"
   ]
  },
  {
   "cell_type": "markdown",
   "id": "3317c2a7",
   "metadata": {},
   "source": [
    "최빈값이 중복일땐 마지막 값으로 대체"
   ]
  },
  {
   "cell_type": "code",
   "execution_count": 523,
   "id": "764ba20a",
   "metadata": {},
   "outputs": [],
   "source": [
    "dup_idx_lst_10 = []\n",
    "for i in range(len(f_10)):\n",
    "    f_T_10 = f_10.iloc[i,:].T\n",
    "    f_T_10 = [value for value in f_T_10 if value != 0]\n",
    "    count_tt_10 = 0\n",
    "    counter_values_10 = Counter(f_T_10)\n",
    "    for value, count in counter_values_10.items():\n",
    "        if count == counter_values_10.most_common(1)[0][1]:\n",
    "            count_tt_10 += 1\n",
    "    if count_tt_10 == 2:\n",
    "        dup_idx_lst_10.append(f_10.iloc[i,:].name)"
   ]
  },
  {
   "cell_type": "code",
   "execution_count": 524,
   "id": "432872a5",
   "metadata": {},
   "outputs": [],
   "source": [
    "dup_id_lst_10 = train_data.loc[dup_idx_lst_10]['ID'].tolist()"
   ]
  },
  {
   "cell_type": "code",
   "execution_count": 525,
   "id": "885600dd",
   "metadata": {},
   "outputs": [],
   "source": [
    "dup_value_lst_10 = []"
   ]
  },
  {
   "cell_type": "code",
   "execution_count": 526,
   "id": "12343a43",
   "metadata": {},
   "outputs": [],
   "source": [
    "z_10 = train_data[train_data['ID'].isin(dup_id_lst_10)]\n",
    "for i in range(len(z_10)):\n",
    "    z_T_10 = pd.DataFrame(z_10.iloc[i, 6:])\n",
    "    z_T_10 = z_T_10[~(z_T_10 == 0).all(axis=1)]\n",
    "    dup_value_lst_10.append(z_T_10.iloc[-1,0])"
   ]
  },
  {
   "cell_type": "code",
   "execution_count": 527,
   "id": "395246f0",
   "metadata": {},
   "outputs": [],
   "source": [
    "result_df_dup_10 = pd.DataFrame({'ID': dup_id_lst_10, 'Most_Common_Value': dup_value_lst_10})"
   ]
  },
  {
   "cell_type": "code",
   "execution_count": 528,
   "id": "221cf0e9",
   "metadata": {},
   "outputs": [],
   "source": [
    "for i, row in result_df_dup_10.iterrows():\n",
    "    id_value = row['ID']\n",
    "    value = row['Most_Common_Value']\n",
    "    sub_final.loc[sub_final['ID']==id_value, sub_final.columns != 'ID'] = value"
   ]
  },
  {
   "cell_type": "code",
   "execution_count": 529,
   "id": "5250ec79",
   "metadata": {},
   "outputs": [],
   "source": [
    "train_data = train_data[~train_data['ID'].isin(f_id_lst)]\n",
    "train_data.reset_index(drop=True, inplace=True)"
   ]
  },
  {
   "cell_type": "code",
   "execution_count": 530,
   "id": "83a7f712",
   "metadata": {},
   "outputs": [],
   "source": [
    "train_data = train_data[~train_data['ID'].isin(f_id_lst_10)]\n",
    "train_data.reset_index(drop=True, inplace=True)"
   ]
  },
  {
   "cell_type": "code",
   "execution_count": 531,
   "id": "00688257",
   "metadata": {},
   "outputs": [
    {
     "data": {
      "text/plain": [
       "(8951, 8951)"
      ]
     },
     "execution_count": 531,
     "metadata": {},
     "output_type": "execute_result"
    }
   ],
   "source": [
    "9134 - 183, len(train_data)"
   ]
  },
  {
   "cell_type": "markdown",
   "id": "0cf42084",
   "metadata": {},
   "source": [
    "---\n",
    "---"
   ]
  },
  {
   "cell_type": "markdown",
   "id": "79b549d0",
   "metadata": {},
   "source": [
    "### ***Only Three Values In 2023***\n",
    "(716개)  \n",
    "\n",
    "마지막 7일간 값이 없으면 그냥 0제외 두개중 최빈값으로 대체(500개)\n",
    "\n",
    "마지막 7일간 값이 존재하면 10일중 0제외 최빈값으로 대체(216개)"
   ]
  },
  {
   "cell_type": "code",
   "execution_count": 532,
   "id": "8074911d",
   "metadata": {},
   "outputs": [],
   "source": [
    "subset = train_data.iloc[:, -94:]\n",
    "\n",
    "# 각 행 별로 유일한 값의 개수를 세어서 결과를 Series로 저장\n",
    "unique_counts = subset.nunique(axis=1)\n",
    "\n",
    "# 유일한 값이 세 개밖에 없는 행 추출\n",
    "rows_with_three_unique_values = subset[unique_counts == 3]"
   ]
  },
  {
   "cell_type": "code",
   "execution_count": 533,
   "id": "f5354504",
   "metadata": {},
   "outputs": [],
   "source": [
    "three_unique_lst = rows_with_three_unique_values.index"
   ]
  },
  {
   "cell_type": "code",
   "execution_count": 534,
   "id": "97d7e14c",
   "metadata": {},
   "outputs": [],
   "source": [
    "three_id_lst = train_data.loc[three_unique_lst]['ID'].tolist()"
   ]
  },
  {
   "cell_type": "code",
   "execution_count": 535,
   "id": "cf5e4392",
   "metadata": {},
   "outputs": [
    {
     "data": {
      "text/plain": [
       "716"
      ]
     },
     "execution_count": 535,
     "metadata": {},
     "output_type": "execute_result"
    }
   ],
   "source": [
    "len(three_id_lst)"
   ]
  },
  {
   "cell_type": "markdown",
   "id": "c8c2e941",
   "metadata": {},
   "source": [
    "*마지막 10일간 값이 없을때*     (94개)"
   ]
  },
  {
   "cell_type": "code",
   "execution_count": 536,
   "id": "426d53f2",
   "metadata": {},
   "outputs": [],
   "source": [
    "f = rows_with_three_unique_values[rows_with_three_unique_values.iloc[:, -7:].eq(0).all(axis=1)]"
   ]
  },
  {
   "cell_type": "code",
   "execution_count": 537,
   "id": "4c2f30b2",
   "metadata": {},
   "outputs": [],
   "source": [
    "f_lst = f.index.tolist()\n",
    "f_id_lst = train_data.loc[f_lst]['ID'].tolist()"
   ]
  },
  {
   "cell_type": "code",
   "execution_count": 538,
   "id": "18bea914",
   "metadata": {
    "scrolled": true
   },
   "outputs": [
    {
     "data": {
      "text/plain": [
       "500"
      ]
     },
     "execution_count": 538,
     "metadata": {},
     "output_type": "execute_result"
    }
   ],
   "source": [
    "len(f_lst)"
   ]
  },
  {
   "cell_type": "code",
   "execution_count": 539,
   "id": "60740696",
   "metadata": {},
   "outputs": [],
   "source": [
    "# two_unique_lst에 해당하는 행 추출\n",
    "selected_rows_f = train_data.loc[f_lst].iloc[:,-94:]\n",
    "\n",
    "# 0을 제외한 각 행의 가장 많이 나온 값 찾기\n",
    "most_common_values_f = selected_rows_f.apply(lambda row: np.bincount(row[row != 0]).argmax(), axis=1)"
   ]
  },
  {
   "cell_type": "code",
   "execution_count": 540,
   "id": "c1732d51",
   "metadata": {},
   "outputs": [],
   "source": [
    "result_df_f = pd.DataFrame({'ID': f_id_lst, 'Most_Common_Value': most_common_values_f})"
   ]
  },
  {
   "cell_type": "code",
   "execution_count": 541,
   "id": "bf27e3f8",
   "metadata": {},
   "outputs": [],
   "source": [
    "for i, row in result_df_f.iterrows():\n",
    "    id_value = row['ID']\n",
    "    value = row['Most_Common_Value']\n",
    "    sub_final.loc[sub_final['ID']==id_value, sub_final.columns != 'ID'] = value"
   ]
  },
  {
   "cell_type": "markdown",
   "id": "1f9d8260",
   "metadata": {},
   "source": [
    "최빈값이 중복일땐 마지막 값으로 대체"
   ]
  },
  {
   "cell_type": "code",
   "execution_count": 542,
   "id": "08fc37cd",
   "metadata": {},
   "outputs": [],
   "source": [
    "dup_idx_lst = []\n",
    "for i in range(len(f)):\n",
    "    f_T = f.iloc[i,:].T\n",
    "    f_T = [value for value in f_T if value != 0]\n",
    "    count_tt = 0\n",
    "    counter_values = Counter(f_T)\n",
    "    for value, count in counter_values.items():\n",
    "        if count == counter_values.most_common(1)[0][1]:\n",
    "            count_tt += 1\n",
    "    if count_tt == 2:\n",
    "        dup_idx_lst.append(f.iloc[i,:].name)"
   ]
  },
  {
   "cell_type": "code",
   "execution_count": 543,
   "id": "75af3e53",
   "metadata": {},
   "outputs": [],
   "source": [
    "dup_id_lst = train_data.loc[dup_idx_lst]['ID'].tolist()"
   ]
  },
  {
   "cell_type": "code",
   "execution_count": 544,
   "id": "551831ef",
   "metadata": {},
   "outputs": [],
   "source": [
    "dup_value_lst = []"
   ]
  },
  {
   "cell_type": "code",
   "execution_count": 545,
   "id": "d0dd7a5f",
   "metadata": {},
   "outputs": [],
   "source": [
    "z = train_data[train_data['ID'].isin(dup_id_lst)]\n",
    "for i in range(len(z)):\n",
    "    z_T = pd.DataFrame(z.iloc[i, 6:])\n",
    "    z_T = z_T[~(z_T == 0).all(axis=1)]\n",
    "    dup_value_lst.append(z_T.iloc[-1,0])"
   ]
  },
  {
   "cell_type": "code",
   "execution_count": 546,
   "id": "212125c8",
   "metadata": {},
   "outputs": [],
   "source": [
    "result_df_dup = pd.DataFrame({'ID': dup_id_lst, 'Most_Common_Value': dup_value_lst})"
   ]
  },
  {
   "cell_type": "code",
   "execution_count": 547,
   "id": "8717d4e3",
   "metadata": {},
   "outputs": [],
   "source": [
    "for i, row in result_df_dup.iterrows():\n",
    "    id_value = row['ID']\n",
    "    value = row['Most_Common_Value']\n",
    "    sub_final.loc[sub_final['ID']==id_value, sub_final.columns != 'ID'] = value"
   ]
  },
  {
   "cell_type": "markdown",
   "id": "83a5101f",
   "metadata": {},
   "source": [
    "  "
   ]
  },
  {
   "cell_type": "markdown",
   "id": "9b10838a",
   "metadata": {},
   "source": [
    "*마지막 7일간 값이 있을때*  (216개)"
   ]
  },
  {
   "cell_type": "code",
   "execution_count": 548,
   "id": "d97b2932",
   "metadata": {},
   "outputs": [],
   "source": [
    "f_7 = rows_with_three_unique_values[rows_with_three_unique_values.iloc[:,-7:].sum(axis=1)!=0]"
   ]
  },
  {
   "cell_type": "code",
   "execution_count": 549,
   "id": "6d71e51c",
   "metadata": {
    "scrolled": true
   },
   "outputs": [],
   "source": [
    "f_lst_7 = f_7.index.tolist()\n",
    "f_id_lst_7 = train_data.loc[f_lst_7]['ID'].tolist()"
   ]
  },
  {
   "cell_type": "code",
   "execution_count": 550,
   "id": "ed817200",
   "metadata": {
    "scrolled": true
   },
   "outputs": [
    {
     "data": {
      "text/plain": [
       "216"
      ]
     },
     "execution_count": 550,
     "metadata": {},
     "output_type": "execute_result"
    }
   ],
   "source": [
    "len(f_lst_7)"
   ]
  },
  {
   "cell_type": "code",
   "execution_count": 551,
   "id": "fc56e1e6",
   "metadata": {},
   "outputs": [],
   "source": [
    "# two_unique_lst에 해당하는 행 추출\n",
    "selected_rows_f_7 = train_data.loc[f_lst_7].iloc[:,-7:]\n",
    "\n",
    "# 0을 제외한 각 행의 가장 많이 나온 값 찾기\n",
    "most_common_values_f_7 = selected_rows_f_7.apply(lambda row: np.bincount(row[row != 0]).argmax(), axis=1)"
   ]
  },
  {
   "cell_type": "code",
   "execution_count": 552,
   "id": "af5a43fd",
   "metadata": {},
   "outputs": [],
   "source": [
    "result_df_7 = pd.DataFrame({'ID': f_id_lst_7, 'Most_Common_Value': most_common_values_f_7})"
   ]
  },
  {
   "cell_type": "code",
   "execution_count": 553,
   "id": "e8d96c87",
   "metadata": {},
   "outputs": [],
   "source": [
    "for i, row in result_df_7.iterrows():\n",
    "    id_value = row['ID']\n",
    "    value = row['Most_Common_Value']\n",
    "    sub_final.loc[sub_final['ID']==id_value, sub_final.columns != 'ID'] = value"
   ]
  },
  {
   "cell_type": "markdown",
   "id": "beb1d6a2",
   "metadata": {},
   "source": [
    "최빈값이 중복일땐 마지막 값으로 대체"
   ]
  },
  {
   "cell_type": "code",
   "execution_count": 554,
   "id": "478422a0",
   "metadata": {},
   "outputs": [],
   "source": [
    "dup_idx_lst_7 = []\n",
    "for i in range(len(f_7)):\n",
    "    f_T_7 = f_7.iloc[i,:].T\n",
    "    f_T_7 = [value for value in f_T_7 if value != 0]\n",
    "    count_tt_7 = 0\n",
    "    counter_values_7 = Counter(f_T_7)\n",
    "    for value, count in counter_values_7.items():\n",
    "        if count == counter_values_7.most_common(1)[0][1]:\n",
    "            count_tt_7 += 1\n",
    "    if count_tt_7 == 2:\n",
    "        dup_idx_lst_7.append(f_7.iloc[i,:].name)"
   ]
  },
  {
   "cell_type": "code",
   "execution_count": 555,
   "id": "f8ed5a21",
   "metadata": {},
   "outputs": [],
   "source": [
    "dup_id_lst_7 = train_data.loc[dup_idx_lst_7]['ID'].tolist()"
   ]
  },
  {
   "cell_type": "code",
   "execution_count": 556,
   "id": "7a896c9f",
   "metadata": {},
   "outputs": [],
   "source": [
    "dup_value_lst_7 = []"
   ]
  },
  {
   "cell_type": "code",
   "execution_count": 557,
   "id": "836ca95e",
   "metadata": {},
   "outputs": [],
   "source": [
    "z_7 = train_data[train_data['ID'].isin(dup_id_lst_7)]\n",
    "for i in range(len(z_7)):\n",
    "    z_T_7 = pd.DataFrame(z_7.iloc[i, 6:])\n",
    "    z_T_7 = z_T_7[~(z_T_7 == 0).all(axis=1)]\n",
    "    dup_value_lst_7.append(z_T_7.iloc[-1,0])"
   ]
  },
  {
   "cell_type": "code",
   "execution_count": 558,
   "id": "8907eaa4",
   "metadata": {},
   "outputs": [],
   "source": [
    "result_df_dup_7 = pd.DataFrame({'ID': dup_id_lst_7, 'Most_Common_Value': dup_value_lst_7})"
   ]
  },
  {
   "cell_type": "code",
   "execution_count": 559,
   "id": "5cc0a717",
   "metadata": {},
   "outputs": [],
   "source": [
    "for i, row in result_df_dup_7.iterrows():\n",
    "    id_value = row['ID']\n",
    "    value = row['Most_Common_Value']\n",
    "    sub_final.loc[sub_final['ID']==id_value, sub_final.columns != 'ID'] = value"
   ]
  },
  {
   "cell_type": "code",
   "execution_count": 560,
   "id": "77245b74",
   "metadata": {},
   "outputs": [],
   "source": [
    "train_data = train_data[~train_data['ID'].isin(three_id_lst)]\n",
    "train_data.reset_index(drop=True, inplace=True)"
   ]
  },
  {
   "cell_type": "code",
   "execution_count": 561,
   "id": "d9ddfcb6",
   "metadata": {},
   "outputs": [
    {
     "data": {
      "text/plain": [
       "(8235, 8235)"
      ]
     },
     "execution_count": 561,
     "metadata": {},
     "output_type": "execute_result"
    }
   ],
   "source": [
    "8951 - 716, len(train_data)"
   ]
  },
  {
   "cell_type": "markdown",
   "id": "484f5b8a",
   "metadata": {},
   "source": [
    "---\n",
    "---"
   ]
  },
  {
   "cell_type": "markdown",
   "id": "d1ca243e",
   "metadata": {},
   "source": [
    "### ***Only 7days Values***\n",
    "마지막 일주일에 값이 존재하지만 나머지에 값이 존재하지 않는 경우  \n",
    "앞에서 0제외하고 똑같은 루틴 반복해 대입  \n",
    "(17개)"
   ]
  },
  {
   "cell_type": "code",
   "execution_count": 562,
   "id": "ef2d5266",
   "metadata": {},
   "outputs": [],
   "source": [
    "only_7days = train_data[(train_data.iloc[:, 6:-7].sum(axis=1) == 0) & (train_data.iloc[:, -7:].sum(axis=1) != 0)]"
   ]
  },
  {
   "cell_type": "code",
   "execution_count": 563,
   "id": "b451e822",
   "metadata": {},
   "outputs": [],
   "source": [
    "only_7days_id_lst = only_7days['ID'].tolist()"
   ]
  },
  {
   "cell_type": "code",
   "execution_count": 564,
   "id": "f461b37a",
   "metadata": {},
   "outputs": [
    {
     "data": {
      "text/plain": [
       "17"
      ]
     },
     "execution_count": 564,
     "metadata": {},
     "output_type": "execute_result"
    }
   ],
   "source": [
    "len(only_7days_id_lst)"
   ]
  },
  {
   "cell_type": "code",
   "execution_count": 565,
   "id": "a6fb32d6",
   "metadata": {},
   "outputs": [],
   "source": [
    "only_7days = only_7days.iloc[:, -7:]"
   ]
  },
  {
   "cell_type": "code",
   "execution_count": 566,
   "id": "dd0440e8",
   "metadata": {},
   "outputs": [],
   "source": [
    "forecast_list = []\n",
    "for i in range(len(only_7days)):\n",
    "    d = pd.DataFrame(only_7days.iloc[i])\n",
    "    while (d.iloc[0,].values[0] == 0):\n",
    "        d = d.iloc[1:, :]\n",
    "    forecast_list.append(np.tile(d.values.squeeze(), 21))"
   ]
  },
  {
   "cell_type": "code",
   "execution_count": 567,
   "id": "64f79574",
   "metadata": {},
   "outputs": [],
   "source": [
    "forecast_df = pd.DataFrame(forecast_list).iloc[:,:21]"
   ]
  },
  {
   "cell_type": "code",
   "execution_count": 568,
   "id": "49df9093",
   "metadata": {},
   "outputs": [],
   "source": [
    "forecast_df.index = sub_final[sub_final['ID'].isin(only_7days_id_lst)].index\n",
    "forecast_df.columns = sub_final[sub_final['ID'].isin(only_7days_id_lst)].iloc[:,1:].columns"
   ]
  },
  {
   "cell_type": "code",
   "execution_count": 569,
   "id": "58f8210a",
   "metadata": {},
   "outputs": [],
   "source": [
    "sub_final.iloc[forecast_df.index,1:] = forecast_df.loc[forecast_df.index]"
   ]
  },
  {
   "cell_type": "code",
   "execution_count": 570,
   "id": "798ece85",
   "metadata": {},
   "outputs": [],
   "source": [
    "train_data = train_data[~train_data['ID'].isin(only_7days_id_lst)]\n",
    "train_data.reset_index(drop=True, inplace=True)"
   ]
  },
  {
   "cell_type": "code",
   "execution_count": 571,
   "id": "b32bfe2c",
   "metadata": {},
   "outputs": [
    {
     "data": {
      "text/plain": [
       "(8218, 8218)"
      ]
     },
     "execution_count": 571,
     "metadata": {},
     "output_type": "execute_result"
    }
   ],
   "source": [
    "8235 - 17, len(train_data)"
   ]
  },
  {
   "cell_type": "markdown",
   "id": "7ffc1683",
   "metadata": {},
   "source": [
    "---\n",
    "---"
   ]
  },
  {
   "cell_type": "markdown",
   "id": "3d01d8ca",
   "metadata": {},
   "source": [
    "### ***Only 3Week Values***  \n",
    "마지막 7일값 + 결측치 기준 앞 14일 값이 존재하지만 나머지에 값이 존재하지 않는 경우  \n",
    "결측일 = 2023-02-23 ~ 2023-03-28\n",
    "\n",
    "(178개)"
   ]
  },
  {
   "cell_type": "markdown",
   "id": "17043c2e",
   "metadata": {},
   "source": [
    "  "
   ]
  },
  {
   "cell_type": "markdown",
   "id": "8314ed50",
   "metadata": {},
   "source": [
    "마지막 7일 값이 0일때 ->> 앞에 존재하는 데이터의 패턴 대입  (21개)  \n",
    "7일값 제외 앞의 값의 데이터 unique 3이하 값 ->> 마지막 7일 패턴 대입  (53개)  \n",
    "마지막 7일 값 중 데이터 unique 가 0, 특정값 일때 ->> 특정값 대입  \n",
    "((나머지 보류))\n"
   ]
  },
  {
   "cell_type": "code",
   "execution_count": 572,
   "id": "6a734335",
   "metadata": {},
   "outputs": [],
   "source": [
    "only_14days = train_data[(train_data.iloc[:, 6:-55].sum(axis=1) == 0) & (train_data.iloc[:, -55:].sum(axis=1) != 0)]"
   ]
  },
  {
   "cell_type": "code",
   "execution_count": 573,
   "id": "d3fa511a",
   "metadata": {},
   "outputs": [],
   "source": [
    "only_14days_id_lst = only_14days['ID'].tolist()"
   ]
  },
  {
   "cell_type": "code",
   "execution_count": 574,
   "id": "e9ce6062",
   "metadata": {},
   "outputs": [
    {
     "data": {
      "text/plain": [
       "178"
      ]
     },
     "execution_count": 574,
     "metadata": {},
     "output_type": "execute_result"
    }
   ],
   "source": [
    "len(only_14days_id_lst)"
   ]
  },
  {
   "cell_type": "markdown",
   "id": "065d11c3",
   "metadata": {},
   "source": [
    "***마지막 7일 값이 0*** (21개)"
   ]
  },
  {
   "cell_type": "code",
   "execution_count": 575,
   "id": "cb80deff",
   "metadata": {},
   "outputs": [],
   "source": [
    "last_7_zero_id_lst = only_14days[only_14days.iloc[:,-7:].sum(axis=1)==0]['ID'].tolist()"
   ]
  },
  {
   "cell_type": "code",
   "execution_count": 576,
   "id": "454aec89",
   "metadata": {},
   "outputs": [
    {
     "data": {
      "text/plain": [
       "21"
      ]
     },
     "execution_count": 576,
     "metadata": {},
     "output_type": "execute_result"
    }
   ],
   "source": [
    "len(last_7_zero_id_lst)"
   ]
  },
  {
   "cell_type": "code",
   "execution_count": 577,
   "id": "861b941f",
   "metadata": {},
   "outputs": [],
   "source": [
    "last_7 = only_14days[only_14days['ID'].isin(last_7_zero_id_lst)]\n",
    "last_7 = last_7.iloc[:,6:]"
   ]
  },
  {
   "cell_type": "code",
   "execution_count": 578,
   "id": "59a03aa4",
   "metadata": {},
   "outputs": [],
   "source": [
    "forecast_list_last_7 = []\n",
    "for i in range(len(last_7)):\n",
    "    r = pd.DataFrame(last_7.iloc[i])\n",
    "    while (r.iloc[0,].values[0] == 0):\n",
    "        r = r.iloc[1:, :]\n",
    "    while (r.iloc[-1,].values[0] == 0):\n",
    "        r = r.iloc[:-1, :]\n",
    "    forecast_list_last_7.append(np.tile(r.values.squeeze(), 21))"
   ]
  },
  {
   "cell_type": "code",
   "execution_count": 579,
   "id": "8fb23cd6",
   "metadata": {},
   "outputs": [],
   "source": [
    "forecast_df_last_7 = pd.DataFrame(forecast_list_last_7).iloc[:,:21]"
   ]
  },
  {
   "cell_type": "code",
   "execution_count": 580,
   "id": "16a72caf",
   "metadata": {},
   "outputs": [],
   "source": [
    "forecast_df_last_7.index = sub_final[sub_final['ID'].isin(last_7_zero_id_lst)].index\n",
    "forecast_df_last_7.columns = sub_final[sub_final['ID'].isin(last_7_zero_id_lst)].iloc[:,1:].columns"
   ]
  },
  {
   "cell_type": "code",
   "execution_count": 581,
   "id": "8c3a96b1",
   "metadata": {},
   "outputs": [],
   "source": [
    "sub_final.iloc[forecast_df_last_7.index,1:] = forecast_df_last_7.loc[forecast_df_last_7.index]"
   ]
  },
  {
   "cell_type": "code",
   "execution_count": 582,
   "id": "0b61fb4f",
   "metadata": {},
   "outputs": [],
   "source": [
    "only_14days = only_14days[~only_14days['ID'].isin(last_7_zero_id_lst)]"
   ]
  },
  {
   "cell_type": "code",
   "execution_count": 583,
   "id": "0866fd72",
   "metadata": {},
   "outputs": [
    {
     "data": {
      "text/plain": [
       "157"
      ]
     },
     "execution_count": 583,
     "metadata": {},
     "output_type": "execute_result"
    }
   ],
   "source": [
    "len(only_14days)"
   ]
  },
  {
   "cell_type": "markdown",
   "id": "76f15b34",
   "metadata": {},
   "source": [
    "***unique 3이하 처리*** (53개)"
   ]
  },
  {
   "cell_type": "code",
   "execution_count": 584,
   "id": "d4d3b8b0",
   "metadata": {},
   "outputs": [],
   "source": [
    "subset = only_14days.iloc[:, 6:-7]\n",
    "\n",
    "# 각 행 별로 유일한 값의 개수를 세어서 결과를 Series로 저장\n",
    "unique_counts = subset.nunique(axis=1)\n",
    "\n",
    "# 유일한 값이 0제외 두 개밖에 없는 행 추출\n",
    "rows_with_three_unique_values_only_14 = subset[unique_counts <= 3]"
   ]
  },
  {
   "cell_type": "code",
   "execution_count": 585,
   "id": "d674d446",
   "metadata": {},
   "outputs": [],
   "source": [
    "three_unique_lst_only_14 = rows_with_three_unique_values_only_14.index\n",
    "\n",
    "three_id_lst_only_14 = train_data.loc[three_unique_lst_only_14]['ID'].tolist()"
   ]
  },
  {
   "cell_type": "code",
   "execution_count": 586,
   "id": "c34abc24",
   "metadata": {},
   "outputs": [
    {
     "data": {
      "text/plain": [
       "53"
      ]
     },
     "execution_count": 586,
     "metadata": {},
     "output_type": "execute_result"
    }
   ],
   "source": [
    "len(three_id_lst_only_14)"
   ]
  },
  {
   "cell_type": "code",
   "execution_count": 587,
   "id": "f296e435",
   "metadata": {},
   "outputs": [],
   "source": [
    "only_14days_unique3 = only_14days[only_14days['ID'].isin(three_id_lst_only_14)]\n",
    "only_14days_unique3 = only_14days_unique3.iloc[:, -7:]"
   ]
  },
  {
   "cell_type": "markdown",
   "id": "726e6f08",
   "metadata": {},
   "source": [
    "데이터가 특정값 두개면 0제외 최빈값 대입  \n",
    "3개이하면 0 제거 패턴 대입  "
   ]
  },
  {
   "cell_type": "code",
   "execution_count": 588,
   "id": "504b0af6",
   "metadata": {},
   "outputs": [],
   "source": [
    "unique_counts = only_14days_unique3.nunique(axis=1)\n",
    "rows = only_14days_unique3[unique_counts == 2]"
   ]
  },
  {
   "cell_type": "code",
   "execution_count": 589,
   "id": "f9c72644",
   "metadata": {},
   "outputs": [],
   "source": [
    "rows_idx = rows.index\n",
    "rows_id = train_data.loc[rows_idx]['ID'].tolist()"
   ]
  },
  {
   "cell_type": "code",
   "execution_count": 590,
   "id": "26c82202",
   "metadata": {},
   "outputs": [
    {
     "data": {
      "text/plain": [
       "2"
      ]
     },
     "execution_count": 590,
     "metadata": {},
     "output_type": "execute_result"
    }
   ],
   "source": [
    "len(rows_id)"
   ]
  },
  {
   "cell_type": "code",
   "execution_count": 591,
   "id": "7fdb4103",
   "metadata": {},
   "outputs": [],
   "source": [
    "select = only_14days_unique3.loc[rows_idx]"
   ]
  },
  {
   "cell_type": "code",
   "execution_count": 592,
   "id": "b6f98bc4",
   "metadata": {},
   "outputs": [],
   "source": [
    "most_common = select.apply(lambda row: np.bincount(row[row != 0]).argmax(), axis=1)"
   ]
  },
  {
   "cell_type": "code",
   "execution_count": 593,
   "id": "a95a1ba4",
   "metadata": {},
   "outputs": [],
   "source": [
    "result_df = pd.DataFrame({'ID': rows_id, 'Most_Common_Value': most_common})"
   ]
  },
  {
   "cell_type": "code",
   "execution_count": 594,
   "id": "dbd7a81a",
   "metadata": {},
   "outputs": [],
   "source": [
    "for i, row in result_df.iterrows():\n",
    "    id_value = row['ID']\n",
    "    value = row['Most_Common_Value']\n",
    "    sub_final.loc[sub_final['ID']==id_value, sub_final.columns != 'ID'] = value"
   ]
  },
  {
   "cell_type": "code",
   "execution_count": 595,
   "id": "b4562257",
   "metadata": {},
   "outputs": [],
   "source": [
    "only_14days_unique3 = only_14days_unique3[~only_14days_unique3.index.isin(rows_idx)]"
   ]
  },
  {
   "cell_type": "markdown",
   "id": "e0fff06b",
   "metadata": {},
   "source": [
    "  "
   ]
  },
  {
   "cell_type": "code",
   "execution_count": 596,
   "id": "e3161955",
   "metadata": {},
   "outputs": [],
   "source": [
    "unique_counts = only_14days_unique3.nunique(axis=1)\n",
    "rows = only_14days_unique3"
   ]
  },
  {
   "cell_type": "code",
   "execution_count": 597,
   "id": "5b5d539a",
   "metadata": {},
   "outputs": [],
   "source": [
    "rows_idx = rows.index\n",
    "rows_id = train_data.loc[rows_idx]['ID'].tolist()"
   ]
  },
  {
   "cell_type": "code",
   "execution_count": 598,
   "id": "76f9f174",
   "metadata": {},
   "outputs": [
    {
     "data": {
      "text/plain": [
       "51"
      ]
     },
     "execution_count": 598,
     "metadata": {},
     "output_type": "execute_result"
    }
   ],
   "source": [
    "len(rows_id)"
   ]
  },
  {
   "cell_type": "code",
   "execution_count": 599,
   "id": "6199f3d0",
   "metadata": {},
   "outputs": [],
   "source": [
    "forecast_list = []\n",
    "for i in range(len(rows)):\n",
    "    r = pd.DataFrame(rows.iloc[i])\n",
    "    r = r[~(r == 0).all(axis=1)]\n",
    "    forecast_list.append(np.tile(r.values.squeeze(), 21))"
   ]
  },
  {
   "cell_type": "code",
   "execution_count": 600,
   "id": "f0f63c93",
   "metadata": {},
   "outputs": [],
   "source": [
    "forecast_df = pd.DataFrame(forecast_list).iloc[:,:21]"
   ]
  },
  {
   "cell_type": "code",
   "execution_count": 601,
   "id": "36455d37",
   "metadata": {},
   "outputs": [],
   "source": [
    "forecast_df.index = sub_final[sub_final['ID'].isin(rows_id)].index\n",
    "forecast_df.columns = sub_final[sub_final['ID'].isin(rows_id)].iloc[:,1:].columns"
   ]
  },
  {
   "cell_type": "code",
   "execution_count": 602,
   "id": "d5a34505",
   "metadata": {},
   "outputs": [],
   "source": [
    "sub_final.iloc[forecast_df.index,1:] = forecast_df.loc[forecast_df.index]"
   ]
  },
  {
   "cell_type": "markdown",
   "id": "d990f59f",
   "metadata": {},
   "source": [
    "  "
   ]
  },
  {
   "cell_type": "markdown",
   "id": "74531128",
   "metadata": {},
   "source": [
    "마지막 7일 값 0, 특정값 인 경우 (25개)"
   ]
  },
  {
   "cell_type": "code",
   "execution_count": 603,
   "id": "2b16e905",
   "metadata": {},
   "outputs": [],
   "source": [
    "unique_counts = only_14days.iloc[:,-7:].nunique(axis=1)\n",
    "rows = only_14days[unique_counts == 2]"
   ]
  },
  {
   "cell_type": "code",
   "execution_count": 604,
   "id": "e382021c",
   "metadata": {},
   "outputs": [],
   "source": [
    "rows_idx = rows.index\n",
    "rows_id = train_data.loc[rows_idx]['ID'].tolist()"
   ]
  },
  {
   "cell_type": "code",
   "execution_count": 605,
   "id": "d3125818",
   "metadata": {},
   "outputs": [
    {
     "data": {
      "text/plain": [
       "25"
      ]
     },
     "execution_count": 605,
     "metadata": {},
     "output_type": "execute_result"
    }
   ],
   "source": [
    "len(rows_id)"
   ]
  },
  {
   "cell_type": "code",
   "execution_count": 606,
   "id": "bdd3ec26",
   "metadata": {},
   "outputs": [],
   "source": [
    "select = only_14days.loc[rows_idx]"
   ]
  },
  {
   "cell_type": "code",
   "execution_count": 607,
   "id": "af7e214b",
   "metadata": {},
   "outputs": [],
   "source": [
    "most_common = select.iloc[:,-7:].apply(lambda row: np.bincount(row[row != 0]).argmax(), axis=1)"
   ]
  },
  {
   "cell_type": "code",
   "execution_count": 608,
   "id": "2905277a",
   "metadata": {},
   "outputs": [],
   "source": [
    "result_df = pd.DataFrame({'ID': rows_id, 'Most_Common_Value': most_common})"
   ]
  },
  {
   "cell_type": "code",
   "execution_count": 609,
   "id": "0cb7b5a5",
   "metadata": {},
   "outputs": [],
   "source": [
    "for i, row in result_df.iterrows():\n",
    "    id_value = row['ID']\n",
    "    value = row['Most_Common_Value']\n",
    "    sub_final.loc[sub_final['ID']==id_value, sub_final.columns != 'ID'] = value"
   ]
  },
  {
   "cell_type": "code",
   "execution_count": 610,
   "id": "56c67374",
   "metadata": {},
   "outputs": [],
   "source": [
    "only_14days = only_14days[~only_14days['ID'].isin(rows_id)]"
   ]
  },
  {
   "cell_type": "markdown",
   "id": "d97b7465",
   "metadata": {},
   "source": [
    "  "
   ]
  },
  {
   "cell_type": "markdown",
   "id": "83b5411b",
   "metadata": {},
   "source": [
    "마지막 7일 값 0, 특정값,특정값 인 경우"
   ]
  },
  {
   "cell_type": "code",
   "execution_count": 611,
   "id": "00fc42b8",
   "metadata": {},
   "outputs": [],
   "source": [
    "unique_counts = only_14days.iloc[:,-7:].nunique(axis=1)\n",
    "rows = only_14days[unique_counts == 3]\n",
    "rows = rows.iloc[:,-7:]"
   ]
  },
  {
   "cell_type": "code",
   "execution_count": 612,
   "id": "7ace1445",
   "metadata": {},
   "outputs": [],
   "source": [
    "rows_idx = rows.index\n",
    "rows_id = train_data.loc[rows_idx]['ID'].tolist()"
   ]
  },
  {
   "cell_type": "code",
   "execution_count": 613,
   "id": "5138d082",
   "metadata": {},
   "outputs": [
    {
     "data": {
      "text/plain": [
       "43"
      ]
     },
     "execution_count": 613,
     "metadata": {},
     "output_type": "execute_result"
    }
   ],
   "source": [
    "len(rows_id)"
   ]
  },
  {
   "cell_type": "code",
   "execution_count": 614,
   "id": "40853ded",
   "metadata": {},
   "outputs": [],
   "source": [
    "forecast_list = []\n",
    "for i in range(len(rows)):\n",
    "    r = pd.DataFrame(rows.iloc[i])\n",
    "    r = r[~(r == 0).all(axis=1)]\n",
    "    forecast_list.append(np.tile(r.values.squeeze(), 21))"
   ]
  },
  {
   "cell_type": "code",
   "execution_count": 615,
   "id": "6ad61e2c",
   "metadata": {},
   "outputs": [],
   "source": [
    "forecast_df = pd.DataFrame(forecast_list).iloc[:,:21]"
   ]
  },
  {
   "cell_type": "code",
   "execution_count": 616,
   "id": "12bb66ca",
   "metadata": {},
   "outputs": [],
   "source": [
    "forecast_df.index = sub_final[sub_final['ID'].isin(rows_id)].index\n",
    "forecast_df.columns = sub_final[sub_final['ID'].isin(rows_id)].iloc[:,1:].columns"
   ]
  },
  {
   "cell_type": "code",
   "execution_count": 617,
   "id": "ceb578f7",
   "metadata": {},
   "outputs": [],
   "source": [
    "sub_final.iloc[forecast_df.index,1:] = forecast_df.loc[forecast_df.index]"
   ]
  },
  {
   "cell_type": "code",
   "execution_count": 618,
   "id": "246518c8",
   "metadata": {},
   "outputs": [],
   "source": [
    "only_14days = only_14days[~only_14days['ID'].isin(rows_id)]"
   ]
  },
  {
   "cell_type": "code",
   "execution_count": 619,
   "id": "c073c3bd",
   "metadata": {},
   "outputs": [
    {
     "data": {
      "text/plain": [
       "89"
      ]
     },
     "execution_count": 619,
     "metadata": {},
     "output_type": "execute_result"
    }
   ],
   "source": [
    "len(only_14days)"
   ]
  },
  {
   "cell_type": "markdown",
   "id": "252eb257",
   "metadata": {},
   "source": [
    "나머지 89개에 대해서는 보간후 진행해야 할 것 같다."
   ]
  },
  {
   "cell_type": "code",
   "execution_count": 620,
   "id": "97d09750",
   "metadata": {},
   "outputs": [],
   "source": [
    "train_data = train_data[~train_data['ID'].isin(only_14days_id_lst)]\n",
    "train_data.reset_index(drop=True, inplace=True)"
   ]
  },
  {
   "cell_type": "code",
   "execution_count": 621,
   "id": "0070d53c",
   "metadata": {},
   "outputs": [
    {
     "data": {
      "text/plain": [
       "(8040, 8040)"
      ]
     },
     "execution_count": 621,
     "metadata": {},
     "output_type": "execute_result"
    }
   ],
   "source": [
    "8218 - 178, len(train_data)"
   ]
  },
  {
   "cell_type": "markdown",
   "id": "a2aeccb6",
   "metadata": {},
   "source": [
    "---\n",
    "---"
   ]
  },
  {
   "cell_type": "markdown",
   "id": "1d920326",
   "metadata": {},
   "source": [
    "### ***Only Last Day Value***  \n",
    "결측치 기준 앞의 값이 0이면서 마지막 7일 값중 맨 마지막 값만 존재하는 경우  \n",
    "결측일 = 2023-02-23 ~ 2023-03-28  \n",
    "마지막 값 대체  \n",
    "\n",
    "(18개)"
   ]
  },
  {
   "cell_type": "code",
   "execution_count": 622,
   "id": "f448a4e9",
   "metadata": {},
   "outputs": [],
   "source": [
    "last_value = train_data[(train_data.iloc[:,-45:-1].sum(axis=1) == 0) & (train_data.iloc[:, -7:].sum(axis=1) != 0)]"
   ]
  },
  {
   "cell_type": "code",
   "execution_count": 623,
   "id": "e70e6cf0",
   "metadata": {},
   "outputs": [],
   "source": [
    "last_value_id_lst = last_value['ID'].tolist()"
   ]
  },
  {
   "cell_type": "code",
   "execution_count": 624,
   "id": "85a3e345",
   "metadata": {},
   "outputs": [
    {
     "data": {
      "text/plain": [
       "18"
      ]
     },
     "execution_count": 624,
     "metadata": {},
     "output_type": "execute_result"
    }
   ],
   "source": [
    "len(last_value_id_lst)"
   ]
  },
  {
   "cell_type": "code",
   "execution_count": 625,
   "id": "76f144bb",
   "metadata": {},
   "outputs": [],
   "source": [
    "result_df_last_value = pd.DataFrame({'ID': last_value_id_lst, 'Value': last_value.iloc[:,-1]})"
   ]
  },
  {
   "cell_type": "code",
   "execution_count": 626,
   "id": "1621888f",
   "metadata": {},
   "outputs": [],
   "source": [
    "for i, row in result_df_last_value.iterrows():\n",
    "    id_value = row['ID']\n",
    "    value = row['Value']\n",
    "    sub_final.loc[sub_final['ID']==id_value, sub_final.columns != 'ID'] = value"
   ]
  },
  {
   "cell_type": "code",
   "execution_count": 627,
   "id": "790fe920",
   "metadata": {},
   "outputs": [],
   "source": [
    "train_data = train_data[~train_data['ID'].isin(last_value_id_lst)]\n",
    "train_data.reset_index(drop=True, inplace=True)"
   ]
  },
  {
   "cell_type": "code",
   "execution_count": 628,
   "id": "52b1718c",
   "metadata": {
    "scrolled": true
   },
   "outputs": [
    {
     "data": {
      "text/plain": [
       "(8022, 8022)"
      ]
     },
     "execution_count": 628,
     "metadata": {},
     "output_type": "execute_result"
    }
   ],
   "source": [
    "8040 - 18, len(train_data)"
   ]
  },
  {
   "cell_type": "markdown",
   "id": "7f3c1716",
   "metadata": {},
   "source": [
    "---\n",
    "---"
   ]
  },
  {
   "cell_type": "markdown",
   "id": "a3388ea8",
   "metadata": {},
   "source": [
    "### ***Outlier Last 7Days***  \n",
    "##### 결측치 존재시.\n",
    "마지막 7일의 평균이 2023년에서 마지막 7일을 제외한 값들의 평균의 3배 이상이면 시계열성을 띈다고 볼 수도 없고 이상치이다.  \n",
    "마지막 7일 특정값 대체 or 패턴 대입\n",
    "\n",
    "(322개)"
   ]
  },
  {
   "cell_type": "code",
   "execution_count": 629,
   "id": "d4667b54",
   "metadata": {},
   "outputs": [],
   "source": [
    "train_non_7 = train_data[(train_data.iloc[:,-41:-7].sum(axis=1) == 0) & (train_data.iloc[:, -7:].sum(axis=1) != 0)]\n",
    "selected_columns_last_7 = train_non_7.iloc[:, -7:]\n",
    "selected_columns = train_non_7.iloc[:, 371:-7]"
   ]
  },
  {
   "cell_type": "code",
   "execution_count": 630,
   "id": "55658c5a",
   "metadata": {},
   "outputs": [],
   "source": [
    "mean_lst = []\n",
    "for i in range(len(selected_columns_last_7)):\n",
    "    r = pd.DataFrame(selected_columns_last_7.iloc[i])\n",
    "    r = r[~(r == 0).all(axis=1)]\n",
    "    mean_lst.append(r.mean().values[0])\n",
    "mean_df = pd.DataFrame(mean_lst)"
   ]
  },
  {
   "cell_type": "code",
   "execution_count": 631,
   "id": "c4e28815",
   "metadata": {},
   "outputs": [],
   "source": [
    "mean_lst_not_7 = []\n",
    "for i in range(len(selected_columns)):\n",
    "    r = pd.DataFrame(selected_columns.iloc[i])\n",
    "    r = r[~(r == 0).all(axis=1)]\n",
    "    mean_lst_not_7.append(r.mean().values[0])\n",
    "mean_df_not_7 = pd.DataFrame(mean_lst_not_7)"
   ]
  },
  {
   "cell_type": "code",
   "execution_count": 632,
   "id": "ea2b1d53",
   "metadata": {},
   "outputs": [],
   "source": [
    "compare_mean = pd.concat([mean_df, mean_df_not_7], axis = 1)\n",
    "compare_mean.columns = ['mean_7', 'mean_not_7']\n",
    "compare_mean.index = train_non_7.index"
   ]
  },
  {
   "cell_type": "code",
   "execution_count": 633,
   "id": "4a981a24",
   "metadata": {},
   "outputs": [],
   "source": [
    "compare_mean['v'] = None\n",
    "compare_mean['v'] = compare_mean['mean_not_7']/compare_mean['mean_7']"
   ]
  },
  {
   "cell_type": "code",
   "execution_count": 634,
   "id": "412cf50e",
   "metadata": {},
   "outputs": [],
   "source": [
    "outlier_7_id_lst = train_non_7.loc[compare_mean[compare_mean['v']>5].index]['ID'].tolist()"
   ]
  },
  {
   "cell_type": "code",
   "execution_count": 635,
   "id": "c073f948",
   "metadata": {},
   "outputs": [],
   "source": [
    "outlier_7 = train_data[train_data['ID'].isin(outlier_7_id_lst)]"
   ]
  },
  {
   "cell_type": "code",
   "execution_count": 636,
   "id": "4becbe35",
   "metadata": {},
   "outputs": [
    {
     "data": {
      "text/plain": [
       "322"
      ]
     },
     "execution_count": 636,
     "metadata": {},
     "output_type": "execute_result"
    }
   ],
   "source": [
    "len(outlier_7)"
   ]
  },
  {
   "cell_type": "markdown",
   "id": "38c71b3c",
   "metadata": {},
   "source": [
    "마지막 7일 값 0, 특정값 인 경우 (119개)"
   ]
  },
  {
   "cell_type": "code",
   "execution_count": 637,
   "id": "d7fb5663",
   "metadata": {},
   "outputs": [],
   "source": [
    "unique_counts = outlier_7.iloc[:,-7:].nunique(axis=1)\n",
    "rows = outlier_7[unique_counts == 2]"
   ]
  },
  {
   "cell_type": "code",
   "execution_count": 638,
   "id": "40f286ea",
   "metadata": {},
   "outputs": [],
   "source": [
    "rows_idx = rows.index\n",
    "rows_id = train_data.loc[rows_idx]['ID'].tolist()"
   ]
  },
  {
   "cell_type": "code",
   "execution_count": 639,
   "id": "e0ed18c1",
   "metadata": {},
   "outputs": [
    {
     "data": {
      "text/plain": [
       "119"
      ]
     },
     "execution_count": 639,
     "metadata": {},
     "output_type": "execute_result"
    }
   ],
   "source": [
    "len(rows_id)"
   ]
  },
  {
   "cell_type": "code",
   "execution_count": 640,
   "id": "520cf2c5",
   "metadata": {},
   "outputs": [],
   "source": [
    "select = outlier_7.loc[rows_idx]"
   ]
  },
  {
   "cell_type": "code",
   "execution_count": 641,
   "id": "10209761",
   "metadata": {},
   "outputs": [],
   "source": [
    "most_common = select.iloc[:,-7:].apply(lambda row: np.bincount(row[row != 0]).argmax(), axis=1)"
   ]
  },
  {
   "cell_type": "code",
   "execution_count": 642,
   "id": "caba35b3",
   "metadata": {},
   "outputs": [],
   "source": [
    "result_df = pd.DataFrame({'ID': rows_id, 'Most_Common_Value': most_common})"
   ]
  },
  {
   "cell_type": "code",
   "execution_count": 643,
   "id": "542f3caf",
   "metadata": {},
   "outputs": [],
   "source": [
    "for i, row in result_df.iterrows():\n",
    "    id_value = row['ID']\n",
    "    value = row['Most_Common_Value']\n",
    "    sub_final.loc[sub_final['ID']==id_value, sub_final.columns != 'ID'] = value"
   ]
  },
  {
   "cell_type": "code",
   "execution_count": 644,
   "id": "cd32fbf8",
   "metadata": {},
   "outputs": [],
   "source": [
    "outlier_7 = outlier_7[~outlier_7['ID'].isin(rows_id)]"
   ]
  },
  {
   "cell_type": "markdown",
   "id": "cecb2560",
   "metadata": {},
   "source": [
    "마지막 7일 값중 5개가 0일때 (20개)"
   ]
  },
  {
   "cell_type": "code",
   "execution_count": 645,
   "id": "fe148c39",
   "metadata": {},
   "outputs": [],
   "source": [
    "rows = outlier_7[(outlier_7.iloc[:, -7:] == 0).sum(axis=1) == 5]"
   ]
  },
  {
   "cell_type": "code",
   "execution_count": 646,
   "id": "8a62f9a7",
   "metadata": {},
   "outputs": [],
   "source": [
    "rows_idx = rows.index\n",
    "rows_id = train_data.loc[rows_idx]['ID'].tolist()"
   ]
  },
  {
   "cell_type": "code",
   "execution_count": 647,
   "id": "09a35462",
   "metadata": {},
   "outputs": [
    {
     "data": {
      "text/plain": [
       "20"
      ]
     },
     "execution_count": 647,
     "metadata": {},
     "output_type": "execute_result"
    }
   ],
   "source": [
    "len(rows_id)"
   ]
  },
  {
   "cell_type": "code",
   "execution_count": 648,
   "id": "99dbf81b",
   "metadata": {},
   "outputs": [],
   "source": [
    "forecast_list = []\n",
    "for i in range(len(rows)):\n",
    "    r = pd.DataFrame(rows.iloc[i,-7:])\n",
    "    while (r.iloc[0,].values[0] == 0):\n",
    "        r = r.iloc[1:, :]\n",
    "    while (r.iloc[-1,].values[0] == 0):\n",
    "        r = r.iloc[:-1, :]\n",
    "    forecast_list.append([r.iloc[-1,:].values[0]]*21)"
   ]
  },
  {
   "cell_type": "code",
   "execution_count": 649,
   "id": "05cd55f4",
   "metadata": {},
   "outputs": [],
   "source": [
    "forecast_df = pd.DataFrame(forecast_list).iloc[:,:21]"
   ]
  },
  {
   "cell_type": "code",
   "execution_count": 650,
   "id": "03fda898",
   "metadata": {},
   "outputs": [],
   "source": [
    "forecast_df.index = sub_final[sub_final['ID'].isin(rows_id)].index\n",
    "forecast_df.columns = sub_final[sub_final['ID'].isin(rows_id)].iloc[:,1:].columns"
   ]
  },
  {
   "cell_type": "code",
   "execution_count": 651,
   "id": "5b167495",
   "metadata": {},
   "outputs": [],
   "source": [
    "sub_final.iloc[forecast_df.index,1:] = forecast_df.loc[forecast_df.index]"
   ]
  },
  {
   "cell_type": "code",
   "execution_count": 652,
   "id": "b0ec2ed3",
   "metadata": {},
   "outputs": [],
   "source": [
    "outlier_7 = outlier_7[~outlier_7['ID'].isin(rows_id)]"
   ]
  },
  {
   "cell_type": "markdown",
   "id": "d266f748",
   "metadata": {},
   "source": [
    "나머지 패턴 대입 (183개)"
   ]
  },
  {
   "cell_type": "code",
   "execution_count": 653,
   "id": "650dde87",
   "metadata": {},
   "outputs": [],
   "source": [
    "rows_idx = outlier_7.index\n",
    "rows_id = train_data.loc[rows_idx]['ID'].tolist()"
   ]
  },
  {
   "cell_type": "code",
   "execution_count": 654,
   "id": "f9d6a8b6",
   "metadata": {},
   "outputs": [
    {
     "data": {
      "text/plain": [
       "183"
      ]
     },
     "execution_count": 654,
     "metadata": {},
     "output_type": "execute_result"
    }
   ],
   "source": [
    "len(rows_id)"
   ]
  },
  {
   "cell_type": "code",
   "execution_count": 655,
   "id": "67cb9d29",
   "metadata": {},
   "outputs": [],
   "source": [
    "forecast_list = []\n",
    "for i in range(len(outlier_7)):\n",
    "    r = pd.DataFrame(outlier_7.iloc[i,-7:])\n",
    "    r = r[~(r == 0).all(axis=1)]\n",
    "    forecast_list.append(np.tile(r.values.squeeze(), 21))"
   ]
  },
  {
   "cell_type": "code",
   "execution_count": 656,
   "id": "46adc1a6",
   "metadata": {},
   "outputs": [],
   "source": [
    "forecast_df = pd.DataFrame(forecast_list).iloc[:,:21]"
   ]
  },
  {
   "cell_type": "code",
   "execution_count": 657,
   "id": "ff3af424",
   "metadata": {
    "scrolled": true
   },
   "outputs": [],
   "source": [
    "forecast_df.index = sub_final[sub_final['ID'].isin(rows_id)].index\n",
    "forecast_df.columns = sub_final[sub_final['ID'].isin(rows_id)].iloc[:,1:].columns"
   ]
  },
  {
   "cell_type": "code",
   "execution_count": 658,
   "id": "41fcd7af",
   "metadata": {},
   "outputs": [],
   "source": [
    "sub_final.iloc[forecast_df.index,1:] = forecast_df.loc[forecast_df.index]"
   ]
  },
  {
   "cell_type": "code",
   "execution_count": 659,
   "id": "6520c76c",
   "metadata": {},
   "outputs": [],
   "source": [
    "train_data = train_data[~train_data['ID'].isin(outlier_7_id_lst)]\n",
    "train_data.reset_index(drop=True, inplace=True)"
   ]
  },
  {
   "cell_type": "code",
   "execution_count": 660,
   "id": "1d27fe4f",
   "metadata": {
    "scrolled": true
   },
   "outputs": [
    {
     "data": {
      "text/plain": [
       "(7700, 7700)"
      ]
     },
     "execution_count": 660,
     "metadata": {},
     "output_type": "execute_result"
    }
   ],
   "source": [
    "8022 - 322, len(train_data)"
   ]
  },
  {
   "cell_type": "markdown",
   "id": "98ca06ee",
   "metadata": {},
   "source": [
    "---\n",
    "---"
   ]
  },
  {
   "cell_type": "markdown",
   "id": "2977e8f0",
   "metadata": {},
   "source": [
    "### ***Except Non Missing values***  \n",
    "결측일 = 2023-02-23 ~ 2023-03-28  \n",
    "(1047개)"
   ]
  },
  {
   "cell_type": "code",
   "execution_count": 661,
   "id": "c9b7da06",
   "metadata": {},
   "outputs": [],
   "source": [
    "non_zero_id_lst = train_data[train_data.iloc[:,-41:-7].sum(axis=1)!=0]['ID'].tolist()"
   ]
  },
  {
   "cell_type": "code",
   "execution_count": 662,
   "id": "e8041688",
   "metadata": {},
   "outputs": [
    {
     "data": {
      "text/plain": [
       "1047"
      ]
     },
     "execution_count": 662,
     "metadata": {},
     "output_type": "execute_result"
    }
   ],
   "source": [
    "len(non_zero_id_lst)"
   ]
  },
  {
   "cell_type": "code",
   "execution_count": 663,
   "id": "9b1b64ca",
   "metadata": {},
   "outputs": [],
   "source": [
    "train_data = train_data[~train_data['ID'].isin(non_zero_id_lst)]\n",
    "train_data.reset_index(drop=True, inplace=True)"
   ]
  },
  {
   "cell_type": "code",
   "execution_count": 664,
   "id": "f3058cce",
   "metadata": {},
   "outputs": [
    {
     "data": {
      "text/plain": [
       "(6653, 6653)"
      ]
     },
     "execution_count": 664,
     "metadata": {},
     "output_type": "execute_result"
    }
   ],
   "source": [
    "7700 - 1047, len(train_data)"
   ]
  },
  {
   "cell_type": "markdown",
   "id": "b2c2a116",
   "metadata": {},
   "source": [
    "  "
   ]
  },
  {
   "cell_type": "code",
   "execution_count": 665,
   "id": "eb589f38",
   "metadata": {},
   "outputs": [],
   "source": [
    "train_raw = pd.read_csv(os.path.abspath(\"../data\")+\"/train.csv\")"
   ]
  },
  {
   "cell_type": "code",
   "execution_count": 666,
   "id": "03c0d05a",
   "metadata": {},
   "outputs": [],
   "source": [
    "train_non_miss_value = train_raw[train_raw['ID'].isin(non_zero_id_lst)]\n",
    "train_non_miss_value.reset_index(drop=True, inplace=True)"
   ]
  },
  {
   "cell_type": "markdown",
   "id": "fc56724f",
   "metadata": {},
   "source": [
    "---\n",
    "---"
   ]
  },
  {
   "cell_type": "markdown",
   "id": "d2d21462",
   "metadata": {},
   "source": [
    "### ***Zero Values -43Days***  \n",
    "(1614개)"
   ]
  },
  {
   "cell_type": "code",
   "execution_count": 667,
   "id": "04fd93d9",
   "metadata": {},
   "outputs": [],
   "source": [
    "zero_48_id_lst = train_data[train_data.iloc[:, -43:].sum(axis=1) == 0]['ID'].tolist()"
   ]
  },
  {
   "cell_type": "code",
   "execution_count": 668,
   "id": "e62634e3",
   "metadata": {},
   "outputs": [],
   "source": [
    "zero_48 = train_data[train_data.iloc[:, -43:].sum(axis=1) == 0]"
   ]
  },
  {
   "cell_type": "code",
   "execution_count": 669,
   "id": "18282553",
   "metadata": {},
   "outputs": [
    {
     "data": {
      "text/plain": [
       "1614"
      ]
     },
     "execution_count": 669,
     "metadata": {},
     "output_type": "execute_result"
    }
   ],
   "source": [
    "len(zero_48_id_lst)"
   ]
  },
  {
   "cell_type": "code",
   "execution_count": 670,
   "id": "75087ec8",
   "metadata": {},
   "outputs": [],
   "source": [
    "train_data = train_data[~train_data['ID'].isin(zero_48_id_lst)]\n",
    "train_data.reset_index(drop=True, inplace=True)"
   ]
  },
  {
   "cell_type": "code",
   "execution_count": 671,
   "id": "4da3a8ad",
   "metadata": {},
   "outputs": [
    {
     "data": {
      "text/plain": [
       "5039"
      ]
     },
     "execution_count": 671,
     "metadata": {},
     "output_type": "execute_result"
    }
   ],
   "source": [
    "len(train_data)"
   ]
  },
  {
   "cell_type": "code",
   "execution_count": 672,
   "id": "218dbb75",
   "metadata": {},
   "outputs": [
    {
     "data": {
      "text/plain": [
       "(5039, 5039)"
      ]
     },
     "execution_count": 672,
     "metadata": {},
     "output_type": "execute_result"
    }
   ],
   "source": [
    "6653 - 1614, len(train_data)"
   ]
  },
  {
   "cell_type": "markdown",
   "id": "e6b80a0d",
   "metadata": {},
   "source": [
    "***"
   ]
  },
  {
   "cell_type": "code",
   "execution_count": 673,
   "id": "468e8631",
   "metadata": {},
   "outputs": [
    {
     "data": {
      "text/html": [
       "<div>\n",
       "<style scoped>\n",
       "    .dataframe tbody tr th:only-of-type {\n",
       "        vertical-align: middle;\n",
       "    }\n",
       "\n",
       "    .dataframe tbody tr th {\n",
       "        vertical-align: top;\n",
       "    }\n",
       "\n",
       "    .dataframe thead th {\n",
       "        text-align: right;\n",
       "    }\n",
       "</style>\n",
       "<table border=\"1\" class=\"dataframe\">\n",
       "  <thead>\n",
       "    <tr style=\"text-align: right;\">\n",
       "      <th></th>\n",
       "      <th>ID</th>\n",
       "      <th>2023-04-05</th>\n",
       "      <th>2023-04-06</th>\n",
       "      <th>2023-04-07</th>\n",
       "      <th>2023-04-08</th>\n",
       "      <th>2023-04-09</th>\n",
       "      <th>2023-04-10</th>\n",
       "      <th>2023-04-11</th>\n",
       "      <th>2023-04-12</th>\n",
       "      <th>2023-04-13</th>\n",
       "      <th>...</th>\n",
       "      <th>2023-04-16</th>\n",
       "      <th>2023-04-17</th>\n",
       "      <th>2023-04-18</th>\n",
       "      <th>2023-04-19</th>\n",
       "      <th>2023-04-20</th>\n",
       "      <th>2023-04-21</th>\n",
       "      <th>2023-04-22</th>\n",
       "      <th>2023-04-23</th>\n",
       "      <th>2023-04-24</th>\n",
       "      <th>2023-04-25</th>\n",
       "    </tr>\n",
       "  </thead>\n",
       "  <tbody>\n",
       "    <tr>\n",
       "      <th>0</th>\n",
       "      <td>0</td>\n",
       "      <td>1</td>\n",
       "      <td>1</td>\n",
       "      <td>1</td>\n",
       "      <td>1</td>\n",
       "      <td>1</td>\n",
       "      <td>1</td>\n",
       "      <td>1</td>\n",
       "      <td>1</td>\n",
       "      <td>1</td>\n",
       "      <td>...</td>\n",
       "      <td>1</td>\n",
       "      <td>1</td>\n",
       "      <td>1</td>\n",
       "      <td>1</td>\n",
       "      <td>1</td>\n",
       "      <td>1</td>\n",
       "      <td>1</td>\n",
       "      <td>1</td>\n",
       "      <td>1</td>\n",
       "      <td>1</td>\n",
       "    </tr>\n",
       "    <tr>\n",
       "      <th>1</th>\n",
       "      <td>1</td>\n",
       "      <td>1</td>\n",
       "      <td>1</td>\n",
       "      <td>1</td>\n",
       "      <td>1</td>\n",
       "      <td>1</td>\n",
       "      <td>1</td>\n",
       "      <td>1</td>\n",
       "      <td>1</td>\n",
       "      <td>1</td>\n",
       "      <td>...</td>\n",
       "      <td>1</td>\n",
       "      <td>1</td>\n",
       "      <td>1</td>\n",
       "      <td>1</td>\n",
       "      <td>1</td>\n",
       "      <td>1</td>\n",
       "      <td>1</td>\n",
       "      <td>1</td>\n",
       "      <td>1</td>\n",
       "      <td>1</td>\n",
       "    </tr>\n",
       "    <tr>\n",
       "      <th>2</th>\n",
       "      <td>2</td>\n",
       "      <td>1</td>\n",
       "      <td>1</td>\n",
       "      <td>1</td>\n",
       "      <td>1</td>\n",
       "      <td>1</td>\n",
       "      <td>1</td>\n",
       "      <td>1</td>\n",
       "      <td>1</td>\n",
       "      <td>1</td>\n",
       "      <td>...</td>\n",
       "      <td>1</td>\n",
       "      <td>1</td>\n",
       "      <td>1</td>\n",
       "      <td>1</td>\n",
       "      <td>1</td>\n",
       "      <td>1</td>\n",
       "      <td>1</td>\n",
       "      <td>1</td>\n",
       "      <td>1</td>\n",
       "      <td>1</td>\n",
       "    </tr>\n",
       "    <tr>\n",
       "      <th>3</th>\n",
       "      <td>3</td>\n",
       "      <td>1</td>\n",
       "      <td>1</td>\n",
       "      <td>1</td>\n",
       "      <td>1</td>\n",
       "      <td>1</td>\n",
       "      <td>1</td>\n",
       "      <td>1</td>\n",
       "      <td>1</td>\n",
       "      <td>1</td>\n",
       "      <td>...</td>\n",
       "      <td>1</td>\n",
       "      <td>1</td>\n",
       "      <td>1</td>\n",
       "      <td>1</td>\n",
       "      <td>1</td>\n",
       "      <td>1</td>\n",
       "      <td>1</td>\n",
       "      <td>1</td>\n",
       "      <td>1</td>\n",
       "      <td>1</td>\n",
       "    </tr>\n",
       "    <tr>\n",
       "      <th>4</th>\n",
       "      <td>4</td>\n",
       "      <td>1</td>\n",
       "      <td>1</td>\n",
       "      <td>1</td>\n",
       "      <td>1</td>\n",
       "      <td>1</td>\n",
       "      <td>1</td>\n",
       "      <td>1</td>\n",
       "      <td>1</td>\n",
       "      <td>1</td>\n",
       "      <td>...</td>\n",
       "      <td>1</td>\n",
       "      <td>1</td>\n",
       "      <td>1</td>\n",
       "      <td>1</td>\n",
       "      <td>1</td>\n",
       "      <td>1</td>\n",
       "      <td>1</td>\n",
       "      <td>1</td>\n",
       "      <td>1</td>\n",
       "      <td>1</td>\n",
       "    </tr>\n",
       "    <tr>\n",
       "      <th>...</th>\n",
       "      <td>...</td>\n",
       "      <td>...</td>\n",
       "      <td>...</td>\n",
       "      <td>...</td>\n",
       "      <td>...</td>\n",
       "      <td>...</td>\n",
       "      <td>...</td>\n",
       "      <td>...</td>\n",
       "      <td>...</td>\n",
       "      <td>...</td>\n",
       "      <td>...</td>\n",
       "      <td>...</td>\n",
       "      <td>...</td>\n",
       "      <td>...</td>\n",
       "      <td>...</td>\n",
       "      <td>...</td>\n",
       "      <td>...</td>\n",
       "      <td>...</td>\n",
       "      <td>...</td>\n",
       "      <td>...</td>\n",
       "      <td>...</td>\n",
       "    </tr>\n",
       "    <tr>\n",
       "      <th>15885</th>\n",
       "      <td>15885</td>\n",
       "      <td>1</td>\n",
       "      <td>1</td>\n",
       "      <td>1</td>\n",
       "      <td>1</td>\n",
       "      <td>1</td>\n",
       "      <td>1</td>\n",
       "      <td>1</td>\n",
       "      <td>1</td>\n",
       "      <td>1</td>\n",
       "      <td>...</td>\n",
       "      <td>1</td>\n",
       "      <td>1</td>\n",
       "      <td>1</td>\n",
       "      <td>1</td>\n",
       "      <td>1</td>\n",
       "      <td>1</td>\n",
       "      <td>1</td>\n",
       "      <td>1</td>\n",
       "      <td>1</td>\n",
       "      <td>1</td>\n",
       "    </tr>\n",
       "    <tr>\n",
       "      <th>15886</th>\n",
       "      <td>15886</td>\n",
       "      <td>3</td>\n",
       "      <td>2</td>\n",
       "      <td>4</td>\n",
       "      <td>1</td>\n",
       "      <td>1</td>\n",
       "      <td>3</td>\n",
       "      <td>3</td>\n",
       "      <td>2</td>\n",
       "      <td>4</td>\n",
       "      <td>...</td>\n",
       "      <td>3</td>\n",
       "      <td>3</td>\n",
       "      <td>2</td>\n",
       "      <td>4</td>\n",
       "      <td>1</td>\n",
       "      <td>1</td>\n",
       "      <td>3</td>\n",
       "      <td>3</td>\n",
       "      <td>2</td>\n",
       "      <td>4</td>\n",
       "    </tr>\n",
       "    <tr>\n",
       "      <th>15887</th>\n",
       "      <td>15887</td>\n",
       "      <td>1</td>\n",
       "      <td>1</td>\n",
       "      <td>1</td>\n",
       "      <td>1</td>\n",
       "      <td>1</td>\n",
       "      <td>1</td>\n",
       "      <td>1</td>\n",
       "      <td>1</td>\n",
       "      <td>1</td>\n",
       "      <td>...</td>\n",
       "      <td>1</td>\n",
       "      <td>1</td>\n",
       "      <td>1</td>\n",
       "      <td>1</td>\n",
       "      <td>1</td>\n",
       "      <td>1</td>\n",
       "      <td>1</td>\n",
       "      <td>1</td>\n",
       "      <td>1</td>\n",
       "      <td>1</td>\n",
       "    </tr>\n",
       "    <tr>\n",
       "      <th>15888</th>\n",
       "      <td>15888</td>\n",
       "      <td>2</td>\n",
       "      <td>2</td>\n",
       "      <td>2</td>\n",
       "      <td>2</td>\n",
       "      <td>2</td>\n",
       "      <td>2</td>\n",
       "      <td>2</td>\n",
       "      <td>2</td>\n",
       "      <td>2</td>\n",
       "      <td>...</td>\n",
       "      <td>2</td>\n",
       "      <td>2</td>\n",
       "      <td>2</td>\n",
       "      <td>2</td>\n",
       "      <td>2</td>\n",
       "      <td>2</td>\n",
       "      <td>2</td>\n",
       "      <td>2</td>\n",
       "      <td>2</td>\n",
       "      <td>2</td>\n",
       "    </tr>\n",
       "    <tr>\n",
       "      <th>15889</th>\n",
       "      <td>15889</td>\n",
       "      <td>1</td>\n",
       "      <td>1</td>\n",
       "      <td>1</td>\n",
       "      <td>1</td>\n",
       "      <td>1</td>\n",
       "      <td>1</td>\n",
       "      <td>1</td>\n",
       "      <td>1</td>\n",
       "      <td>1</td>\n",
       "      <td>...</td>\n",
       "      <td>1</td>\n",
       "      <td>1</td>\n",
       "      <td>1</td>\n",
       "      <td>1</td>\n",
       "      <td>1</td>\n",
       "      <td>1</td>\n",
       "      <td>1</td>\n",
       "      <td>1</td>\n",
       "      <td>1</td>\n",
       "      <td>1</td>\n",
       "    </tr>\n",
       "  </tbody>\n",
       "</table>\n",
       "<p>15890 rows × 22 columns</p>\n",
       "</div>"
      ],
      "text/plain": [
       "          ID  2023-04-05  2023-04-06  2023-04-07  2023-04-08  2023-04-09  \\\n",
       "0          0           1           1           1           1           1   \n",
       "1          1           1           1           1           1           1   \n",
       "2          2           1           1           1           1           1   \n",
       "3          3           1           1           1           1           1   \n",
       "4          4           1           1           1           1           1   \n",
       "...      ...         ...         ...         ...         ...         ...   \n",
       "15885  15885           1           1           1           1           1   \n",
       "15886  15886           3           2           4           1           1   \n",
       "15887  15887           1           1           1           1           1   \n",
       "15888  15888           2           2           2           2           2   \n",
       "15889  15889           1           1           1           1           1   \n",
       "\n",
       "       2023-04-10  2023-04-11  2023-04-12  2023-04-13  ...  2023-04-16  \\\n",
       "0               1           1           1           1  ...           1   \n",
       "1               1           1           1           1  ...           1   \n",
       "2               1           1           1           1  ...           1   \n",
       "3               1           1           1           1  ...           1   \n",
       "4               1           1           1           1  ...           1   \n",
       "...           ...         ...         ...         ...  ...         ...   \n",
       "15885           1           1           1           1  ...           1   \n",
       "15886           3           3           2           4  ...           3   \n",
       "15887           1           1           1           1  ...           1   \n",
       "15888           2           2           2           2  ...           2   \n",
       "15889           1           1           1           1  ...           1   \n",
       "\n",
       "       2023-04-17  2023-04-18  2023-04-19  2023-04-20  2023-04-21  2023-04-22  \\\n",
       "0               1           1           1           1           1           1   \n",
       "1               1           1           1           1           1           1   \n",
       "2               1           1           1           1           1           1   \n",
       "3               1           1           1           1           1           1   \n",
       "4               1           1           1           1           1           1   \n",
       "...           ...         ...         ...         ...         ...         ...   \n",
       "15885           1           1           1           1           1           1   \n",
       "15886           3           2           4           1           1           3   \n",
       "15887           1           1           1           1           1           1   \n",
       "15888           2           2           2           2           2           2   \n",
       "15889           1           1           1           1           1           1   \n",
       "\n",
       "       2023-04-23  2023-04-24  2023-04-25  \n",
       "0               1           1           1  \n",
       "1               1           1           1  \n",
       "2               1           1           1  \n",
       "3               1           1           1  \n",
       "4               1           1           1  \n",
       "...           ...         ...         ...  \n",
       "15885           1           1           1  \n",
       "15886           3           2           4  \n",
       "15887           1           1           1  \n",
       "15888           2           2           2  \n",
       "15889           1           1           1  \n",
       "\n",
       "[15890 rows x 22 columns]"
      ]
     },
     "execution_count": 673,
     "metadata": {},
     "output_type": "execute_result"
    }
   ],
   "source": [
    "sub_final"
   ]
  },
  {
   "cell_type": "code",
   "execution_count": 674,
   "id": "2c7a9beb",
   "metadata": {},
   "outputs": [],
   "source": [
    "sub_prophet_3 = pd.read_csv(os.path.abspath(\"./submission\")+\"/대분류3번_역작_Prophet.csv\")"
   ]
  },
  {
   "cell_type": "markdown",
   "id": "3bd6689f",
   "metadata": {},
   "source": [
    "  "
   ]
  },
  {
   "cell_type": "code",
   "execution_count": 675,
   "id": "dd3840fa",
   "metadata": {},
   "outputs": [],
   "source": [
    "train_raw = pd.read_csv(os.path.abspath(\"./data\")+\"/train.csv\")"
   ]
  },
  {
   "cell_type": "code",
   "execution_count": 676,
   "id": "3b3a647e",
   "metadata": {},
   "outputs": [],
   "source": [
    "대분류3_id_lst = train_raw[train_raw['대분류'] == 'B002-C001-0003']['ID'].tolist()"
   ]
  },
  {
   "cell_type": "code",
   "execution_count": 677,
   "id": "0cf60603",
   "metadata": {},
   "outputs": [],
   "source": [
    "대분류3_sub_idx = sub_final[sub_final['ID'].isin(대분류3_id_lst)].index"
   ]
  },
  {
   "cell_type": "code",
   "execution_count": 678,
   "id": "6113d672",
   "metadata": {},
   "outputs": [],
   "source": [
    "sub_final.loc[대분류3_sub_idx] = sub_prophet_3.loc[대분류3_sub_idx]"
   ]
  },
  {
   "cell_type": "code",
   "execution_count": 679,
   "id": "1ea424ec",
   "metadata": {},
   "outputs": [],
   "source": [
    "sub_final.to_csv('./submission/deep_0.7_lgbm0.3_plus_후처리_역작.csv', index = False)"
   ]
  },
  {
   "cell_type": "markdown",
   "id": "843bb793",
   "metadata": {},
   "source": [
    "***\n",
    "***"
   ]
  }
 ],
 "metadata": {
  "kernelspec": {
   "display_name": "Python 3 (ipykernel)",
   "language": "python",
   "name": "python3"
  },
  "language_info": {
   "codemirror_mode": {
    "name": "ipython",
    "version": 3
   },
   "file_extension": ".py",
   "mimetype": "text/x-python",
   "name": "python",
   "nbconvert_exporter": "python",
   "pygments_lexer": "ipython3",
   "version": "3.8.5"
  }
 },
 "nbformat": 4,
 "nbformat_minor": 5
}
