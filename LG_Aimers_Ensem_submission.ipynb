{
 "cells": [
  {
   "cell_type": "markdown",
   "id": "a7ba8f5b",
   "metadata": {},
   "source": [
    "# ***Import***"
   ]
  },
  {
   "cell_type": "code",
   "execution_count": 2,
   "id": "2ee72f07",
   "metadata": {},
   "outputs": [],
   "source": [
    "import random\n",
    "import os\n",
    "import itertools\n",
    "import pickle\n",
    "from tqdm import tqdm\n",
    "\n",
    "import pandas as pd\n",
    "import numpy as np\n",
    "import plotly.graph_objs as go\n",
    "import matplotlib.pyplot as plt\n",
    "\n",
    "from datetime import datetime, timedelta\n",
    "from prophet import Prophet #prophet 라이브러리 불러오기\n",
    "\n",
    "from prophet.diagnostics import cross_validation\n",
    "from prophet.plot import plot_cross_validation_metric\n",
    "from prophet.diagnostics import performance_metrics"
   ]
  },
  {
   "cell_type": "markdown",
   "id": "6bc8ee01",
   "metadata": {},
   "source": [
    "# ***Ensemble***"
   ]
  },
  {
   "cell_type": "code",
   "execution_count": 6,
   "id": "6fa98a0f",
   "metadata": {},
   "outputs": [],
   "source": [
    "submission = pd.read_csv(os.path.abspath(\"./submission\")+\"/sample_submission.csv\")"
   ]
  },
  {
   "cell_type": "code",
   "execution_count": 75,
   "id": "42cc489b",
   "metadata": {},
   "outputs": [],
   "source": [
    "sub_lstm = pd.read_csv(os.path.abspath(\"./submission\")+\"/20230811_first.csv\")\n",
    "sub_prophet = pd.read_csv(os.path.abspath(\"./submission\")+\"/Prophet_Final.csv\")\n",
    "sub_lgbm = pd.read_csv(os.path.abspath(\"./submission\")+\"/LGBM_단일.csv\")\n",
    "sub_nhits = pd.read_csv(os.path.abspath(\"./submission\")+\"/nhits_단일.csv\")"
   ]
  },
  {
   "cell_type": "code",
   "execution_count": 76,
   "id": "9562362a",
   "metadata": {},
   "outputs": [],
   "source": [
    "sub_nhits[sub_nhits < 0] = 0"
   ]
  },
  {
   "cell_type": "code",
   "execution_count": 77,
   "id": "008b2e52",
   "metadata": {},
   "outputs": [],
   "source": [
    "sub_nhits.iloc[:,1:] = sub_nhits.iloc[:,1:].replace(0,1)\n",
    "sub_lgbm.iloc[:,1:] = sub_lgbm.iloc[:,1:].replace(0,1)\n",
    "sub_lstm.iloc[:,1:] = sub_lstm.iloc[:,1:].replace(0,1)\n",
    "sub_prophet.iloc[:,1:] = sub_prophet.iloc[:,1:].replace(0,1)"
   ]
  },
  {
   "cell_type": "code",
   "execution_count": 78,
   "id": "f1be79f5",
   "metadata": {},
   "outputs": [],
   "source": [
    "submission.iloc[:,1:] = 0.7 * ((sub_prophet.iloc[:,1:] + sub_nhits.iloc[:,1:] + sub_lstm.iloc[:,1:])/3) + (0.3 * sub_lgbm.iloc[:,1:])"
   ]
  },
  {
   "cell_type": "code",
   "execution_count": 82,
   "id": "92248203",
   "metadata": {},
   "outputs": [],
   "source": [
    "submission.to_csv('./submission/deep_0.7_lgbm0.3.csv', index = False)"
   ]
  },
  {
   "cell_type": "markdown",
   "id": "cf9ccd42",
   "metadata": {},
   "source": [
    "---"
   ]
  }
 ],
 "metadata": {
  "kernelspec": {
   "display_name": "Python 3 (ipykernel)",
   "language": "python",
   "name": "python3"
  },
  "language_info": {
   "codemirror_mode": {
    "name": "ipython",
    "version": 3
   },
   "file_extension": ".py",
   "mimetype": "text/x-python",
   "name": "python",
   "nbconvert_exporter": "python",
   "pygments_lexer": "ipython3",
   "version": "3.8.5"
  }
 },
 "nbformat": 4,
 "nbformat_minor": 5
}
