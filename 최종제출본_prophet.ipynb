{
 "cells": [
  {
   "cell_type": "markdown",
   "id": "f7444f30-0883-4a87-8e00-c5e5591a2a26",
   "metadata": {
    "id": "f7444f30-0883-4a87-8e00-c5e5591a2a26"
   },
   "source": [
    "## Import"
   ]
  },
  {
   "cell_type": "code",
   "execution_count": null,
   "id": "_H0e6QcWM8eb",
   "metadata": {
    "colab": {
     "base_uri": "https://localhost:8080/"
    },
    "id": "_H0e6QcWM8eb",
    "outputId": "4644c4bc-0606-45dc-c0e1-3b0abf10a98d"
   },
   "outputs": [],
   "source": [
    "from google.colab import drive\n",
    "drive.mount('/content/drive')"
   ]
  },
  {
   "cell_type": "code",
   "execution_count": null,
   "id": "b85832b1-9f31-41e4-b934-cc260e5b3b1d",
   "metadata": {
    "id": "b85832b1-9f31-41e4-b934-cc260e5b3b1d"
   },
   "outputs": [],
   "source": [
    "import random\n",
    "import os\n",
    "import pandas as pd\n",
    "import numpy as np\n",
    "from tqdm.auto import tqdm\n",
    "from sklearn.preprocessing import LabelEncoder\n",
    "\n",
    "import torch\n",
    "import torch.nn as nn\n",
    "import torch.optim as optim\n",
    "import torch.nn.functional as F\n",
    "from torch.utils.data import Dataset, DataLoader"
   ]
  },
  {
   "cell_type": "code",
   "execution_count": null,
   "id": "b0259cfd-b37c-4716-aacf-c91d77e41480",
   "metadata": {
    "id": "b0259cfd-b37c-4716-aacf-c91d77e41480"
   },
   "outputs": [],
   "source": [
    "device = torch.device('cuda') if torch.cuda.is_available() else torch.device('cpu')"
   ]
  },
  {
   "cell_type": "markdown",
   "id": "07c2d47b-e9da-47e5-9155-cce997e63481",
   "metadata": {
    "id": "07c2d47b-e9da-47e5-9155-cce997e63481"
   },
   "source": [
    "## Hyperparameter Setting"
   ]
  },
  {
   "cell_type": "code",
   "execution_count": null,
   "id": "c9f50013-6513-44fd-8e48-06dd12ec3f63",
   "metadata": {
    "id": "c9f50013-6513-44fd-8e48-06dd12ec3f63"
   },
   "outputs": [],
   "source": [
    "CFG = {\n",
    "    'TRAIN_WINDOW_SIZE': 90, # 90일치로 학습\n",
    "    'PREDICT_SIZE':21, # 21일치 예측\n",
    "    'EPOCHS':20,\n",
    "    'LEARNING_RATE':1e-4,\n",
    "    'BATCH_SIZE':4096,\n",
    "    'SEED':41\n",
    "}\n"
   ]
  },
  {
   "cell_type": "code",
   "execution_count": null,
   "id": "44cdbe67-eda2-42ef-bc35-0a2bfd99f211",
   "metadata": {
    "id": "44cdbe67-eda2-42ef-bc35-0a2bfd99f211"
   },
   "outputs": [],
   "source": [
    "def seed_everything(seed):\n",
    "    random.seed(seed)\n",
    "    os.environ['PYTHONHASHSEED'] = str(seed)\n",
    "    np.random.seed(seed)\n",
    "    torch.manual_seed(seed)\n",
    "    torch.cuda.manual_seed(seed)\n",
    "    torch.backends.cudnn.deterministic = True\n",
    "    torch.backends.cudnn.benchmark = True\n",
    "\n",
    "seed_everything(CFG['SEED']) # Seed 고정"
   ]
  },
  {
   "cell_type": "markdown",
   "id": "7d68c38e",
   "metadata": {
    "id": "7d68c38e"
   },
   "source": [
    "### 데이터 불러오기"
   ]
  },
  {
   "cell_type": "code",
   "execution_count": null,
   "id": "e3b89389",
   "metadata": {
    "id": "e3b89389"
   },
   "outputs": [],
   "source": [
    "train_data = pd.read_csv('/content/drive/MyDrive/LG_AIMERS/train.csv')#.drop(columns=['ID', '제품'])\n",
    "keyword = pd.read_csv('/content/drive/MyDrive/LG_AIMERS/brand_keyword_cnt.csv')\n",
    "product = pd.read_csv('/content/drive/MyDrive/LG_AIMERS/product_info.csv')\n",
    "sales = pd.read_csv('/content/drive/MyDrive/LG_AIMERS/sales.csv')\n",
    "submission = pd.read_csv('/content/drive/MyDrive/LG_AIMERS/sample_submission.csv')\n"
   ]
  },
  {
   "cell_type": "code",
   "execution_count": null,
   "id": "O_PFjuhSwdj9",
   "metadata": {
    "id": "O_PFjuhSwdj9"
   },
   "outputs": [],
   "source": [
    "train = train_data[train_data['대분류']=='B002-C001-0005']\n",
    "sales = sales[sales['대분류']=='B002-C001-0005']"
   ]
  },
  {
   "cell_type": "code",
   "execution_count": null,
   "id": "nuobELDxxc0-",
   "metadata": {
    "colab": {
     "base_uri": "https://localhost:8080/",
     "height": 615
    },
    "id": "nuobELDxxc0-",
    "outputId": "cb5e2007-7521-4120-ba49-dbe55f42fa3b"
   },
   "outputs": [],
   "source": [
    "train"
   ]
  },
  {
   "cell_type": "markdown",
   "id": "Z-qKlhHFSZZi",
   "metadata": {
    "id": "Z-qKlhHFSZZi"
   },
   "source": [
    "### 대분류 5번의 일당 전체 판매량 의 그래프"
   ]
  },
  {
   "cell_type": "code",
   "execution_count": null,
   "id": "9s-PTZ4FPQX-",
   "metadata": {
    "id": "9s-PTZ4FPQX-"
   },
   "outputs": [],
   "source": [
    "data = train.iloc[:,6:].sum(axis=0)"
   ]
  },
  {
   "cell_type": "code",
   "execution_count": null,
   "id": "V5WQfQX2Pnx5",
   "metadata": {
    "colab": {
     "base_uri": "https://localhost:8080/",
     "height": 594
    },
    "id": "V5WQfQX2Pnx5",
    "outputId": "00f40b91-a205-4ec0-a9a6-a2c3cc5df121"
   },
   "outputs": [],
   "source": [
    "import matplotlib.pyplot as plt\n",
    "\n",
    "x = data.index\n",
    "y = data\n",
    "plt.figure(figsize=(15, 6))\n",
    "plt.plot(x, y, marker='o')\n",
    "\n",
    "plt.xlabel('Date')\n",
    "plt.ylabel('Sales')\n",
    "plt.grid(True)\n",
    "x_ticks_indices = range(0, len(x), len(x) // 30)  # 30개의 눈금 위치 선정\n",
    "x_ticks_labels = [x[i] for i in x_ticks_indices]  # 해당 위치의 레이블 가져오기\n",
    "plt.xticks(x_ticks_indices, x_ticks_labels, rotation=45)  # 눈금 설정#plt.tight_layout()\n",
    "plt.show()"
   ]
  },
  {
   "cell_type": "code",
   "execution_count": null,
   "id": "1oJP5BFsSrg1",
   "metadata": {
    "id": "1oJP5BFsSrg1"
   },
   "outputs": [],
   "source": [
    "keyword = train.iloc[:,:6].merge(keyword,on='브랜드')"
   ]
  },
  {
   "cell_type": "code",
   "execution_count": null,
   "id": "mXQkgegHSnpU",
   "metadata": {
    "id": "mXQkgegHSnpU"
   },
   "outputs": [],
   "source": [
    "keyword = keyword.iloc[:,6:].fillna(0)"
   ]
  },
  {
   "cell_type": "code",
   "execution_count": null,
   "id": "4buYQikrTGis",
   "metadata": {
    "colab": {
     "base_uri": "https://localhost:8080/",
     "height": 441
    },
    "id": "4buYQikrTGis",
    "outputId": "b5bef7d6-743c-449a-c1cf-27c6e9cbbf2f"
   },
   "outputs": [],
   "source": [
    "keyword"
   ]
  },
  {
   "cell_type": "code",
   "execution_count": null,
   "id": "RYCd360ITE4m",
   "metadata": {
    "colab": {
     "base_uri": "https://localhost:8080/",
     "height": 594
    },
    "id": "RYCd360ITE4m",
    "outputId": "bba0d8a8-37d8-479e-8c88-baf1ac13e6fb"
   },
   "outputs": [],
   "source": [
    "import matplotlib.pyplot as plt\n",
    "data = keyword.sum(axis=0)\n",
    "x = data.index\n",
    "y = data\n",
    "plt.figure(figsize=(15, 6))\n",
    "plt.plot(x, y, marker='o')\n",
    "\n",
    "plt.xlabel('Date')\n",
    "plt.ylabel('Sales')\n",
    "plt.grid(True)\n",
    "x_ticks_indices = range(0, len(x), len(x) // 15)  # 30개의 눈금 위치 선정\n",
    "x_ticks_labels = [x[i] for i in x_ticks_indices]  # 해당 위치의 레이블 가져오기\n",
    "plt.xticks(x_ticks_indices, x_ticks_labels, rotation=45)  # 눈금 설정#plt.tight_layout()\n",
    "plt.show()"
   ]
  },
  {
   "cell_type": "code",
   "execution_count": null,
   "id": "AiIS0kOSrY4k",
   "metadata": {
    "id": "AiIS0kOSrY4k"
   },
   "outputs": [],
   "source": [
    "product = train.iloc[:,:6].merge(product,on='제품')"
   ]
  },
  {
   "cell_type": "code",
   "execution_count": null,
   "id": "lkOMdRWRDYah",
   "metadata": {
    "colab": {
     "base_uri": "https://localhost:8080/"
    },
    "id": "lkOMdRWRDYah",
    "outputId": "e9ccce1d-3075-49e6-c3d4-e4f1ab8948dc"
   },
   "outputs": [],
   "source": [
    "product['제품특성'].iloc[50:100]"
   ]
  },
  {
   "cell_type": "markdown",
   "id": "j4hWMKPSeVZi",
   "metadata": {
    "id": "j4hWMKPSeVZi"
   },
   "source": [
    "## 가격비교"
   ]
  },
  {
   "cell_type": "code",
   "execution_count": null,
   "id": "EZl4yvDneUwJ",
   "metadata": {
    "colab": {
     "base_uri": "https://localhost:8080/",
     "height": 615
    },
    "id": "EZl4yvDneUwJ",
    "outputId": "e9a3b5f7-04c5-4577-d193-ca0f47cc4002"
   },
   "outputs": [],
   "source": [
    "train"
   ]
  },
  {
   "cell_type": "code",
   "execution_count": null,
   "id": "L2pC6LxAeU3E",
   "metadata": {
    "id": "L2pC6LxAeU3E"
   },
   "outputs": [],
   "source": [
    "price_data = (sales.iloc[:,6:] / train.iloc[:,6:]).fillna(0)"
   ]
  },
  {
   "cell_type": "code",
   "execution_count": null,
   "id": "v3ET0igweU5L",
   "metadata": {
    "id": "v3ET0igweU5L"
   },
   "outputs": [],
   "source": [
    "high_price = price_data.max(axis=1)"
   ]
  },
  {
   "cell_type": "code",
   "execution_count": null,
   "id": "LUZ1O9oyeU6m",
   "metadata": {
    "colab": {
     "base_uri": "https://localhost:8080/",
     "height": 253
    },
    "id": "LUZ1O9oyeU6m",
    "outputId": "1ac96a3b-dc2a-4822-8b5b-ecb4581369f5"
   },
   "outputs": [],
   "source": [
    "price_data.head(5)"
   ]
  },
  {
   "cell_type": "code",
   "execution_count": null,
   "id": "9PXBA1ueeU_K",
   "metadata": {
    "id": "9PXBA1ueeU_K"
   },
   "outputs": [],
   "source": [
    "for index, row in price_data.iterrows():\n",
    "    max_value = row.max()\n",
    "    price_data.loc[index] = [max_value if value == 0 else value for value in row]"
   ]
  },
  {
   "cell_type": "code",
   "execution_count": null,
   "id": "s1eXrJ9leVAz",
   "metadata": {
    "colab": {
     "base_uri": "https://localhost:8080/"
    },
    "id": "s1eXrJ9leVAz",
    "outputId": "a99d042b-b106-46d6-9abd-353f6813a3d3"
   },
   "outputs": [],
   "source": [
    "price_data.iloc[10,:]"
   ]
  },
  {
   "cell_type": "code",
   "execution_count": null,
   "id": "JAMezVJseVCJ",
   "metadata": {
    "colab": {
     "base_uri": "https://localhost:8080/",
     "height": 1000
    },
    "id": "JAMezVJseVCJ",
    "outputId": "46bf5ac5-effb-4bfa-d2bf-7bf634703d14"
   },
   "outputs": [],
   "source": [
    "for i in range(10):\n",
    "  x = price_data.iloc[i,:].index\n",
    "  y = price_data.iloc[i,:].values\n",
    "  plt.figure(figsize=(15, 6))\n",
    "  plt.plot(x, y, marker='o')\n",
    "\n",
    "  plt.xlabel('Date')\n",
    "  plt.ylabel('price')\n",
    "  plt.grid(True)\n",
    "  x_ticks_indices = range(0, len(x), len(x) // 15)  # 30개의 눈금 위치 선정\n",
    "  x_ticks_labels = [x[i] for i in x_ticks_indices]  # 해당 위치의 레이블 가져오기\n",
    "  plt.xticks(x_ticks_indices, x_ticks_labels, rotation=45)  # 눈금 설정#plt.tight_layout()\n",
    "  plt.show()"
   ]
  },
  {
   "cell_type": "markdown",
   "id": "LiBfLCVgxR4L",
   "metadata": {
    "id": "LiBfLCVgxR4L"
   },
   "source": [
    "## 전체 판매량이 0 인애들\n"
   ]
  },
  {
   "cell_type": "code",
   "execution_count": null,
   "id": "-eqVxD2_h57k",
   "metadata": {
    "colab": {
     "base_uri": "https://localhost:8080/",
     "height": 615
    },
    "id": "-eqVxD2_h57k",
    "outputId": "8719413f-d745-4df7-e63a-56ef09879079"
   },
   "outputs": [],
   "source": [
    "train"
   ]
  },
  {
   "cell_type": "code",
   "execution_count": null,
   "id": "T6vjcRZLwdl0",
   "metadata": {
    "colab": {
     "base_uri": "https://localhost:8080/",
     "height": 202
    },
    "id": "T6vjcRZLwdl0",
    "outputId": "cd36420c-44f3-4ea0-9430-599bc5f8d2be"
   },
   "outputs": [],
   "source": [
    "train[train.iloc[:,5:].mean(axis=1)==0]"
   ]
  },
  {
   "cell_type": "code",
   "execution_count": null,
   "id": "j_X9QHyDwdoF",
   "metadata": {
    "colab": {
     "base_uri": "https://localhost:8080/"
    },
    "id": "j_X9QHyDwdoF",
    "outputId": "5c0efbc0-ff6a-4381-d67e-8e0b48afd659"
   },
   "outputs": [],
   "source": [
    "zero_index = train[train.iloc[:,5:].mean(axis=1)==0].index"
   ]
  },
  {
   "cell_type": "markdown",
   "id": "F0L3DUtAySNU",
   "metadata": {
    "id": "F0L3DUtAySNU"
   },
   "source": [
    "## 전체 판매량이 0인애들의 판매 데이터 -> submission1"
   ]
  },
  {
   "cell_type": "code",
   "execution_count": null,
   "id": "97z4x9DByabS",
   "metadata": {
    "id": "97z4x9DByabS"
   },
   "outputs": [],
   "source": [
    "submission1 = submission.iloc[zero_index]"
   ]
  },
  {
   "cell_type": "code",
   "execution_count": null,
   "id": "Yt40UOck7N2d",
   "metadata": {
    "id": "Yt40UOck7N2d"
   },
   "outputs": [],
   "source": [
    "#!pip install prophet\n",
    "from prophet import Prophet"
   ]
  },
  {
   "cell_type": "code",
   "execution_count": null,
   "id": "-dj3ypERwdqV",
   "metadata": {
    "id": "-dj3ypERwdqV"
   },
   "outputs": [],
   "source": [
    "train1 = train.loc[list(set(train.index)-set(zero_index))]"
   ]
  },
  {
   "cell_type": "code",
   "execution_count": null,
   "id": "DV8ev97riVXt",
   "metadata": {
    "colab": {
     "base_uri": "https://localhost:8080/",
     "height": 242
    },
    "id": "DV8ev97riVXt",
    "outputId": "a1b12bbb-00af-4e5a-ae69-365453cac737"
   },
   "outputs": [],
   "source": [
    "train1.head(3)"
   ]
  },
  {
   "cell_type": "markdown",
   "id": "pCvajE_didxp",
   "metadata": {
    "id": "pCvajE_didxp"
   },
   "source": [
    "# 2022년 판매량이 많이 저조한 경우 -> 신상품이거나 원래 잘 안팔리는 제품이라고 판단가능. -> 2022년 데이터가 필요없다고판단. -> 2023 년 데이터만 활용"
   ]
  },
  {
   "cell_type": "code",
   "execution_count": null,
   "id": "ueR1hel_iGSH",
   "metadata": {
    "id": "ueR1hel_iGSH"
   },
   "outputs": [],
   "source": [
    "train_2023 = train1[train1.iloc[:,6:-94].sum(axis=1)<90]"
   ]
  },
  {
   "cell_type": "code",
   "execution_count": null,
   "id": "eSc50HxYiGUi",
   "metadata": {
    "id": "eSc50HxYiGUi"
   },
   "outputs": [],
   "source": [
    "train_2023 = train_2023.iloc[:,-94:]"
   ]
  },
  {
   "cell_type": "markdown",
   "id": "HZrx13NqjVaE",
   "metadata": {
    "id": "HZrx13NqjVaE"
   },
   "source": [
    "# 위에서 필터링한 데이터중, 2023년 데이터 판매량이 0 인경우~ submissio2 로 빼줌과 동시에 데이터셋에서 삭제."
   ]
  },
  {
   "cell_type": "code",
   "execution_count": null,
   "id": "FqW1OBJ9iGWG",
   "metadata": {
    "id": "FqW1OBJ9iGWG"
   },
   "outputs": [],
   "source": [
    "train_2023_zero = train_2023[train_2023.mean(axis=1)==0]"
   ]
  },
  {
   "cell_type": "code",
   "execution_count": null,
   "id": "_JQYxPWAiGbi",
   "metadata": {
    "id": "_JQYxPWAiGbi"
   },
   "outputs": [],
   "source": [
    "submission2 = submission.iloc[train_2023_zero.index]"
   ]
  },
  {
   "cell_type": "code",
   "execution_count": null,
   "id": "7V4fnJlViGeD",
   "metadata": {
    "colab": {
     "base_uri": "https://localhost:8080/",
     "height": 253
    },
    "id": "7V4fnJlViGeD",
    "outputId": "a7d97937-a887-47ee-87a3-5b9461f8de60"
   },
   "outputs": [],
   "source": [
    "submission2.head(5)"
   ]
  },
  {
   "cell_type": "code",
   "execution_count": null,
   "id": "V3NxYwwiiGgb",
   "metadata": {
    "id": "V3NxYwwiiGgb"
   },
   "outputs": [],
   "source": [
    "train_2023_notzero = train_2023.loc[list(set(train_2023.index)-set(train_2023_zero.index))]"
   ]
  },
  {
   "cell_type": "code",
   "execution_count": null,
   "id": "3wcO_TkRiGkr",
   "metadata": {
    "colab": {
     "base_uri": "https://localhost:8080/"
    },
    "id": "3wcO_TkRiGkr",
    "outputId": "3d0acf2b-b97e-4f1e-fdd0-ec3c9e2f391f"
   },
   "outputs": [],
   "source": [
    "train_2023_notzero.std(axis=1).describe()"
   ]
  },
  {
   "cell_type": "code",
   "execution_count": null,
   "id": "12dQmhf2nWjo",
   "metadata": {
    "id": "12dQmhf2nWjo"
   },
   "outputs": [],
   "source": [
    "data = train_2023_notzero.T\n",
    "ID_list = data.columns\n",
    "datanew_columns = list(range(len(data.columns)))\n",
    "data.columns = datanew_columns"
   ]
  },
  {
   "cell_type": "markdown",
   "id": "AX5iwe-1tCBC",
   "metadata": {
    "id": "AX5iwe-1tCBC"
   },
   "source": [
    "# Prophet 을 활용하여 단기간 예측"
   ]
  },
  {
   "cell_type": "code",
   "execution_count": null,
   "id": "vleqMxH9nWjw",
   "metadata": {
    "colab": {
     "base_uri": "https://localhost:8080/",
     "height": 1000
    },
    "id": "vleqMxH9nWjw",
    "outputId": "2a7bc0ea-4f22-4a5e-a537-70ac7355c5a5"
   },
   "outputs": [],
   "source": [
    "forecast_list = []\n",
    "\n",
    "for i in range(0,len(data.columns)):\n",
    "  train_1 = data[i]\n",
    "  train_1 = pd.DataFrame(train_1)\n",
    "  train_1.reset_index(inplace=True)\n",
    "  train_1.columns = ['ds','y']\n",
    "  train_1['ds'] = pd.to_datetime(train_1['ds'])\n",
    "\n",
    "  train_1['extra_weight'] = 1.0  # 기본 가중치\n",
    "  train_1.loc[train_1['ds'] >= train_1['ds'].max() - pd.Timedelta(days=28), 'extra_weight'] = 1.0  # 마지막 1주일에 더 높은 가중치 설정\n",
    "\n",
    "  m = Prophet(\n",
    "    changepoint_prior_scale=0.3,\n",
    "    weekly_seasonality=5,\n",
    "    daily_seasonality = True,\n",
    "    seasonality_mode='multiplicative'\n",
    "    )\n",
    "  m.add_regressor('extra_weight')\n",
    "  m.add_seasonality(name='monthly', period=30.5, fourier_order=3)\n",
    "  m.fit(train_1)\n",
    "  future = m.make_future_dataframe(periods=21)\n",
    "  future['extra_weight'] = 1.0  # 미래 날짜에는 기본 가중치로 설정\n",
    "  forecast = m.predict(future)\n",
    "  forecast_list.append(forecast['yhat'][-21:])\n",
    "  fig1 = m.plot(forecast)\n"
   ]
  },
  {
   "cell_type": "code",
   "execution_count": null,
   "id": "_pRRr8nvnWjw",
   "metadata": {
    "id": "_pRRr8nvnWjw"
   },
   "outputs": [],
   "source": [
    "t = pd.DataFrame()\n",
    "for i in range(len(forecast_list)):\n",
    "  a = pd.DataFrame(forecast_list[i])\n",
    "  k = a.T\n",
    "  k.reset_index(inplace=True)\n",
    "  k['index'] = ID_list[i]\n",
    "  t = pd.concat([t,k],axis=0)\n",
    "\n",
    "t[t<0] = 0"
   ]
  },
  {
   "cell_type": "code",
   "execution_count": null,
   "id": "gn2P3m05nLIn",
   "metadata": {
    "id": "gn2P3m05nLIn"
   },
   "outputs": [],
   "source": [
    "IDlist = t['index']\n",
    "submission3 = submission.loc[IDlist]\n",
    "t.columns = submission3.columns"
   ]
  },
  {
   "cell_type": "code",
   "execution_count": null,
   "id": "LfwSHmYdnLLK",
   "metadata": {
    "id": "LfwSHmYdnLLK"
   },
   "outputs": [],
   "source": [
    "t.reset_index(drop=True,inplace=True)\n",
    "t = np.round(t)"
   ]
  },
  {
   "cell_type": "code",
   "execution_count": null,
   "id": "M6EvPTdPnLNF",
   "metadata": {
    "id": "M6EvPTdPnLNF"
   },
   "outputs": [],
   "source": [
    "submission3 = t"
   ]
  },
  {
   "cell_type": "code",
   "execution_count": null,
   "id": "vjufkSbvnLPU",
   "metadata": {
    "colab": {
     "base_uri": "https://localhost:8080/"
    },
    "id": "vjufkSbvnLPU",
    "outputId": "c7161aba-a153-462a-cbba-0e3361ef06f2"
   },
   "outputs": [],
   "source": [
    "len(submission2) + len(submission3)"
   ]
  },
  {
   "cell_type": "markdown",
   "id": "G7KsvTWfvsGa",
   "metadata": {
    "id": "G7KsvTWfvsGa"
   },
   "source": [
    "# 2022년 부터 다사용할 데이터"
   ]
  },
  {
   "cell_type": "code",
   "execution_count": null,
   "id": "5fVELaIAnLRQ",
   "metadata": {
    "id": "5fVELaIAnLRQ"
   },
   "outputs": [],
   "source": [
    "train_2022 = train1.loc[list(set(train1.index)-set(train_2023.index))]"
   ]
  },
  {
   "cell_type": "code",
   "execution_count": null,
   "id": "Wqdw4E6Hv1JA",
   "metadata": {
    "colab": {
     "base_uri": "https://localhost:8080/"
    },
    "id": "Wqdw4E6Hv1JA",
    "outputId": "4ce43229-69f0-4e5f-9fef-3d764590e454"
   },
   "outputs": [],
   "source": [
    "len(train) - len(train_2022) - len(train_2023) - len(submission1)"
   ]
  },
  {
   "cell_type": "code",
   "execution_count": null,
   "id": "LZ0JjceVwX3-",
   "metadata": {
    "colab": {
     "base_uri": "https://localhost:8080/"
    },
    "id": "LZ0JjceVwX3-",
    "outputId": "25d38e74-6aae-44cd-a5b7-b40d6275f6a6"
   },
   "outputs": [],
   "source": [
    "len(train_2022)"
   ]
  },
  {
   "cell_type": "markdown",
   "id": "xr-GOQgDxJiE",
   "metadata": {
    "id": "xr-GOQgDxJiE"
   },
   "source": [
    "# 2022년부터 데이터가 있는 경우, 최근 한달 데이터가 모두 0인 경우 -> submission4 로 0이라고 예측"
   ]
  },
  {
   "cell_type": "code",
   "execution_count": null,
   "id": "vtV_Qa20nLTS",
   "metadata": {
    "id": "vtV_Qa20nLTS"
   },
   "outputs": [],
   "source": [
    "train_2022_zero = train_2022[train_2022.iloc[:,-30:].mean(axis=1)==0]"
   ]
  },
  {
   "cell_type": "code",
   "execution_count": null,
   "id": "oV4YPOgDnLVa",
   "metadata": {
    "id": "oV4YPOgDnLVa"
   },
   "outputs": [],
   "source": [
    "submission4 = submission.iloc[train_2022_zero.index]"
   ]
  },
  {
   "cell_type": "code",
   "execution_count": null,
   "id": "ClNCs0bZnLXM",
   "metadata": {
    "id": "ClNCs0bZnLXM"
   },
   "outputs": [],
   "source": [
    "train_2022_notzero = train_2022.loc[list(set(train_2022.index)-set(train_2022_zero.index))]"
   ]
  },
  {
   "cell_type": "markdown",
   "id": "Vg00X9wI1eDk",
   "metadata": {
    "id": "Vg00X9wI1eDk"
   },
   "source": [
    "# 최근 일주일간 평균이 최근 90일간 평균보다 높고 최근 90일간 평균이 최근 일주일을 제외한 90일 동안의 평균보다 클경우."
   ]
  },
  {
   "cell_type": "code",
   "execution_count": null,
   "id": "gQelFLx1nLbs",
   "metadata": {
    "id": "gQelFLx1nLbs"
   },
   "outputs": [],
   "source": [
    "condition1 = train_2022_notzero.iloc[:,-7:].mean(axis=1) > train_2022_notzero.iloc[:,-90:].mean(axis=1)\n",
    "condition2 = train_2022_notzero.iloc[:,-90:-7].mean(axis=1) < train_2022_notzero.iloc[:,-90:].mean(axis=1)\n",
    "\n",
    "train_2022_stat = train_2022_notzero[condition1 & condition2]"
   ]
  },
  {
   "cell_type": "code",
   "execution_count": null,
   "id": "Axg-TFpc0MmT",
   "metadata": {
    "id": "Axg-TFpc0MmT"
   },
   "outputs": [],
   "source": [
    "selected_data = train_2022_stat.iloc[:, -7:]\n",
    "row_means = selected_data.apply(lambda row: np.mean(row[row != 0]), axis=1)\n"
   ]
  },
  {
   "cell_type": "code",
   "execution_count": null,
   "id": "G7IzMJnkmgB0",
   "metadata": {
    "colab": {
     "base_uri": "https://localhost:8080/"
    },
    "id": "G7IzMJnkmgB0",
    "outputId": "a4c8fd3d-da2a-4678-957b-13631bf1b997"
   },
   "outputs": [],
   "source": [
    "row_means"
   ]
  },
  {
   "cell_type": "code",
   "execution_count": null,
   "id": "zVst8W5rmgEu",
   "metadata": {
    "id": "zVst8W5rmgEu"
   },
   "outputs": [],
   "source": [
    "submission5 = submission.iloc[train_2022_stat.index]"
   ]
  },
  {
   "cell_type": "code",
   "execution_count": null,
   "id": "HDU_FO_AmgHV",
   "metadata": {
    "id": "HDU_FO_AmgHV"
   },
   "outputs": [],
   "source": [
    "data_filled = submission5.iloc[:,1:].apply(lambda _: row_means, axis=0)\n"
   ]
  },
  {
   "cell_type": "code",
   "execution_count": null,
   "id": "Lo1EtmqrmgJB",
   "metadata": {
    "id": "Lo1EtmqrmgJB"
   },
   "outputs": [],
   "source": [
    "submission5 = pd.concat([submission5.iloc[:,0],data_filled],axis=1)"
   ]
  },
  {
   "cell_type": "markdown",
   "id": "JYNbRZUx1cZb",
   "metadata": {
    "id": "JYNbRZUx1cZb"
   },
   "source": []
  },
  {
   "cell_type": "code",
   "execution_count": null,
   "id": "QyrjVhdaz_FJ",
   "metadata": {
    "id": "QyrjVhdaz_FJ"
   },
   "outputs": [],
   "source": [
    "train_2022_notstat = train_2022.loc[list(set(train_2022_notzero.index)-set(train_2022_stat.index))]"
   ]
  },
  {
   "cell_type": "code",
   "execution_count": null,
   "id": "SEobthf49D9x",
   "metadata": {
    "colab": {
     "base_uri": "https://localhost:8080/",
     "height": 615
    },
    "id": "SEobthf49D9x",
    "outputId": "f963bd6c-2511-4d11-9e7e-266c3a537f61"
   },
   "outputs": [],
   "source": [
    "train_2022_notstat"
   ]
  },
  {
   "cell_type": "code",
   "execution_count": null,
   "id": "orEAfhmn1alM",
   "metadata": {
    "id": "orEAfhmn1alM"
   },
   "outputs": [],
   "source": [
    "data = train_2022_notstat.T\n",
    "data = data.iloc[6:,:]\n",
    "ID_list = data.columns\n",
    "datanew_columns = list(range(len(data.columns)))\n",
    "data.columns = datanew_columns"
   ]
  },
  {
   "cell_type": "code",
   "execution_count": null,
   "id": "rqKG94Y71anZ",
   "metadata": {
    "colab": {
     "base_uri": "https://localhost:8080/",
     "height": 1000
    },
    "id": "rqKG94Y71anZ",
    "outputId": "94360db2-1e3c-4651-9953-655359d02c55"
   },
   "outputs": [],
   "source": [
    "forecast_list = []\n",
    "\n",
    "for i in range(0,len(data.columns)):\n",
    "  train_1 = data[i][data[i]!=0]\n",
    "  train_1 = pd.DataFrame(train_1)\n",
    "  train_1.reset_index(inplace=True)\n",
    "  train_1.columns = ['ds','y']\n",
    "  train_1['ds'] = pd.to_datetime(train_1['ds'])\n",
    "\n",
    "  train_1['extra_weight'] = 1.0  # 기본 가중치\n",
    "  train_1.loc[train_1['ds'] >= train_1['ds'].max() - pd.Timedelta(days=7), 'extra_weight'] = 1.0  # 마지막 1주일에 더 높은 가중치 설정\n",
    "\n",
    "  m = Prophet(\n",
    "    changepoint_prior_scale=0.3,\n",
    "    weekly_seasonality=7,\n",
    "    daily_seasonality = True,\n",
    "    seasonality_mode='multiplicative'\n",
    "    )\n",
    "  m.add_regressor('extra_weight')\n",
    "  m.add_seasonality(name='monthly', period=30.5, fourier_order=12)\n",
    "  m.fit(train_1)\n",
    "  future = m.make_future_dataframe(periods=21)\n",
    "  future['extra_weight'] = 1.0  # 미래 날짜에는 기본 가중치로 설정\n",
    "  forecast = m.predict(future)\n",
    "  forecast_list.append(forecast['yhat'][-21:])\n",
    "  fig1 = m.plot(forecast)"
   ]
  },
  {
   "cell_type": "code",
   "execution_count": null,
   "id": "eiIAqNxlz_Hm",
   "metadata": {
    "id": "eiIAqNxlz_Hm"
   },
   "outputs": [],
   "source": [
    "t2 = pd.DataFrame()\n",
    "for i in range(len(forecast_list)):\n",
    "  a = pd.DataFrame(forecast_list[i])\n",
    "  k = a.T\n",
    "  k.reset_index(inplace=True)\n",
    "  k.columns = submission.columns\n",
    "  k['ID'] = ID_list[i]\n",
    "  t2 = pd.concat([t2,k],axis=0)\n",
    "\n",
    "t2[t2<0] = 0"
   ]
  },
  {
   "cell_type": "code",
   "execution_count": null,
   "id": "ZiAUmBCO8Zk6",
   "metadata": {
    "colab": {
     "base_uri": "https://localhost:8080/",
     "height": 441
    },
    "id": "ZiAUmBCO8Zk6",
    "outputId": "c0b720de-8681-49ec-c87e-e5f61e65eb1c"
   },
   "outputs": [],
   "source": [
    "t2"
   ]
  },
  {
   "cell_type": "code",
   "execution_count": null,
   "id": "FFndeXdU8Ydw",
   "metadata": {
    "id": "FFndeXdU8Ydw"
   },
   "outputs": [],
   "source": [
    "t2.reset_index(drop=True,inplace=True)\n",
    "t2 = np.round(t2)"
   ]
  },
  {
   "cell_type": "code",
   "execution_count": null,
   "id": "UOooSohm_6nh",
   "metadata": {
    "colab": {
     "base_uri": "https://localhost:8080/",
     "height": 441
    },
    "id": "UOooSohm_6nh",
    "outputId": "3a4ed094-f419-4af9-8f87-7aa69f546d7b"
   },
   "outputs": [],
   "source": [
    "t2"
   ]
  },
  {
   "cell_type": "code",
   "execution_count": null,
   "id": "HIRhBzLQ8Ydw",
   "metadata": {
    "id": "HIRhBzLQ8Ydw"
   },
   "outputs": [],
   "source": [
    "submission6 = t2"
   ]
  },
  {
   "cell_type": "code",
   "execution_count": null,
   "id": "DmwwDZH98Ydw",
   "metadata": {
    "colab": {
     "base_uri": "https://localhost:8080/"
    },
    "id": "DmwwDZH98Ydw",
    "outputId": "8a985267-82fa-442c-d79f-f62feada11be"
   },
   "outputs": [],
   "source": [
    "len(submission1) + len(submission2) + len(submission3) + len(submission4) + len(submission5) + len(submission6)"
   ]
  },
  {
   "cell_type": "code",
   "execution_count": null,
   "id": "0DQp6BiRz_LZ",
   "metadata": {
    "id": "0DQp6BiRz_LZ"
   },
   "outputs": [],
   "source": [
    "final_data = pd.concat([submission1,submission2,submission3,submission4,submission5,submission6],axis=0)"
   ]
  },
  {
   "cell_type": "code",
   "execution_count": null,
   "id": "DU1lyHFIz_Nh",
   "metadata": {
    "colab": {
     "base_uri": "https://localhost:8080/"
    },
    "id": "DU1lyHFIz_Nh",
    "outputId": "c8aeea7b-3b73-40eb-aeea-7094420824e6"
   },
   "outputs": [],
   "source": [
    "final_data.iloc[:,1:] = np.round(final_data.iloc[:,1:],0).astype(int)"
   ]
  },
  {
   "cell_type": "code",
   "execution_count": null,
   "id": "DUZVcuPoz_R7",
   "metadata": {
    "id": "DUZVcuPoz_R7"
   },
   "outputs": [],
   "source": [
    "final_submission = final_data.sort_values(by='ID')"
   ]
  },
  {
   "cell_type": "code",
   "execution_count": null,
   "id": "kLho02U1z_Tt",
   "metadata": {
    "colab": {
     "base_uri": "https://localhost:8080/",
     "height": 441
    },
    "id": "kLho02U1z_Tt",
    "outputId": "9cf05cda-e192-47ca-b9af-272cd310a4dc"
   },
   "outputs": [],
   "source": [
    "final_submission"
   ]
  },
  {
   "cell_type": "code",
   "execution_count": null,
   "id": "9wNiUFIaBW9F",
   "metadata": {
    "id": "9wNiUFIaBW9F"
   },
   "outputs": [],
   "source": [
    "final_submission.to_csv('/content/drive/MyDrive/LG_AIMERS/20230901_대분류5번.csv', index=False)"
   ]
  },
  {
   "cell_type": "code",
   "execution_count": null,
   "id": "JDox5WHiBd21",
   "metadata": {
    "id": "JDox5WHiBd21"
   },
   "outputs": [],
   "source": []
  }
 ],
 "metadata": {
  "accelerator": "GPU",
  "colab": {
   "gpuType": "A100",
   "machine_shape": "hm",
   "provenance": []
  },
  "kernelspec": {
   "display_name": "Python 3 (ipykernel)",
   "language": "python",
   "name": "python3"
  },
  "language_info": {
   "codemirror_mode": {
    "name": "ipython",
    "version": 3
   },
   "file_extension": ".py",
   "mimetype": "text/x-python",
   "name": "python",
   "nbconvert_exporter": "python",
   "pygments_lexer": "ipython3",
   "version": "3.8.5"
  }
 },
 "nbformat": 4,
 "nbformat_minor": 5
}
